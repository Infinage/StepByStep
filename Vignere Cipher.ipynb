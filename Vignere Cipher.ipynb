{
 "cells": [
  {
   "cell_type": "markdown",
   "metadata": {},
   "source": [
    "## Question:\n",
    "\n",
    "Given a plaintext and a key k, write a python script to convert it into cipher text using **Vignere cipher**. Also write functions for decrypting it.\n",
    "\n",
    "#### A bit of Background:\n",
    "Vignere Cipher is a *polyalphabetic substitution* cipher. Vignere cipher is very similar to *Caesar Cipher* except that the shift for each alphabet of the plain text varies based on it's relative position in the plain text and the corresponding shift value in key. \n",
    "\n",
    "Simply put, instead of having a single shift value, a vignere cipher key has an array of shift values that determine the shift to be made for each alphabet. We understand this better using a simple example:\n",
    "\n",
    "Say we are given a key `k = BOMB` (*We have an array of keys as opposed having a single key*) <br>\n",
    "We are also given a `text = Bomb Tonight Or We'd Get Bombed!`<br>\n",
    "\n",
    "<u>For Encryption:</u>\n",
    "\n",
    "Each alphabet in the key denotes a shift value. For example, character \"B\" in the key implies \"A -> B\" meaning a shift value of 1. Similarly character \"O\" in the key implies \"A -> O\" meaning a shift value of 14, etc. Encryption is accomplished by placing the Keys corresponding to the position of characters in plain text. These keys are used in cyclical fashion one after another. \n",
    "\n",
    "Strictly speaking, white spaces & special characters in the plain text need to be removed before encryption. But for the sake of simplicity let's ignore these characters instead of removing them. \n",
    "\n",
    "For the above example, this would look something like this:\n",
    "\n",
    "|             |   |   |    |    |   |   |   |    |    |   |   |    |    |   |   |   |   |    |    |   |   |   |   |    |    |   |   |   |    |    |   |   |   |\n",
    "|-------------|---|---|----|----|---|---|---|----|----|---|---|----|----|---|---|---|---|----|----|---|---|---|---|----|----|---|---|---|----|----|---|---|---|\n",
    "| PLAIN TEXT  |   | B | o  | m  | b |   | T | o  | n  | i | g | h  | t  |   | O | r |   | W  | e  | ' | d |   | G | e  | t  |   | B | o | m  | b  | e | d | ! |\n",
    "| KEY         |   | B | O  | M  | B |   | B | O  | M  | B | B | O  | M  |   | B | B |   | O  | M  |   | B |   | B | O  | M  |   | B | B | O  | M  | B | B |   |\n",
    "| SHIFT VALUE |   | 1 | 14 | 12 | 1 |   | 1 | 14 | 12 | 1 | 1 | 14 | 12 |   | 1 | 1 |   | 14 | 12 |   | 1 |   | 1 | 14 | 12 |   | 1 | 1 | 14 | 12 | 1 | 1 |   |\n",
    "\n",
    "Armed with such a table, we can then perform caesar cipher shifts based on the alphabets corresponding shift value. \n",
    "\n",
    "Table for shift value of 1 (B):\n",
    "\n",
    "|   |   |   |   |   |   |   |   |   |   |   |   |   |   |   |   |   |   |   |   |   |   |   |   |   |   |\n",
    "|---|---|---|---|---|---|---|---|---|---|---|---|---|---|---|---|---|---|---|---|---|---|---|---|---|---|\n",
    "| a | b | c | d | e | f | g | h | i | j | k | l | m | n | o | p | q | r | s | t | u | v | w | x | y | z |\n",
    "| b | c | d | e | f | g | h | i | j | k | l | m | n | o | p | q | r | s | t | u | v | w | x | y | z | a |\n",
    "\n",
    "\n",
    "Table for shift value of 14 (O):\n",
    "\n",
    "|   |   |   |   |   |   |   |   |   |   |   |   |   |   |   |   |   |   |   |   |   |   |   |   |   |   |\n",
    "|---|---|---|---|---|---|---|---|---|---|---|---|---|---|---|---|---|---|---|---|---|---|---|---|---|---|\n",
    "| a | b | c | d | e | f | g | h | i | j | k | l | m | n | o | p | q | r | s | t | u | v | w | x | y | z |\n",
    "| o | p | q | r | s | t | u | v | w | x | y | z | a | b | c | d | e | f | g | h | i | j | k | l | m | n |\n",
    "\n",
    "Table for shift value of 12 (M):\n",
    "\n",
    "|   |   |   |   |   |   |   |   |   |   |   |   |   |   |   |   |   |   |   |   |   |   |   |   |   |   |\n",
    "|---|---|---|---|---|---|---|---|---|---|---|---|---|---|---|---|---|---|---|---|---|---|---|---|---|---|\n",
    "| a | b | c | d | e | f | g | h | i | j | k | l | m | n | o | p | q | r | s | t | u | v | w | x | y | z |\n",
    "| m | n | o | p | q | r | s | t | u | v | w | x | y | z | a | b | c | d | e | f | g | h | i | j | k | l |\n",
    "\n",
    "\n",
    "Combining all the above tables the encrypted text can be inferred from the following table:\n",
    "\n",
    "|             |   |   |    |    |   |   |   |    |    |   |   |    |    |   |   |   |   |    |    |   |   |   |   |    |    |   |   |   |    |    |   |   |   |\n",
    "|-------------|---|---|----|----|---|---|---|----|----|---|---|----|----|---|---|---|---|----|----|---|---|---|---|----|----|---|---|---|----|----|---|---|---|\n",
    "| PLAIN TEXT  |   | B | o  | m  | b |   | T | o  | n  | i | g | h  | t  |   | O | r |   | W  | e  | ' | d |   | G | e  | t  |   | B | o | m  | b  | e | d | ! |\n",
    "| KEY         |   | B | O  | M  | B |   | B | O  | M  | B | B | O  | M  |   | B | B |   | O  | M  |   | B |   | B | O  | M  |   | B | B | O  | M  | B | B |   |\n",
    "| SHIFT VALUE |   | 1 | 14 | 12 | 1 |   | 1 | 14 | 12 | 1 | 1 | 14 | 12 |   | 1 | 1 |   | 14 | 12 |   | 1 |   | 1 | 14 | 12 |   | 1 | 1 | 14 | 12 | 1 | 1 |   |\n",
    "|             |   |   |    |    |   |   |   |    |    |   |   |    |    |   |   |   |   |    |    |   |   |   |   |    |    |   |   |   |    |    |   |   |   |\n",
    "| CIPER TEXT  |   | C | c  | y  | c |   | U | c  | z  | j | h | v  | f  |   | P | s |   | K  | q  | ' | e |   | H | s  | f  |   | C | p | a  | n  | f | e | ! |\n",
    "\n",
    "Encrypted Message: `Ccyc Uczjhvf Ps Kq'e Hsf Cpanfe!`\n",
    "\n",
    "<u>For Decyrption:</u>\n",
    "\n",
    "For decryption we repeat the same process of aligning keys with the ciper text. But instead of having a positive key as in case of encryption we use a negative key.\n",
    "\n",
    "|               |   |    |     |     |    |   |    |     |     |    |    |     |     |   |    |    |   |     |     |   |    |   |    |     |     |   |    |    |     |     |    |    |   |\n",
    "|---------------|---|----|-----|-----|----|---|----|-----|-----|----|----|-----|-----|---|----|----|---|-----|-----|---|----|---|----|-----|-----|---|----|----|-----|-----|----|----|---|\n",
    "| PLAIN TEXT    |   | B  | o   | m   | b  |   | T  | o   | n   | i  | g  | h   | t   |   | O  | r  |   | W   | e   | ' | d  |   | G  | e   | t   |   | B  | o  | m   | b   | e  | d  | ! |\n",
    "| KEY           |   | B  | O   | M   | B  |   | B  | O   | M   | B  | B  | O   | M   |   | B  | B  |   | O   | M   |   | B  |   | B  | O   | M   |   | B  | B  | O   | M   | B  | B  |   |\n",
    "| SHIFT VALUE   |   | 1  | 14  | 12  | 1  |   | 1  | 14  | 12  | 1  | 1  | 14  | 12  |   | 1  | 1  |   | 14  | 12  |   | 1  |   | 1  | 14  | 12  |   | 1  | 1  | 14  | 12  | 1  | 1  |   |\n",
    "|               |   |    |     |     |    |   |    |     |     |    |    |     |     |   |    |    |   |     |     |   |    |   |    |     |     |   |    |    |     |     |    |    |   |\n",
    "| CIPER TEXT    |   | C  | c   | y   | c  |   | U  | c   | z   | j  | h  | v   | f   |   | P  | s  |   | K   | q   | ' | e  |   | H  | s   | f   |   | C  | p  | a   | n   | f  | e  | ! |\n",
    "| KEY           |   | B  | O   | M   | B  |   | B  | O   | M   | B  | B  | O   | M   |   | B  | B  |   | O   | M   |   | B  |   | B  | O   | M   |   | B  | B  | O   | M   | B  | B  |   |\n",
    "| NEG SHIFT KEY |   | -1 | -14 | -12 | -1 |   | -1 | -14 | -12 | -1 | -1 | -14 | -12 |   | -1 | -1 |   | -14 | -12 |   | -1 |   | -1 | -14 | -12 |   | -1 | -1 | -14 | -12 | -1 | -1 |   |\n",
    "|               |   |    |     |     |    |   |    |     |     |    |    |     |     |   |    |    |   |     |     |   |    |   |    |     |     |   |    |    |     |     |    |    |   |\n",
    "| DECRYPTED     |   | B  | o   | m   | b  |   | T  | o   | n   | i  | g  | h   | t   |   | O  | r  |   | W   | e   | ' | d  |   | G  | e   | t   |   | B  | o  | m   | b   | e  | d  | ! |\n",
    "\n",
    "We get back the decrypted Message as: `Bomb Tonight Or We'd Get Bombed!`"
   ]
  },
  {
   "cell_type": "markdown",
   "metadata": {},
   "source": [
    "### Step 1:\n",
    "Create a very simple solution. Cheat if you have to. This step is to help us understand the problem better and in more depth. Understandably a lot of problems don't have such easy or quick solutions, in those cases skip to STEP 2 & workout the problem BY HAND. \n",
    "\n",
    "There are plenty of online solutions available for our aid. We would be using [Cryptii](https://cryptii.com/pipes/vigenere-cipher) for verifying our answers."
   ]
  },
  {
   "cell_type": "markdown",
   "metadata": {},
   "source": [
    "### Step 2: \n",
    "\n",
    "In order to solve a programming problem, we need to understand the problem ourselves first. Efficient solutions can only be discovered if YOU have a thorough understanding of the problem.\n",
    "\n",
    "I won't be solving any more problems in this step. But I strongly urge you to solve atleast 2 of the 5 sample questions below by hand (encrypt and try to get back plain text by decryption). This would help you get a strong indepth understanding of how the problem can be solved.\n",
    "\n",
    "A general tip to milk the most benefits out of this step is to create and solve for sample problems that can be called as *corner test cases*. Ask questions and formulate problems such that it would help us understand the problem in depth with the least number of problems solved. \n",
    "\n",
    "*What happens when the key is just a single character?*<br>\n",
    "*What happens when the key contains special characters in them?*<br>\n",
    "*What if all the characters in the key are the same, say: \"aaaaaaa\"?*\n",
    "\n",
    "Sample Problems:\n",
    "\n",
    "| S No. | Key  | Plain Text |\n",
    "|-------|------|------------|\n",
    "| 1     | AaAa | Python     |\n",
    "| 2     | BbBb | Javascript |\n",
    "| 3     | Zed  | Julia      |\n",
    "| 4     | XYZ  | Scala      |\n",
    "| 5     | ABC  | Matlab     |\n",
    "\n",
    "After solving, you can verify your answers [here](https://cryptii.com/pipes/vigenere-cipher)."
   ]
  },
  {
   "cell_type": "markdown",
   "metadata": {},
   "source": [
    "### Step 3:\n",
    "\n",
    "At this stage, we analyze and workout a rough algorithm. Here are our observations from previous step:\n",
    "\n",
    "- Vignere Cipher is plain Caesar Cipher with varying keys based on position\n",
    "- We ignore space and special characters from the plain text and return them without modifications\n",
    "- Changing case in the key, does not affect the encryption result.\n",
    "\n",
    "For any given problem there are plenty of ways to solve it. Below is an idea that I came with. My role is merely to provide you with an easy to follow sample solution. Feel free to modify or try to come up with better solutions.\n",
    "\n",
    "*Note that we would be resuing the solution of our previous notebook: **Caesar Cipher**. So please consider checking that notebook before before checking this one out.*\n",
    "        \n",
    "    1. Have a counter incremented simaltaneously while traversing through the plain text.\n",
    "    2. If counter value exceeds the len of characters in key, reset it to 0. (it needs to be circular)\n",
    "    3. Find the shift value to be made for that each character, using current value of Counter\n",
    "    4. Using this shift value, perform a Caesar Cipher Shift this would be the encrypted character\n",
    "    5. Append the encrypted character to encrypted Text\n",
    "    6. Return the encrypted text after all characters of plain text were encoded sucessfully"
   ]
  },
  {
   "cell_type": "markdown",
   "metadata": {},
   "source": [
    "### Step 4:\n",
    "\n",
    "Let's start building our code piece by piece. We will create several 'versions' of our actual function. Each version being built on top of the previous work that we had tested to be working right.\n",
    "\n",
    "The part you've all been waiting for! Let's get started. \n",
    "\n",
    "We'll firstly be copy pasting essential snippets from our previous notebook: *Caesar Cipher*."
   ]
  },
  {
   "cell_type": "code",
   "execution_count": 82,
   "metadata": {},
   "outputs": [],
   "source": [
    "# creating a list of alphabets\n",
    "alphabets = [chr(i) for i in range(97, 97+26)]"
   ]
  },
  {
   "cell_type": "markdown",
   "metadata": {},
   "source": [
    "##### `Note` on chr *function*:\n",
    "\n",
    "chr function is used for converting an *Unicode Code point* i.e., in non fancy terms an integer equivalent of a string to Unicode String Representation.\n",
    "\n",
    "The unicode code point of 'a' is 97<br>\n",
    "The unicode code point of 'A' is 65<br>\n",
    "\n",
    "Knowing these two, it is much simpler to create a list of alphabets by using *list manipulation* rather than typing them manually, which is what was done in the above code snippet."
   ]
  },
  {
   "cell_type": "code",
   "execution_count": 83,
   "metadata": {},
   "outputs": [],
   "source": [
    "def encode(char, key, alphabets=alphabets):\n",
    "    '''\n",
    "    Encodes/Decodes a character based on a key.\n",
    "    \n",
    "    Alphabets could be created inside the function itself. But creating a list of alphabets every single time\n",
    "    we want to encrypt a character would be a waste of resource. So we pass list of alphabets as a `default` parameter.\n",
    "    '''\n",
    "    \n",
    "    # isalpha() is True when char \n",
    "    # is an alphabet, else False\n",
    "    if not char.isalpha():\n",
    "        return char\n",
    "    \n",
    "    # caseConvert is a switch to remind us \n",
    "    # upper case to lower and then back before returning\n",
    "    if char.isupper():\n",
    "        case_convert = True\n",
    "    else:\n",
    "        case_convert = False\n",
    "        \n",
    "    # even when key is less than 26 say 1, 1 % 26 = 1\n",
    "    # % is the modulus operator\n",
    "    key = key % 26    \n",
    "    \n",
    "    encoded_index = alphabets.index(char.lower()) + key\n",
    "    \n",
    "    if encoded_index >= 26:\n",
    "        \n",
    "        # encoded_index = 26, actually implies 0\n",
    "        # encoded_index = 27, actually implies 1 and so on\n",
    "        encoded_index = encoded_index - 26\n",
    "        \n",
    "    encoded_char = alphabets[encoded_index]\n",
    "    \n",
    "    if case_convert:\n",
    "        return encoded_char.upper()\n",
    "    else:\n",
    "        return encoded_char"
   ]
  },
  {
   "cell_type": "code",
   "execution_count": 84,
   "metadata": {},
   "outputs": [],
   "source": [
    "# verify encode works as expected\n",
    "assert encode(\"a\", 1) == \"b\""
   ]
  },
  {
   "cell_type": "markdown",
   "metadata": {},
   "source": [
    "`Note` on assert *keyword*:\n",
    "\n",
    "assert keyword helps in placing periodic checks in our code. It is incredibly helpful especially when we build our code in a trial and error fashion. Strategically placing assertion statements can save us a ton of time that would be wasted otherwise in debugging errors.\n",
    "\n",
    "The syntax is as follows: assert <condition>. It is really that simple. It throws an error if the condition is False and if the condition evaluates to True it does nothing and lets the program to proceed. Assertion statements are more like tollgates that ensure the program is proceeding as it should be proceeding."
   ]
  },
  {
   "cell_type": "code",
   "execution_count": 85,
   "metadata": {},
   "outputs": [
    {
     "ename": "AssertionError",
     "evalue": "",
     "output_type": "error",
     "traceback": [
      "\u001b[0;31m---------------------------------------------------------------------------\u001b[0m",
      "\u001b[0;31mAssertionError\u001b[0m                            Traceback (most recent call last)",
      "\u001b[0;32m<ipython-input-85-2b05b42c934d>\u001b[0m in \u001b[0;36m<module>\u001b[0;34m\u001b[0m\n\u001b[1;32m      3\u001b[0m \u001b[0;34m\u001b[0m\u001b[0m\n\u001b[1;32m      4\u001b[0m \u001b[0;31m# throws an AssertionError\u001b[0m\u001b[0;34m\u001b[0m\u001b[0;34m\u001b[0m\u001b[0;34m\u001b[0m\u001b[0m\n\u001b[0;32m----> 5\u001b[0;31m \u001b[0;32massert\u001b[0m \u001b[0;32mFalse\u001b[0m\u001b[0;34m\u001b[0m\u001b[0;34m\u001b[0m\u001b[0m\n\u001b[0m",
      "\u001b[0;31mAssertionError\u001b[0m: "
     ]
    }
   ],
   "source": [
    "# # Does nothing\n",
    "# assert True\n",
    "\n",
    "# throws an AssertionError\n",
    "assert False"
   ]
  },
  {
   "cell_type": "code",
   "execution_count": 86,
   "metadata": {},
   "outputs": [],
   "source": [
    "# sample plain text and key to play around with\n",
    "key = \"BOMB\"\n",
    "text = \"Bomb Tonight Or We'd Get Bombed!\""
   ]
  },
  {
   "cell_type": "markdown",
   "metadata": {},
   "source": [
    "Firstly step would be disregard the case of key."
   ]
  },
  {
   "cell_type": "code",
   "execution_count": 87,
   "metadata": {},
   "outputs": [],
   "source": [
    "def encode_vignere(text, key, alphabets=alphabets):\n",
    "    '''\n",
    "    Given a text and a key, performs vignere cipher encryption/decryption and returns it.\n",
    "    \n",
    "    `alphabets` is a list of alphabets. Creating inside our function everytime would be inefficent.\n",
    "    '''\n",
    "    \n",
    "    # ensure that the key contains only alphabets\n",
    "    assert key.isalpha()\n",
    "    \n",
    "    # convert key to lower case, disregarding the case\n",
    "    key = key.lower()\n",
    "    \n",
    "    # encrypted text as result\n",
    "    result = \"\"\n",
    "    \n",
    "    # count is our variable tracking the relative position of plain text and key\n",
    "    # we would be using this variable as our current key's index position\n",
    "    # key_len counts the number of characters in key\n",
    "    count = 0    \n",
    "    key_len = len(key)\n",
    "    \n",
    "    for char in text:\n",
    "        \n",
    "        # we know we have to reset, when key's index is out of bounds\n",
    "        if count >= len(key):\n",
    "            count = 0\n",
    "            \n",
    "        result += encode(char, key[count], alphabets=alphabets)\n",
    "        count += 1\n",
    "        \n",
    "    return result"
   ]
  },
  {
   "cell_type": "markdown",
   "metadata": {},
   "source": [
    "Let's check if it runs without any errors so far."
   ]
  },
  {
   "cell_type": "code",
   "execution_count": 88,
   "metadata": {},
   "outputs": [
    {
     "ename": "TypeError",
     "evalue": "not all arguments converted during string formatting",
     "output_type": "error",
     "traceback": [
      "\u001b[0;31m---------------------------------------------------------------------------\u001b[0m",
      "\u001b[0;31mTypeError\u001b[0m                                 Traceback (most recent call last)",
      "\u001b[0;32m<ipython-input-88-c641018113b3>\u001b[0m in \u001b[0;36m<module>\u001b[0;34m\u001b[0m\n\u001b[0;32m----> 1\u001b[0;31m \u001b[0mencode_vignere\u001b[0m\u001b[0;34m(\u001b[0m\u001b[0mtext\u001b[0m\u001b[0;34m,\u001b[0m \u001b[0mkey\u001b[0m\u001b[0;34m)\u001b[0m\u001b[0;34m\u001b[0m\u001b[0;34m\u001b[0m\u001b[0m\n\u001b[0m",
      "\u001b[0;32m<ipython-input-87-87421d7d79a8>\u001b[0m in \u001b[0;36mencode_vignere\u001b[0;34m(text, key, alphabets)\u001b[0m\n\u001b[1;32m     27\u001b[0m             \u001b[0mcount\u001b[0m \u001b[0;34m=\u001b[0m \u001b[0;36m0\u001b[0m\u001b[0;34m\u001b[0m\u001b[0;34m\u001b[0m\u001b[0m\n\u001b[1;32m     28\u001b[0m \u001b[0;34m\u001b[0m\u001b[0m\n\u001b[0;32m---> 29\u001b[0;31m         \u001b[0mresult\u001b[0m \u001b[0;34m+=\u001b[0m \u001b[0mencode\u001b[0m\u001b[0;34m(\u001b[0m\u001b[0mchar\u001b[0m\u001b[0;34m,\u001b[0m \u001b[0mkey\u001b[0m\u001b[0;34m[\u001b[0m\u001b[0mcount\u001b[0m\u001b[0;34m]\u001b[0m\u001b[0;34m,\u001b[0m \u001b[0malphabets\u001b[0m\u001b[0;34m=\u001b[0m\u001b[0malphabets\u001b[0m\u001b[0;34m)\u001b[0m\u001b[0;34m\u001b[0m\u001b[0;34m\u001b[0m\u001b[0m\n\u001b[0m\u001b[1;32m     30\u001b[0m         \u001b[0mcount\u001b[0m \u001b[0;34m+=\u001b[0m \u001b[0;36m1\u001b[0m\u001b[0;34m\u001b[0m\u001b[0;34m\u001b[0m\u001b[0m\n\u001b[1;32m     31\u001b[0m \u001b[0;34m\u001b[0m\u001b[0m\n",
      "\u001b[0;32m<ipython-input-83-efe6b531e77f>\u001b[0m in \u001b[0;36mencode\u001b[0;34m(char, key, alphabets)\u001b[0m\n\u001b[1;32m     21\u001b[0m     \u001b[0;31m# even when key is less than 26 say 1, 1 % 26 = 1\u001b[0m\u001b[0;34m\u001b[0m\u001b[0;34m\u001b[0m\u001b[0;34m\u001b[0m\u001b[0m\n\u001b[1;32m     22\u001b[0m     \u001b[0;31m# % is the modulus operator\u001b[0m\u001b[0;34m\u001b[0m\u001b[0;34m\u001b[0m\u001b[0;34m\u001b[0m\u001b[0m\n\u001b[0;32m---> 23\u001b[0;31m     \u001b[0mkey\u001b[0m \u001b[0;34m=\u001b[0m \u001b[0mkey\u001b[0m \u001b[0;34m%\u001b[0m \u001b[0;36m26\u001b[0m\u001b[0;34m\u001b[0m\u001b[0;34m\u001b[0m\u001b[0m\n\u001b[0m\u001b[1;32m     24\u001b[0m \u001b[0;34m\u001b[0m\u001b[0m\n\u001b[1;32m     25\u001b[0m     \u001b[0mencoded_index\u001b[0m \u001b[0;34m=\u001b[0m \u001b[0malphabets\u001b[0m\u001b[0;34m.\u001b[0m\u001b[0mindex\u001b[0m\u001b[0;34m(\u001b[0m\u001b[0mchar\u001b[0m\u001b[0;34m.\u001b[0m\u001b[0mlower\u001b[0m\u001b[0;34m(\u001b[0m\u001b[0;34m)\u001b[0m\u001b[0;34m)\u001b[0m \u001b[0;34m+\u001b[0m \u001b[0mkey\u001b[0m\u001b[0;34m\u001b[0m\u001b[0;34m\u001b[0m\u001b[0m\n",
      "\u001b[0;31mTypeError\u001b[0m: not all arguments converted during string formatting"
     ]
    }
   ],
   "source": [
    "encode_vignere(text, key)"
   ]
  },
  {
   "cell_type": "markdown",
   "metadata": {},
   "source": [
    "Ah.. Yes. Encode function takes in a shift value. We need to convert the character key to a numeric shift key. But how do we do this?\n",
    "\n",
    "Say we have a shift character of \"b\". Then this means that we need to perform a shift of 1. For a shift character as \"o\", we need to perform a shift of 14. Well, these are nothig but the index of these characters in the *alphabets* list.\n",
    "\n",
    "alphabets = ['a', 'b', 'c', 'd', ....]\n",
    "\n",
    "Therefore we can simply use the .index method of python lists."
   ]
  },
  {
   "cell_type": "code",
   "execution_count": 89,
   "metadata": {},
   "outputs": [
    {
     "data": {
      "text/plain": [
       "(1, 14)"
      ]
     },
     "execution_count": 89,
     "metadata": {},
     "output_type": "execute_result"
    }
   ],
   "source": [
    "alphabets.index(\"b\"), alphabets.index(\"o\")"
   ]
  },
  {
   "cell_type": "markdown",
   "metadata": {},
   "source": [
    "Adding this logic to our function:"
   ]
  },
  {
   "cell_type": "code",
   "execution_count": 90,
   "metadata": {},
   "outputs": [],
   "source": [
    "def encode_vignere(text, key, alphabets=alphabets):\n",
    "    '''\n",
    "    Given a text and a key, performs vignere cipher encryption/decryption and returns it.\n",
    "    \n",
    "    `alphabets` is a list of alphabets. Creating inside our function everytime would be inefficent.\n",
    "    '''\n",
    "    \n",
    "    # ensure that the key contains only alphabets\n",
    "    assert key.isalpha()\n",
    "    \n",
    "    # convert key to lower case, disregarding the case\n",
    "    key = key.lower()\n",
    "    \n",
    "    # encrypted text as result\n",
    "    result = \"\"\n",
    "    \n",
    "    # count is our variable tracking the relative position of plain text and key\n",
    "    # we would be using this variable as our current key's index position\n",
    "    # key_len counts the number of characters in key\n",
    "    count = 0    \n",
    "    key_len = len(key)\n",
    "    \n",
    "    for char in text:\n",
    "        \n",
    "        # we know we have to reset, when key's index is out of bounds\n",
    "        if count >= len(key):\n",
    "            count = 0\n",
    "            \n",
    "        # convert shift character to a shift number\n",
    "        shift = alphabets.index(key[count])\n",
    "        \n",
    "        result += encode(char, shift, alphabets=alphabets)\n",
    "        count += 1\n",
    "        \n",
    "    return result"
   ]
  },
  {
   "cell_type": "code",
   "execution_count": 91,
   "metadata": {},
   "outputs": [
    {
     "data": {
      "text/plain": [
       "\"Ccyc Haojutu Cd Xs'e Uqu Pancsp!\""
      ]
     },
     "execution_count": 91,
     "metadata": {},
     "output_type": "execute_result"
    }
   ],
   "source": [
    "# Expected: Ccyc Uczjhvf Ps Kq'e Hsf Cpanfe!\n",
    "encode_vignere(text, key)"
   ]
  },
  {
   "cell_type": "markdown",
   "metadata": {},
   "source": [
    "Our function does a good job until the first word is complete, after which the expected result doesn't seem to match with our functions output. Why do you think so?\n",
    "\n",
    "The reason for this is due to the fact that our function fails to ignore incrementing counter variable for spaces (and special characters). Although our caesar cipher function does its job well at ignoring, the *vignere_encode* doesn't. So let's fix that:"
   ]
  },
  {
   "cell_type": "code",
   "execution_count": 92,
   "metadata": {},
   "outputs": [],
   "source": [
    "def encode_vignere(text, key, alphabets=alphabets):\n",
    "    '''\n",
    "    Given a text and a key, performs vignere cipher encryption/decryption and returns it.\n",
    "    \n",
    "    `alphabets` is a list of alphabets. Creating inside our function everytime would be inefficent.\n",
    "    '''\n",
    "    \n",
    "    # ensure that the key contains only alphabets\n",
    "    assert key.isalpha()\n",
    "    \n",
    "    # convert key to lower case, disregarding the case\n",
    "    key = key.lower()\n",
    "    \n",
    "    # encrypted text as result\n",
    "    result = \"\"\n",
    "    \n",
    "    # count is our variable tracking the relative position of plain text and key\n",
    "    # we would be using this variable as our current key's index position\n",
    "    # key_len counts the number of characters in key\n",
    "    count = 0    \n",
    "    key_len = len(key)\n",
    "    \n",
    "    for char in text:\n",
    "        \n",
    "        # we know we have to reset, when key's index is out of bounds\n",
    "        if count >= len(key):\n",
    "            count = 0\n",
    "            \n",
    "        # convert shift character to a shift number\n",
    "        shift = alphabets.index(key[count])\n",
    "        \n",
    "        result += encode(char, shift, alphabets=alphabets)\n",
    "        \n",
    "        # str.isalpha() returns True when the string has only alphabets inside it\n",
    "        # char.isalpha is True when string is an alphabet or False otherwise\n",
    "        if char.isalpha():\n",
    "            count += 1\n",
    "        \n",
    "    return result"
   ]
  },
  {
   "cell_type": "code",
   "execution_count": 93,
   "metadata": {},
   "outputs": [
    {
     "data": {
      "text/plain": [
       "\"Ccyc Uczjhvf Ps Kq'e Hsf Cpanfe!\""
      ]
     },
     "execution_count": 93,
     "metadata": {},
     "output_type": "execute_result"
    }
   ],
   "source": [
    "# Expected: Ccyc Uczjhvf Ps Kq'e Hsf Cpanfe!\n",
    "encode_vignere(text, key)"
   ]
  },
  {
   "cell_type": "markdown",
   "metadata": {},
   "source": [
    "And we are done! It works great.But before we wind up, let's make the function workable for decryption as well. How do we do that?\n",
    "\n",
    "*By giving in a negative key during the `encode()` function call.*"
   ]
  },
  {
   "cell_type": "code",
   "execution_count": 94,
   "metadata": {},
   "outputs": [],
   "source": [
    "def encode_vignere(text, key, alphabets=alphabets, encrypt=True):\n",
    "    '''\n",
    "    Given a text and a key, performs vignere cipher encryption/decryption and returns it.\n",
    "    \n",
    "    `alphabets` is a list of alphabets. Creating inside our function everytime would be inefficent.\n",
    "    `encrypt` is a boolean keyword determining whether to perform encryption or decryption. By default, it is True\n",
    "    '''\n",
    "    \n",
    "    # ensure that the key contains only alphabets\n",
    "    assert key.isalpha()\n",
    "    \n",
    "    # convert key to lower case, disregarding the case\n",
    "    key = key.lower()\n",
    "    \n",
    "    # encrypted text as result\n",
    "    result = \"\"\n",
    "    \n",
    "    # count is our variable tracking the relative position of plain text and key\n",
    "    # we would be using this variable as our current key's index position\n",
    "    # key_len counts the number of characters in key\n",
    "    count = 0    \n",
    "    key_len = len(key)\n",
    "    \n",
    "    for char in text:\n",
    "        \n",
    "        # we know we have to reset, when key's index is out of bounds\n",
    "        if count >= len(key):\n",
    "            count = 0\n",
    "            \n",
    "        # convert shift character to a shift number\n",
    "        shift = alphabets.index(key[count])\n",
    "        \n",
    "        # not encrypt is True when encrypt is False\n",
    "        if not encrypt:\n",
    "            shift = - shift            \n",
    "            \n",
    "        # value unaltered otherwise (we can ignore the else if we wanted to)\n",
    "        else: \n",
    "            shift = shift\n",
    "        \n",
    "        result += encode(char, shift, alphabets=alphabets)\n",
    "        \n",
    "        # str.isalpha() returns True when the string has only alphabets inside it\n",
    "        # char.isalpha is True when string is an alphabet or False otherwise\n",
    "        if char.isalpha():\n",
    "            count += 1\n",
    "        \n",
    "    return result"
   ]
  },
  {
   "cell_type": "markdown",
   "metadata": {},
   "source": [
    "### Step 5:\n",
    "\n",
    "Finally, verify that the outputs of your code matches with the expected output. \n",
    "\n",
    "Let's simply use the sample problems we worked out earlier."
   ]
  },
  {
   "cell_type": "code",
   "execution_count": 95,
   "metadata": {},
   "outputs": [
    {
     "name": "stdout",
     "output_type": "stream",
     "text": [
      "Original:  Bomb Tonight Or We'd Get Bombed!\n",
      "Encrypted:  Ccyc Uczjhvf Ps Kq'e Hsf Cpanfe!\n",
      "Decrypted: Bomb Tonight Or We'd Get Bombed!\n"
     ]
    }
   ],
   "source": [
    "# Let's encrypt and decrypt back!\n",
    "print (\"Original: \", temp)\n",
    "\n",
    "temp = encode_vignere(text, key)\n",
    "print (\"Encrypted: \", temp)\n",
    "\n",
    "temp = encode_vignere(temp, key=key, encrypt=False)\n",
    "print (\"Decrypted:\", temp)"
   ]
  },
  {
   "cell_type": "markdown",
   "metadata": {},
   "source": [
    "### Bonus:\n",
    "#### Quick, we need your Help - 2:\n",
    "\n",
    "We are at war with country Britania. Another highly confidential message has been captured during its transmission to one of its Allies. In light of the recent success in deciphering the caesar cipher, we are confident in your ability to decrypt this message as well! *The previous message contained the valuable key required for deciphering this message and messages transmitted henceforth by britania.* We hope you remember the key for deciphering this message ;)\n",
    "\n",
    "The captured message:\n",
    "\n",
    "    Wp shd cyevzxsgqmaepk occ femfy sir tzz tuks. Plz bngmlltrlnkp svxhrga thle ahm povur nbe had dbpmc tdikt pwdecd dozvjeo yoe bhex hoo klo gthutp thpty wij uyzhutp anj vpnl zg cwzipil tldr aadjxvxd gw thpx. Irqebeqt tumreqzye kzojqweea it acbdmyu kw vayt a cplzentsv.\n",
    "\n",
    "    Khntzadfwhtqzoj wg sbtviyr ahqd, tdikt Pwdec! T ooxp zfc xnwwyeo wlazyjeo yrbu my yzaejzpb il mhkh ad T kil nsvimiao it!\n",
    "\n",
    "Hint: Spaces and special characters in key can be safely removed."
   ]
  },
  {
   "cell_type": "code",
   "execution_count": null,
   "metadata": {},
   "outputs": [],
   "source": []
  }
 ],
 "metadata": {
  "kernelspec": {
   "display_name": "Python 3",
   "language": "python",
   "name": "python3"
  },
  "language_info": {
   "codemirror_mode": {
    "name": "ipython",
    "version": 3
   },
   "file_extension": ".py",
   "mimetype": "text/x-python",
   "name": "python",
   "nbconvert_exporter": "python",
   "pygments_lexer": "ipython3",
   "version": "3.9.2"
  }
 },
 "nbformat": 4,
 "nbformat_minor": 4
}
