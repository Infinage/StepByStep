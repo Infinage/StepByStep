{
 "cells": [
  {
   "cell_type": "markdown",
   "metadata": {},
   "source": [
    "## Question:\n",
    "Given a plaintext and a key k, write a python script to convert it into cipher text using **Caesar cipher**. Also write functions for decrypting it.\n",
    "\n",
    "#### A bit of Background:\n",
    "Caesar cipher is a simple monoalphabetic substitution cipher. Given a key \"k\" we shift all our alphabets *k* number of times. \n",
    "\n",
    "This is best understood by a simple example: \n",
    "\n",
    "Say we are given a key `k = 3`.<br>\n",
    "We are also given a `text = Bomb Tonight!`<br>\n",
    "\n",
    "<u>For Encryption:</u>\n",
    "\n",
    "All the alphabets in the plain text are simply shifted 3 characters to the right, like so:\n",
    "\n",
    "|   |   |   |   |   |   |   |   |   |   |   |   |   |   |   |   |   |   |   |   |   |   |   |   |   |   |\n",
    "|---|---|---|---|---|---|---|---|---|---|---|---|---|---|---|---|---|---|---|---|---|---|---|---|---|---|\n",
    "| a | b | c | d | e | f | g | h | i | j | k | l | m | n | o | p | q | r | s | t | u | v | w | x | y | z |\n",
    "| d | e | f | g | h | i | j | k | l | m | n | o | p | q | r | s | t | u | v | w | x | y | z | a | b | c |\n",
    "\n",
    "We can then encrypt our plain text by simply substituting the values from the table above.<br>\n",
    "The encrypted text would therefore be: `Erpe Wrqljkw!` *(notice that non alphabets are untouched)*\n",
    "\n",
    "<u>For Decyrption:</u>\n",
    "\n",
    "All the alphabets in our encypted message are simply shifted back to the left, like so:\n",
    "\n",
    "|   |   |   |   |   |   |   |   |   |   |   |   |   |   |   |   |   |   |   |   |   |   |   |   |   |   |\n",
    "|---|---|---|---|---|---|---|---|---|---|---|---|---|---|---|---|---|---|---|---|---|---|---|---|---|---|\n",
    "| a | b | c | d | e | f | g | h | i | j | k | l | m | n | o | p | q | r | s | t | u | v | w | x | y | z |\n",
    "| x | y | z | a | b | c | d | e | f | g | h | i | j | k | l | m | n | o | p | q | r | s | t | u | v | w |\n",
    "\n",
    "By substituting from table above we can get back our original plain text from encrypted text.\n",
    "Therefore, our plain text would be: `Bomb Tonight!`"
   ]
  },
  {
   "cell_type": "markdown",
   "metadata": {},
   "source": [
    "### Step 1:\n",
    "Create a very simple solution. Cheat if you have to. This step is to help us understand the problem better and in more depth. Understandably a lot of problems don't have such easy or quick solutions, in those cases skip to STEP 2 & workout the problem BY HAND. \n",
    "\n",
    "There are plenty of online solutions available for our aid. We would be using [Cryptii](https://cryptii.com/pipes/caesar-cipher) for verifying our answers."
   ]
  },
  {
   "cell_type": "markdown",
   "metadata": {},
   "source": [
    "### Step 2: \n",
    "\n",
    "In order to solve a programming problem, we need to understand the problem ourselves first. Efficient solutions can only be discovered if YOU have a thorough understanding of the problem.\n",
    "\n",
    "Let's take up a set of sample plain texts and keys, we'd solving them ourselves by hand and cross checking the answers with cryptii. \n",
    "\n",
    "| S No. | Key | Plain Text | Encrypted Text |\n",
    "|-------|-----|------------|----------------|\n",
    "| 1     | 10  | Python     | Zidryx         |\n",
    "| 2     | 20  | Julia      | Dofcu          |\n",
    "| 3     | 25  | Scala      | Rbzkz          |\n",
    "| 4     | 1   | Matlab     | Nbumbc         |\n",
    "\n",
    "<u>Sample 1. Key - 10: </u>\n",
    "\n",
    "Table for Encryption / Decryption:\n",
    "\n",
    "|   |   |   |   |   |   |   |   |   |   |   |   |   |   |   |   |   |   |   |   |   |   |   |   |   |   |\n",
    "|---|---|---|---|---|---|---|---|---|---|---|---|---|---|---|---|---|---|---|---|---|---|---|---|---|---|\n",
    "| a | b | c | d | e | f | g | h | i | j | k | l | m | n | o | p | q | r | s | t | u | v | w | x | y | z |\n",
    "| k | l | m | n | o | p | q | r | s | t | u | v | w | x | y | z | a | b | c | d | e | f | g | h | i | j |\n",
    "\n",
    "Plain Text: Python<br>\n",
    "Encrypted Text: Zidryx<br>\n",
    "Decrypted Text: Python\n",
    "\n",
    "<u>Sample 2. Key - 20:</u>\n",
    "\n",
    "Table for Encryption / Decryption:\n",
    "\n",
    "|   |   |   |   |   |   |   |   |   |   |   |   |   |   |   |   |   |   |   |   |   |   |   |   |   |   |\n",
    "|---|---|---|---|---|---|---|---|---|---|---|---|---|---|---|---|---|---|---|---|---|---|---|---|---|---|\n",
    "| a | b | c | d | e | f | g | h | i | j | k | l | m | n | o | p | q | r | s | t | u | v | w | x | y | z |\n",
    "| u | v | w | x | y | z | a | b | c | d | e | f | g | h | i | j | k | l | m | n | o | p | q | r | s | t |\n",
    "\n",
    "Plain Text: Julia<br>\n",
    "Encrypted Text: Dofcu<br>\n",
    "Decrypted Text: Julia\n",
    "\n",
    "<u>Sample 3. Key - 25:</u>\n",
    "\n",
    "Table for Encryption / Decryption:\n",
    "\n",
    "|   |   |   |   |   |   |   |   |   |   |   |   |   |   |   |   |   |   |   |   |   |   |   |   |   |   |\n",
    "|---|---|---|---|---|---|---|---|---|---|---|---|---|---|---|---|---|---|---|---|---|---|---|---|---|---|\n",
    "| a | b | c | d | e | f | g | h | i | j | k | l | m | n | o | p | q | r | s | t | u | v | w | x | y | z |\n",
    "| z | a | b | c | d | e | f | g | h | i | j | k | l | m | n | o | p | q | r | s | t | u | v | w | x | y |\n",
    "\n",
    "Plain Text: Scala<br>\n",
    "Encrypted Text: Rbzkz<br>\n",
    "Decrypted Text: Scala\n",
    "\n",
    "<u>Sample 4. Key - 1:</u>\n",
    "\n",
    "Table for Encryption / Decryption:\n",
    "\n",
    "|   |   |   |   |   |   |   |   |   |   |   |   |   |   |   |   |   |   |   |   |   |   |   |   |   |   |\n",
    "|---|---|---|---|---|---|---|---|---|---|---|---|---|---|---|---|---|---|---|---|---|---|---|---|---|---|\n",
    "| a | b | c | d | e | f | g | h | i | j | k | l | m | n | o | p | q | r | s | t | u | v | w | x | y | z |\n",
    "| b | c | d | e | f | g | h | i | j | k | l | m | n | o | p | q | r | s | t | u | v | w | x | y | z | a |\n",
    "\n",
    "Plain Text: Matlab<br>\n",
    "Encrypted Text: Nbumbc<br>\n",
    "Decrypted Text: Matlab"
   ]
  },
  {
   "cell_type": "markdown",
   "metadata": {},
   "source": [
    "### Step 3:\n",
    "\n",
    "At this stage, we analyze and workout a rough algorithm. Here are our observations from previous step:\n",
    "\n",
    "To be able to encrypt or decrypt, as it is true for any cryptographic algorithm the key is of utmost importance. With this key we generate the table. We are pretty much done with our problem once we have managed creating this table. \n",
    "\n",
    "The table is created simply by shifting of the characters, while order of the alphabets themselves are going to remain unchanged. Simply put, we only need to keep altering the *mapping* between the alphabets. \n",
    "\n",
    "<img src=\"https://upload.wikimedia.org/wikipedia/commons/4/4a/Caesar_cipher_left_shift_of_3.svg\" alt=\"Alphabet Mapping\" width=500 height=500/>\n",
    "\n",
    "There are several ways this *maping* could be created and there is no single perfect answer. I strongly urge you to play around and create your own versions of caesar cipher algorithms. Here's a simple approach that I came up with:\n",
    "\n",
    "- We would be encrypting/decrypting the characters letter by letter. \n",
    "- This way we would only need to create a single mapping function.\n",
    "- The function, when given a character and key as input, performs the suitable shifting and returns the encrypted/decrypted character. \n",
    "- To perform encryption we could pass in a *positive key*, and to perform decryption we could pass in a *negative key*."
   ]
  },
  {
   "cell_type": "markdown",
   "metadata": {},
   "source": [
    "### Step 4:\n",
    "\n",
    "Let's start building our code piece by piece. We will create several 'versions' of our actual function. Each version being built on top of the previous work that we had tested to be working right."
   ]
  },
  {
   "cell_type": "code",
   "execution_count": 1,
   "metadata": {},
   "outputs": [
    {
     "data": {
      "text/plain": [
       "('a', 'z')"
      ]
     },
     "execution_count": 1,
     "metadata": {},
     "output_type": "execute_result"
    }
   ],
   "source": [
    "# list containing all the alphabets\n",
    "alphabets = ['a', 'b', 'c', 'd', 'e', 'f', 'g', 'h', 'i', 'j', 'k', 'l', 'm', \n",
    "             'n', 'o', 'p', 'q', 'r', 's', 't', 'u', 'v', 'w', 'x', 'y', 'z']\n",
    "\n",
    "# 0 - 25 (26 alphabets)\n",
    "alphabets[0], alphabets[25]"
   ]
  },
  {
   "cell_type": "code",
   "execution_count": 2,
   "metadata": {},
   "outputs": [
    {
     "data": {
      "text/plain": [
       "(0, 25)"
      ]
     },
     "execution_count": 2,
     "metadata": {},
     "output_type": "execute_result"
    }
   ],
   "source": [
    "# to perform a shift, we firstly need to know the characters position, but how??\n",
    "# list.index to our rescue!\n",
    "alphabets.index('a'), alphabets.index('z')"
   ]
  },
  {
   "cell_type": "code",
   "execution_count": 3,
   "metadata": {},
   "outputs": [
    {
     "data": {
      "text/plain": [
       "'l'"
      ]
     },
     "execution_count": 3,
     "metadata": {},
     "output_type": "execute_result"
    }
   ],
   "source": [
    "# to shift a character by \"k\", index and increment by k\n",
    "k = 10\n",
    "temp = 'b'\n",
    "alphabets[alphabets.index(temp) + k]"
   ]
  },
  {
   "cell_type": "code",
   "execution_count": 4,
   "metadata": {},
   "outputs": [
    {
     "data": {
      "text/plain": [
       "'b'"
      ]
     },
     "execution_count": 4,
     "metadata": {},
     "output_type": "execute_result"
    }
   ],
   "source": [
    "# try to decrypt the same with a negative key\n",
    "k = -10\n",
    "temp = 'l'\n",
    "alphabets[alphabets.index(temp) + k]"
   ]
  },
  {
   "cell_type": "markdown",
   "metadata": {},
   "source": [
    "That's easy isn't it? Let's quickly wrap this up into a neat little function:"
   ]
  },
  {
   "cell_type": "code",
   "execution_count": 5,
   "metadata": {},
   "outputs": [],
   "source": [
    "def encode(char, key, alphabets=alphabets):\n",
    "    '''\n",
    "    Encodes/Decodes a character based on a key.\n",
    "    \n",
    "    Alphabets could be created inside the function itself. But creating a list of alphabets every single time\n",
    "    we want to encrypt a character would be a waste of resource. So we pass list of alphabets as a `default` parameter.\n",
    "    '''\n",
    "    \n",
    "    return alphabets[alphabets.index(char) + key]"
   ]
  },
  {
   "cell_type": "code",
   "execution_count": 6,
   "metadata": {},
   "outputs": [
    {
     "data": {
      "text/plain": [
       "('l', 'b')"
      ]
     },
     "execution_count": 6,
     "metadata": {},
     "output_type": "execute_result"
    }
   ],
   "source": [
    "# test again with our function\n",
    "encode('b', 10), encode('l', -10)"
   ]
  },
  {
   "cell_type": "markdown",
   "metadata": {},
   "source": [
    "##### `Note` on python f *Strings*:\n",
    "\n",
    "Python F statements help us combine python code in between lines of text. It is convenient in a lot of ways plus also supports cool formattings tweaks."
   ]
  },
  {
   "cell_type": "code",
   "execution_count": 7,
   "metadata": {},
   "outputs": [
    {
     "name": "stdout",
     "output_type": "stream",
     "text": [
      "Hello World!!!!!!!!!!\n",
      "\n",
      "   1\n",
      "  10\n",
      " 100\n",
      "1000\n"
     ]
    }
   ],
   "source": [
    "# example of f - statement\n",
    "print (f\"Hello World{'!' * 10}\")\n",
    "\n",
    "# you can indent and automatically allot empty spaces, center align and so many more!\n",
    "# here's an example of allocating empty spaces before the numbers get too large\n",
    "print()\n",
    "for i in [1, 10, 100, 1000]:\n",
    "    print (f\"{i:4}\")"
   ]
  },
  {
   "cell_type": "markdown",
   "metadata": {},
   "source": [
    "So our `encode()` function works good so far. But a problem arises when (index of our character + k) >= 26. *Why?*<br>"
   ]
  },
  {
   "cell_type": "code",
   "execution_count": 8,
   "metadata": {},
   "outputs": [
    {
     "name": "stdout",
     "output_type": "stream",
     "text": [
      "With key: 10, the encryption would happen as follows:\n",
      "\n",
      "Index:   0 | Index + Key:  10 | a would be encoded as: k\n",
      "Index:   1 | Index + Key:  11 | b would be encoded as: l\n",
      "Index:   2 | Index + Key:  12 | c would be encoded as: m\n",
      "Index:   3 | Index + Key:  13 | d would be encoded as: n\n",
      "Index:   4 | Index + Key:  14 | e would be encoded as: o\n",
      "Index:   5 | Index + Key:  15 | f would be encoded as: p\n",
      "Index:   6 | Index + Key:  16 | g would be encoded as: q\n",
      "Index:   7 | Index + Key:  17 | h would be encoded as: r\n",
      "Index:   8 | Index + Key:  18 | i would be encoded as: s\n",
      "Index:   9 | Index + Key:  19 | j would be encoded as: t\n",
      "Index:  10 | Index + Key:  20 | k would be encoded as: u\n",
      "Index:  11 | Index + Key:  21 | l would be encoded as: v\n",
      "Index:  12 | Index + Key:  22 | m would be encoded as: w\n",
      "Index:  13 | Index + Key:  23 | n would be encoded as: x\n",
      "Index:  14 | Index + Key:  24 | o would be encoded as: y\n",
      "Index:  15 | Index + Key:  25 | p would be encoded as: z\n"
     ]
    },
    {
     "ename": "IndexError",
     "evalue": "list index out of range",
     "output_type": "error",
     "traceback": [
      "\u001b[0;31m---------------------------------------------------------------------------\u001b[0m",
      "\u001b[0;31mIndexError\u001b[0m                                Traceback (most recent call last)",
      "\u001b[0;32m<ipython-input-8-89b9c65a9ac1>\u001b[0m in \u001b[0;36m<module>\u001b[0;34m\u001b[0m\n\u001b[1;32m      3\u001b[0m \u001b[0;32mfor\u001b[0m \u001b[0mi\u001b[0m \u001b[0;32min\u001b[0m \u001b[0mrange\u001b[0m\u001b[0;34m(\u001b[0m\u001b[0;36m0\u001b[0m\u001b[0;34m,\u001b[0m \u001b[0;36m26\u001b[0m\u001b[0;34m)\u001b[0m\u001b[0;34m:\u001b[0m\u001b[0;34m\u001b[0m\u001b[0;34m\u001b[0m\u001b[0m\n\u001b[1;32m      4\u001b[0m     \u001b[0mchar\u001b[0m \u001b[0;34m=\u001b[0m \u001b[0malphabets\u001b[0m\u001b[0;34m[\u001b[0m\u001b[0mi\u001b[0m\u001b[0;34m]\u001b[0m\u001b[0;34m\u001b[0m\u001b[0;34m\u001b[0m\u001b[0m\n\u001b[0;32m----> 5\u001b[0;31m     \u001b[0mprint\u001b[0m \u001b[0;34m(\u001b[0m\u001b[0;34mf\"Index: {i:3} | Index + Key: {i + k:3} | {char} would be encoded as: {encode(char, k)}\"\u001b[0m\u001b[0;34m)\u001b[0m\u001b[0;34m\u001b[0m\u001b[0;34m\u001b[0m\u001b[0m\n\u001b[0m",
      "\u001b[0;32m<ipython-input-5-d6dcbfd26eca>\u001b[0m in \u001b[0;36mencode\u001b[0;34m(char, key, alphabets)\u001b[0m\n\u001b[1;32m      7\u001b[0m     '''\n\u001b[1;32m      8\u001b[0m \u001b[0;34m\u001b[0m\u001b[0m\n\u001b[0;32m----> 9\u001b[0;31m     \u001b[0;32mreturn\u001b[0m \u001b[0malphabets\u001b[0m\u001b[0;34m[\u001b[0m\u001b[0malphabets\u001b[0m\u001b[0;34m.\u001b[0m\u001b[0mindex\u001b[0m\u001b[0;34m(\u001b[0m\u001b[0mchar\u001b[0m\u001b[0;34m)\u001b[0m \u001b[0;34m+\u001b[0m \u001b[0mkey\u001b[0m\u001b[0;34m]\u001b[0m\u001b[0;34m\u001b[0m\u001b[0;34m\u001b[0m\u001b[0m\n\u001b[0m",
      "\u001b[0;31mIndexError\u001b[0m: list index out of range"
     ]
    }
   ],
   "source": [
    "k = 10\n",
    "print (f\"With key: {k}, the encryption would happen as follows:\\n\")\n",
    "for i in range(0, 26):\n",
    "    char = alphabets[i]\n",
    "    print (f\"Index: {i:3} | Index + Key: {i + k:3} | {char} would be encoded as: {encode(char, k)}\")"
   ]
  },
  {
   "cell_type": "code",
   "execution_count": 9,
   "metadata": {},
   "outputs": [
    {
     "data": {
      "text/plain": [
       "True"
      ]
     },
     "execution_count": 9,
     "metadata": {},
     "output_type": "execute_result"
    }
   ],
   "source": [
    "# (index + key) >= 26\n",
    "i + k >= 26"
   ]
  },
  {
   "cell_type": "markdown",
   "metadata": {},
   "source": [
    "An error occurs since the returned index would be out of bounds of our list of alphabets. What is the work around?\n",
    "\n",
    "When we were solving the sample questions, you would have noticed that for these kind of scenarios, the character encoding for 'q' would be 'a' (back to the first alphabet again). So to acheive this we could insert a simple *if* condition inside our little function to switch back to 0 once the sum gets greater than or equal to 26."
   ]
  },
  {
   "cell_type": "code",
   "execution_count": 10,
   "metadata": {},
   "outputs": [],
   "source": [
    "def encode(char, key, alphabets=alphabets):\n",
    "    '''\n",
    "    Encodes/Decodes a character based on a key.\n",
    "    \n",
    "    Alphabets could be created inside the function itself. But creating a list of alphabets every single time\n",
    "    we want to encrypt a character would be a waste of resource. So we pass list of alphabets as a `default` parameter.\n",
    "    '''\n",
    "    \n",
    "    encoded_index = alphabets.index(char) + key\n",
    "    \n",
    "    if encoded_index >= 26:\n",
    "        \n",
    "        # encoded_index = 26, actually implies 0\n",
    "        # encoded_index = 27, actually implies 1 and so on\n",
    "        encoded_index = encoded_index - 26\n",
    "    \n",
    "    return alphabets[encoded_index]"
   ]
  },
  {
   "cell_type": "code",
   "execution_count": 11,
   "metadata": {},
   "outputs": [
    {
     "name": "stdout",
     "output_type": "stream",
     "text": [
      "With key: 10, the encryption would happen as follows:\n",
      "\n",
      "Index:   0 | Index + Key:  10 | a would be encoded as: k\n",
      "Index:   1 | Index + Key:  11 | b would be encoded as: l\n",
      "Index:   2 | Index + Key:  12 | c would be encoded as: m\n",
      "Index:   3 | Index + Key:  13 | d would be encoded as: n\n",
      "Index:   4 | Index + Key:  14 | e would be encoded as: o\n",
      "Index:   5 | Index + Key:  15 | f would be encoded as: p\n",
      "Index:   6 | Index + Key:  16 | g would be encoded as: q\n",
      "Index:   7 | Index + Key:  17 | h would be encoded as: r\n",
      "Index:   8 | Index + Key:  18 | i would be encoded as: s\n",
      "Index:   9 | Index + Key:  19 | j would be encoded as: t\n",
      "Index:  10 | Index + Key:  20 | k would be encoded as: u\n",
      "Index:  11 | Index + Key:  21 | l would be encoded as: v\n",
      "Index:  12 | Index + Key:  22 | m would be encoded as: w\n",
      "Index:  13 | Index + Key:  23 | n would be encoded as: x\n",
      "Index:  14 | Index + Key:  24 | o would be encoded as: y\n",
      "Index:  15 | Index + Key:  25 | p would be encoded as: z\n",
      "Index:  16 | Index + Key:  26 | q would be encoded as: a\n",
      "Index:  17 | Index + Key:  27 | r would be encoded as: b\n",
      "Index:  18 | Index + Key:  28 | s would be encoded as: c\n",
      "Index:  19 | Index + Key:  29 | t would be encoded as: d\n",
      "Index:  20 | Index + Key:  30 | u would be encoded as: e\n",
      "Index:  21 | Index + Key:  31 | v would be encoded as: f\n",
      "Index:  22 | Index + Key:  32 | w would be encoded as: g\n",
      "Index:  23 | Index + Key:  33 | x would be encoded as: h\n",
      "Index:  24 | Index + Key:  34 | y would be encoded as: i\n",
      "Index:  25 | Index + Key:  35 | z would be encoded as: j\n"
     ]
    }
   ],
   "source": [
    "k = 10\n",
    "print (f\"With key: {k}, the encryption would happen as follows:\\n\")\n",
    "for i in range(0, 26):\n",
    "    char = alphabets[i]\n",
    "    print (f\"Index: {i:3} | Index + Key: {i + k:3} | {char} would be encoded as: {encode(char, k)}\")"
   ]
  },
  {
   "cell_type": "markdown",
   "metadata": {},
   "source": [
    "##### `Note` on try, except, else, finally *blocks*:\n",
    "\n",
    "An exception is an unexpected error that halts the normal execution of a program. Say you write a simple program to divide two numbers. If the denominator is 0, then a *ZeroDivisionError* is thrown by python. Once an exception is encountered, python halts execution abruptly. We as programmers would sometimes wish our codes be more fault tolerant. Mere wishing however wouldn't accomplish that :P\n",
    "\n",
    "To help our codes to degrade more 'gracefully' we need to utilize python's inbuilt exception handling mechanisms. It comes to these four keywords: *try*, *except*, *else* & *finally*. It takes the following syntax:\n",
    "\n",
    "    try:\n",
    "        # insert code here that you think \n",
    "        # is likely to throw an error\n",
    "        \n",
    "    except [<name_of_exception>]:\n",
    "        # name of exception is optional\n",
    "        # once an exception of the category of <name_of_exception> is encountered, \n",
    "        # try block stops executing & this block is executed. \n",
    "        # If you don't provide <name_of_exception> all exceptions are caught here\n",
    "    \n",
    "    except [<name_of_exception_2>]:\n",
    "        # can have any number of `except` blocks\n",
    "        # sometimes, we would need to treat different errors differently\n",
    "        \n",
    "    else:\n",
    "        # If NO exceptions were encountered, this block is executed\n",
    "        \n",
    "    finally:\n",
    "        # this adamant block is ALWAYS executed no matter what\n",
    "        # `clean-up` codes are usually put inside this block\n",
    "Time for an example:"
   ]
  },
  {
   "cell_type": "code",
   "execution_count": 12,
   "metadata": {},
   "outputs": [
    {
     "name": "stdout",
     "output_type": "stream",
     "text": [
      "10 / 10 = 1.0\n",
      "No errors encountered for this iteration\n",
      "Iteration Complete!\n",
      "\n",
      "\n",
      "10 / 2 = 5.0\n",
      "No errors encountered for this iteration\n",
      "Iteration Complete!\n",
      "\n",
      "\n",
      "B cannot be Zero!\n",
      "Iteration Complete!\n",
      "\n",
      "\n",
      "B has to be a number!\n",
      "Iteration Complete!\n",
      "\n",
      "\n"
     ]
    }
   ],
   "source": [
    "a = 10\n",
    "for b in [10, 2, 0, \"abc\"]:\n",
    "    try:\n",
    "        print (f\"{a} / {b} = {a / b}\")\n",
    "    except ZeroDivisionError:\n",
    "        print (\"B cannot be Zero!\")\n",
    "    except TypeError:\n",
    "        print (\"B has to be a number!\")\n",
    "    else:\n",
    "        print (\"No errors encountered for this iteration\")\n",
    "    finally:\n",
    "        print (\"Iteration Complete!\")\n",
    "    print (\"\\n\")"
   ]
  },
  {
   "cell_type": "markdown",
   "metadata": {},
   "source": [
    "So our function works fine so far, but what about those cases where key is a number larger than 26? In that case even if we do subtract the `encoded_index` by 26, it would stil be a result larger than 26."
   ]
  },
  {
   "cell_type": "code",
   "execution_count": 13,
   "metadata": {},
   "outputs": [
    {
     "name": "stdout",
     "output_type": "stream",
     "text": [
      "With key:    0 | Index:  25 | Sum: 25 | No Errors Occured!\n",
      "With key:    1 | Index:  25 | Sum: 26 | No Errors Occured!\n",
      "With key:    2 | Index:  25 | Sum: 27 | No Errors Occured!\n",
      "With key:    3 | Index:  25 | Sum: 28 | No Errors Occured!\n",
      "With key:    4 | Index:  25 | Sum: 29 | No Errors Occured!\n",
      "With key:    5 | Index:  25 | Sum: 30 | No Errors Occured!\n",
      "With key:    6 | Index:  25 | Sum: 31 | No Errors Occured!\n",
      "With key:    7 | Index:  25 | Sum: 32 | No Errors Occured!\n",
      "With key:    8 | Index:  25 | Sum: 33 | No Errors Occured!\n",
      "With key:    9 | Index:  25 | Sum: 34 | No Errors Occured!\n",
      "With key:   10 | Index:  25 | Sum: 35 | No Errors Occured!\n",
      "With key:   11 | Index:  25 | Sum: 36 | No Errors Occured!\n",
      "With key:   12 | Index:  25 | Sum: 37 | No Errors Occured!\n",
      "With key:   13 | Index:  25 | Sum: 38 | No Errors Occured!\n",
      "With key:   14 | Index:  25 | Sum: 39 | No Errors Occured!\n",
      "With key:   15 | Index:  25 | Sum: 40 | No Errors Occured!\n",
      "With key:   16 | Index:  25 | Sum: 41 | No Errors Occured!\n",
      "With key:   17 | Index:  25 | Sum: 42 | No Errors Occured!\n",
      "With key:   18 | Index:  25 | Sum: 43 | No Errors Occured!\n",
      "With key:   19 | Index:  25 | Sum: 44 | No Errors Occured!\n",
      "With key:   20 | Index:  25 | Sum: 45 | No Errors Occured!\n",
      "With key:   21 | Index:  25 | Sum: 46 | No Errors Occured!\n",
      "With key:   22 | Index:  25 | Sum: 47 | No Errors Occured!\n",
      "With key:   23 | Index:  25 | Sum: 48 | No Errors Occured!\n",
      "With key:   24 | Index:  25 | Sum: 49 | No Errors Occured!\n",
      "With key:   25 | Index:  25 | Sum: 50 | No Errors Occured!\n",
      "With key:   26 | Index:  25 | Sum: 51 | No Errors Occured!\n",
      "With key:   27 | Index:  25 | Sum: 52 | Error Occured!\n"
     ]
    }
   ],
   "source": [
    "for k in range(0, 50):\n",
    "    print (f\"With key: {k:4} |\", end=' ')\n",
    "    try:\n",
    "        for i in range(0, 26):\n",
    "            char = alphabets[i]\n",
    "            encode(char, k)\n",
    "    except IndexError:\n",
    "        print (f\"Index: {i:3} | Sum: {k + i:} | Error Occured!\")\n",
    "        break\n",
    "    else:\n",
    "        print (f\"Index: {i:3} | Sum: {k + i:} | No Errors Occured!\")"
   ]
  },
  {
   "cell_type": "markdown",
   "metadata": {},
   "source": [
    "We can observe that an error occured when Key > 26.\n",
    "\n",
    "Since there are only a total of 26 alphabets: \n",
    "- Shifting 26 times would give us the same result as not shifting at all.\n",
    "- Shifting 27 times would give us the same result as shifting just a single time.\n",
    "- Shifting 28 times would give us the same result as shifting just 2 places.\n",
    "- Shifting 51 times would give us the same result as shifting just 25 places.\n",
    "\n",
    "Extending this logic:\n",
    "- Shifting 26+26 times would give us the same result as not shifting at all.\n",
    "- Shifting 27+26 times would give us the same result as shifting just a single time.\n",
    "- Shifting 28+26 times would give us the same result as shifting just 2 places.\n",
    "- Shifting 51+26 times would give us the same result as shifting just 25 places.\n",
    "\n",
    "And so on and so forth. So each time regardless of how big the key is, we only need to shift it: **k % 26** number of times."
   ]
  },
  {
   "cell_type": "code",
   "execution_count": 14,
   "metadata": {},
   "outputs": [],
   "source": [
    "def encode(char, key, alphabets=alphabets):\n",
    "    '''\n",
    "    Encodes/Decodes a character based on a key.\n",
    "    \n",
    "    Alphabets could be created inside the function itself. But creating a list of alphabets every single time\n",
    "    we want to encrypt a character would be a waste of resource. So we pass list of alphabets as a `default` parameter.\n",
    "    '''\n",
    "    \n",
    "    # even when key is less than 26 say 1, 1 % 26 = 1\n",
    "    # % is the modulus operator\n",
    "    key = key % 26\n",
    "    \n",
    "    encoded_index = alphabets.index(char) + key\n",
    "    \n",
    "    if encoded_index >= 26:\n",
    "        \n",
    "        # encoded_index = 26, actually implies 0\n",
    "        # encoded_index = 27, actually implies 1 and so on\n",
    "        encoded_index = encoded_index - 26\n",
    "    \n",
    "    return alphabets[encoded_index]"
   ]
  },
  {
   "cell_type": "code",
   "execution_count": 15,
   "metadata": {},
   "outputs": [
    {
     "data": {
      "text/plain": [
       "'d'"
      ]
     },
     "execution_count": 15,
     "metadata": {},
     "output_type": "execute_result"
    }
   ],
   "source": [
    "# works just fine!\n",
    "encode(\"z\", key=100000)"
   ]
  },
  {
   "cell_type": "markdown",
   "metadata": {},
   "source": [
    "There's just a tiny piece of logic left in our function above: *Dealing with characters that are not present in the `alphabets` list.*\n",
    "\n",
    "These can come under two categories:\n",
    "1. Non Alphabets\n",
    "2. Non Lower Case alphabets i.e., Upper Case Alphabets"
   ]
  },
  {
   "cell_type": "code",
   "execution_count": 16,
   "metadata": {},
   "outputs": [
    {
     "ename": "ValueError",
     "evalue": "'Z' is not in list",
     "output_type": "error",
     "traceback": [
      "\u001b[0;31m---------------------------------------------------------------------------\u001b[0m",
      "\u001b[0;31mValueError\u001b[0m                                Traceback (most recent call last)",
      "\u001b[0;32m<ipython-input-16-b09cce66e973>\u001b[0m in \u001b[0;36m<module>\u001b[0;34m\u001b[0m\n\u001b[0;32m----> 1\u001b[0;31m \u001b[0mencode\u001b[0m\u001b[0;34m(\u001b[0m\u001b[0;34m\"Z\"\u001b[0m\u001b[0;34m,\u001b[0m \u001b[0mkey\u001b[0m\u001b[0;34m=\u001b[0m\u001b[0;36m10000\u001b[0m\u001b[0;34m)\u001b[0m\u001b[0;34m\u001b[0m\u001b[0;34m\u001b[0m\u001b[0m\n\u001b[0m",
      "\u001b[0;32m<ipython-input-14-26c389544200>\u001b[0m in \u001b[0;36mencode\u001b[0;34m(char, key, alphabets)\u001b[0m\n\u001b[1;32m     11\u001b[0m     \u001b[0mkey\u001b[0m \u001b[0;34m=\u001b[0m \u001b[0mkey\u001b[0m \u001b[0;34m%\u001b[0m \u001b[0;36m26\u001b[0m\u001b[0;34m\u001b[0m\u001b[0;34m\u001b[0m\u001b[0m\n\u001b[1;32m     12\u001b[0m \u001b[0;34m\u001b[0m\u001b[0m\n\u001b[0;32m---> 13\u001b[0;31m     \u001b[0mencoded_index\u001b[0m \u001b[0;34m=\u001b[0m \u001b[0malphabets\u001b[0m\u001b[0;34m.\u001b[0m\u001b[0mindex\u001b[0m\u001b[0;34m(\u001b[0m\u001b[0mchar\u001b[0m\u001b[0;34m)\u001b[0m \u001b[0;34m+\u001b[0m \u001b[0mkey\u001b[0m\u001b[0;34m\u001b[0m\u001b[0;34m\u001b[0m\u001b[0m\n\u001b[0m\u001b[1;32m     14\u001b[0m \u001b[0;34m\u001b[0m\u001b[0m\n\u001b[1;32m     15\u001b[0m     \u001b[0;32mif\u001b[0m \u001b[0mencoded_index\u001b[0m \u001b[0;34m>=\u001b[0m \u001b[0;36m26\u001b[0m\u001b[0;34m:\u001b[0m\u001b[0;34m\u001b[0m\u001b[0;34m\u001b[0m\u001b[0m\n",
      "\u001b[0;31mValueError\u001b[0m: 'Z' is not in list"
     ]
    }
   ],
   "source": [
    "encode(\"Z\", key=10000)"
   ]
  },
  {
   "cell_type": "code",
   "execution_count": 17,
   "metadata": {},
   "outputs": [
    {
     "ename": "ValueError",
     "evalue": "'@' is not in list",
     "output_type": "error",
     "traceback": [
      "\u001b[0;31m---------------------------------------------------------------------------\u001b[0m",
      "\u001b[0;31mValueError\u001b[0m                                Traceback (most recent call last)",
      "\u001b[0;32m<ipython-input-17-ae1279f21004>\u001b[0m in \u001b[0;36m<module>\u001b[0;34m\u001b[0m\n\u001b[0;32m----> 1\u001b[0;31m \u001b[0mencode\u001b[0m\u001b[0;34m(\u001b[0m\u001b[0;34m\"@\"\u001b[0m\u001b[0;34m,\u001b[0m \u001b[0mkey\u001b[0m\u001b[0;34m=\u001b[0m\u001b[0;36m1000\u001b[0m\u001b[0;34m)\u001b[0m\u001b[0;34m\u001b[0m\u001b[0;34m\u001b[0m\u001b[0m\n\u001b[0m",
      "\u001b[0;32m<ipython-input-14-26c389544200>\u001b[0m in \u001b[0;36mencode\u001b[0;34m(char, key, alphabets)\u001b[0m\n\u001b[1;32m     11\u001b[0m     \u001b[0mkey\u001b[0m \u001b[0;34m=\u001b[0m \u001b[0mkey\u001b[0m \u001b[0;34m%\u001b[0m \u001b[0;36m26\u001b[0m\u001b[0;34m\u001b[0m\u001b[0;34m\u001b[0m\u001b[0m\n\u001b[1;32m     12\u001b[0m \u001b[0;34m\u001b[0m\u001b[0m\n\u001b[0;32m---> 13\u001b[0;31m     \u001b[0mencoded_index\u001b[0m \u001b[0;34m=\u001b[0m \u001b[0malphabets\u001b[0m\u001b[0;34m.\u001b[0m\u001b[0mindex\u001b[0m\u001b[0;34m(\u001b[0m\u001b[0mchar\u001b[0m\u001b[0;34m)\u001b[0m \u001b[0;34m+\u001b[0m \u001b[0mkey\u001b[0m\u001b[0;34m\u001b[0m\u001b[0;34m\u001b[0m\u001b[0m\n\u001b[0m\u001b[1;32m     14\u001b[0m \u001b[0;34m\u001b[0m\u001b[0m\n\u001b[1;32m     15\u001b[0m     \u001b[0;32mif\u001b[0m \u001b[0mencoded_index\u001b[0m \u001b[0;34m>=\u001b[0m \u001b[0;36m26\u001b[0m\u001b[0;34m:\u001b[0m\u001b[0;34m\u001b[0m\u001b[0;34m\u001b[0m\u001b[0m\n",
      "\u001b[0;31mValueError\u001b[0m: '@' is not in list"
     ]
    }
   ],
   "source": [
    "encode(\"@\", key=1000)"
   ]
  },
  {
   "cell_type": "markdown",
   "metadata": {},
   "source": [
    "The first category should be ignored and displayed as such.<br>\n",
    "While the second category needs to be converted to lower case and cnnveted back to upper case. \n",
    "\n",
    "Let's rewrite the function again:"
   ]
  },
  {
   "cell_type": "code",
   "execution_count": 18,
   "metadata": {},
   "outputs": [],
   "source": [
    "def encode(char, key, alphabets=alphabets):\n",
    "    '''\n",
    "    Encodes/Decodes a character based on a key.\n",
    "    \n",
    "    Alphabets could be created inside the function itself. But creating a list of alphabets every single time\n",
    "    we want to encrypt a character would be a waste of resource. So we pass list of alphabets as a `default` parameter.\n",
    "    '''\n",
    "    \n",
    "    # isalpha() is True when char \n",
    "    # is an alphabet, else False\n",
    "    if not char.isalpha():\n",
    "        return char\n",
    "    \n",
    "    # caseConvert is a switch to remind us \n",
    "    # upper case to lower and then back before returning\n",
    "    if char.isupper():\n",
    "        case_convert = True\n",
    "    else:\n",
    "        case_convert = False\n",
    "        \n",
    "    # even when key is less than 26 say 1, 1 % 26 = 1\n",
    "    # % is the modulus operator\n",
    "    key = key % 26    \n",
    "    \n",
    "    encoded_index = alphabets.index(char.lower()) + key\n",
    "    \n",
    "    if encoded_index >= 26:\n",
    "        \n",
    "        # encoded_index = 26, actually implies 0\n",
    "        # encoded_index = 27, actually implies 1 and so on\n",
    "        encoded_index = encoded_index - 26\n",
    "        \n",
    "    encoded_char = alphabets[encoded_index]\n",
    "    \n",
    "    if case_convert:\n",
    "        return encoded_char.upper()\n",
    "    else:\n",
    "        return encoded_char"
   ]
  },
  {
   "cell_type": "code",
   "execution_count": 19,
   "metadata": {},
   "outputs": [
    {
     "data": {
      "text/plain": [
       "('M', 'm', '@')"
      ]
     },
     "execution_count": 19,
     "metadata": {},
     "output_type": "execute_result"
    }
   ],
   "source": [
    "# works great!\n",
    "encode(\"A\", 1000), encode(\"a\", 1000), encode(\"@\", 100)"
   ]
  },
  {
   "cell_type": "markdown",
   "metadata": {},
   "source": [
    "Last but not the least, let's wrap all of this with another function that when given a string and key, returns the encrypted/decrypted text. This should be a piece of cake!"
   ]
  },
  {
   "cell_type": "code",
   "execution_count": 20,
   "metadata": {},
   "outputs": [],
   "source": [
    "def encode_text(text, key):\n",
    "    result = ''\n",
    "    \n",
    "    for char in text:\n",
    "        result += encode(char, key)\n",
    "        \n",
    "    return result"
   ]
  },
  {
   "cell_type": "code",
   "execution_count": 21,
   "metadata": {},
   "outputs": [
    {
     "data": {
      "text/plain": [
       "'Erpe Wrqljkw!'"
      ]
     },
     "execution_count": 21,
     "metadata": {},
     "output_type": "execute_result"
    }
   ],
   "source": [
    "# Erpe Wrqljkw!\n",
    "encode_text(\"Bomb Tonight!\", key=3)"
   ]
  },
  {
   "cell_type": "markdown",
   "metadata": {},
   "source": [
    "##### `Note` on assert *keyword*:\n",
    "\n",
    "assert keyword helps in placing periodic checks in our code. It is incredibly helpful especially when we build our code in a trial and error fashion. Strategically placing assertion statements can save us a ton of time that would be wasted otherwise in debugging errors.\n",
    "\n",
    "The syntax is as follows: assert <condition>. It is really that simple. It throws an error if the condition is False and if the condition evaluates to True it does nothing and lets the program to proceed. Assertion statements are more like tollgates that ensure the program is proceeding as it should be proceeding."
   ]
  },
  {
   "cell_type": "code",
   "execution_count": 22,
   "metadata": {},
   "outputs": [
    {
     "ename": "AssertionError",
     "evalue": "",
     "output_type": "error",
     "traceback": [
      "\u001b[0;31m---------------------------------------------------------------------------\u001b[0m",
      "\u001b[0;31mAssertionError\u001b[0m                            Traceback (most recent call last)",
      "\u001b[0;32m<ipython-input-22-2b05b42c934d>\u001b[0m in \u001b[0;36m<module>\u001b[0;34m\u001b[0m\n\u001b[1;32m      3\u001b[0m \u001b[0;34m\u001b[0m\u001b[0m\n\u001b[1;32m      4\u001b[0m \u001b[0;31m# throws an AssertionError\u001b[0m\u001b[0;34m\u001b[0m\u001b[0;34m\u001b[0m\u001b[0;34m\u001b[0m\u001b[0m\n\u001b[0;32m----> 5\u001b[0;31m \u001b[0;32massert\u001b[0m \u001b[0;32mFalse\u001b[0m\u001b[0;34m\u001b[0m\u001b[0;34m\u001b[0m\u001b[0m\n\u001b[0m",
      "\u001b[0;31mAssertionError\u001b[0m: "
     ]
    }
   ],
   "source": [
    "# # Does nothing\n",
    "# assert True\n",
    "\n",
    "# throws an AssertionError\n",
    "assert False"
   ]
  },
  {
   "cell_type": "markdown",
   "metadata": {},
   "source": [
    "`Note` on Zip *function*:\n",
    "\n",
    "Zip() is an amazing utility function. It basically takes in \"n\" number of *iterables* passed as function arguments & generates a series of tuples containing elements from each iterable.\n",
    "\n",
    "Say you have two lists: `Products` & `Prices` as follows:"
   ]
  },
  {
   "cell_type": "code",
   "execution_count": 23,
   "metadata": {},
   "outputs": [],
   "source": [
    "products = ['apple', 'oranges', 'mangoes', 'toothpaste']\n",
    "prices = [100, 50, 80, 30]"
   ]
  },
  {
   "cell_type": "markdown",
   "metadata": {},
   "source": [
    "How do you combine these products with its respective price? One easy way would be to use the zip function as follows:"
   ]
  },
  {
   "cell_type": "code",
   "execution_count": 24,
   "metadata": {},
   "outputs": [
    {
     "name": "stdout",
     "output_type": "stream",
     "text": [
      "<zip object at 0x7f362632b180>\n",
      "[('apple', 100), ('oranges', 50), ('mangoes', 80), ('toothpaste', 30)]\n"
     ]
    },
    {
     "data": {
      "text/plain": [
       "(tuple, ('apple', 100))"
      ]
     },
     "execution_count": 24,
     "metadata": {},
     "output_type": "execute_result"
    }
   ],
   "source": [
    "# returns a zip iterator object\n",
    "temp = zip(products, prices)\n",
    "print (temp)\n",
    "\n",
    "# to see its contents, we need to use list\n",
    "temp = list(temp)\n",
    "print (temp)\n",
    "\n",
    "# each element of this object is a tuple\n",
    "type(temp[0]), temp[0]"
   ]
  },
  {
   "cell_type": "markdown",
   "metadata": {},
   "source": [
    "Since zip object is an iterator, when using inside a for loop we don't have to convert the iterator to a list. We can do something like this:"
   ]
  },
  {
   "cell_type": "code",
   "execution_count": 25,
   "metadata": {},
   "outputs": [
    {
     "name": "stdout",
     "output_type": "stream",
     "text": [
      "Product Name: apple           | Price:   100\n",
      "Product Name: oranges         | Price:    50\n",
      "Product Name: mangoes         | Price:    80\n",
      "Product Name: toothpaste      | Price:    30\n"
     ]
    }
   ],
   "source": [
    "for product, price in zip(products, prices):\n",
    "    \n",
    "    # using f-strings; :15 reserves 15 empty spaces\n",
    "    # String -> Empty spaces to the RIGHT\n",
    "    # Integer -> Empty spaces to the LEFT\n",
    "    print (f\"Product Name: {product:15} | Price: {price:5}\")"
   ]
  },
  {
   "cell_type": "markdown",
   "metadata": {},
   "source": [
    "### Step 5:\n",
    "\n",
    "Finally, verify that the outputs of your code matches with the expected output. \n",
    "\n",
    "Let's simply use the sample problems we worked out earlier."
   ]
  },
  {
   "cell_type": "code",
   "execution_count": 26,
   "metadata": {},
   "outputs": [
    {
     "name": "stdout",
     "output_type": "stream",
     "text": [
      "Encryption:\n",
      "Python => Zidryx\n",
      "Julia => Dofcu\n",
      "Scala => Rbzkz\n",
      "Matlab => Nbumbc\n"
     ]
    }
   ],
   "source": [
    "# copied from our sample problems\n",
    "keys = [10, 20, 25, 1]\n",
    "texts = ['Python', 'Julia', 'Scala', 'Matlab']\n",
    "expected = ['Zidryx', 'Dofcu', 'Rbzkz', 'Nbumbc']\n",
    "\n",
    "print (\"Encryption:\")\n",
    "# we use zip to combine elements of these lists together\n",
    "for key, text, expected_word in zip(keys, texts, expected):\n",
    "    result = encode_text(text, key)\n",
    "    assert result == expected_word\n",
    "    print (f\"{text} => {result}\")"
   ]
  },
  {
   "cell_type": "code",
   "execution_count": 27,
   "metadata": {},
   "outputs": [
    {
     "name": "stdout",
     "output_type": "stream",
     "text": [
      "Decryption:\n",
      "Zidryx => Python\n",
      "Dofcu => Julia\n",
      "Rbzkz => Scala\n",
      "Nbumbc => Matlab\n"
     ]
    }
   ],
   "source": [
    "# what about decryption?\n",
    "print (\"Decryption:\")\n",
    "\n",
    "for key, text, expected_word in zip(keys, expected, texts):\n",
    "    result = encode_text(text, -key)\n",
    "    assert result == expected_word\n",
    "    print (f\"{text} => {result}\")"
   ]
  },
  {
   "cell_type": "markdown",
   "metadata": {},
   "source": [
    "### Bonus:\n",
    "#### Quick, we need your Help - 1:\n",
    "\n",
    "We are at war with country Britania. A highly confidential message has been captured during its transmission to one of its Allies. Successfully deciphering this message could lead to a swift turn of events in our favour. Our intelligence suggests that country Britania is likely to have used *Caesar Cipher* for its encryption. Unfortunately though, we do not have any clue as to what the actual *key* might be. \n",
    "\n",
    "You are the only person with the requiste knowledge to decipher the message. Can you decipher this crucial message for us?\n",
    "\n",
    "The captured message:\n",
    "\n",
    "    Vg unf pbzr gb bhe xabjyrqtr, gung gur rarzl unf qvfpbirerq bhe eryvnapr ba Pnrfne Pvcure va nyy bs bhe frpherq zrffntr genafzvffvba. Guvf arprffvgngrf n arrq sbe rfgnoyvfuvat n zber frpher pvcure. Jr unir qrpvqrq uraprsbegu gb fuha gur hfntr bs pnrfne pvcure naq fuvsg gb hfvat ivtarer pvcure va nyy bs bhe genafzvffvbaf. \"Nyy unvy oevgnavn\" vf xrl gung vf gb or hfrq sbe qrpelcgvat bhe shgher zrffntrf.\n",
    "\n",
    "`Hint`: There are only 26 alphabets in english after all."
   ]
  },
  {
   "cell_type": "code",
   "execution_count": null,
   "metadata": {},
   "outputs": [],
   "source": []
  }
 ],
 "metadata": {
  "kernelspec": {
   "display_name": "Python 3",
   "language": "python",
   "name": "python3"
  },
  "language_info": {
   "codemirror_mode": {
    "name": "ipython",
    "version": 3
   },
   "file_extension": ".py",
   "mimetype": "text/x-python",
   "name": "python",
   "nbconvert_exporter": "python",
   "pygments_lexer": "ipython3",
   "version": "3.9.2"
  }
 },
 "nbformat": 4,
 "nbformat_minor": 4
}
