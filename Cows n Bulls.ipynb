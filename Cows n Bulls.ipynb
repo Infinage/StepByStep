{
 "cells": [
  {
   "cell_type": "markdown",
   "id": "proved-celebration",
   "metadata": {},
   "source": [
    "## Question:\n",
    "Write a python program to simulate a game of cows & bulls. \n",
    "\n",
    "The computer outputs a random number, *n characters long*, with no digits repeated. For a maximum of *k turns*, the user guesses the number and for each guess the computer provides hints (Count of Cows, Count of Bulls) to help the user find the actual number.\n",
    "\n",
    "Correct digit at the correct place is reported as a **Bull**.<br>\n",
    "Correct digit at the wrong place is reported as a **Cow**."
   ]
  },
  {
   "cell_type": "markdown",
   "id": "wrong-detection",
   "metadata": {},
   "source": [
    "### Step 1:\n",
    "Create a very simple solution. Cheat if you have to. This step is to help us understand the problem better and in more depth. Understandably a lot of problems don't have such easy or quick solutions, in those cases skip to STEP 2 & workout the problem BY HAND. \n",
    "\n",
    "This is a pretty straight forward game to play and one of the simplest games to simulate. You can play cows and bulls online [here](http://www.bullscows.com/).\n",
    "\n",
    "Although playing game may seem a bit of a challenge to the brains cells, simulating the game is a no brainer."
   ]
  },
  {
   "cell_type": "markdown",
   "id": "finite-priority",
   "metadata": {},
   "source": [
    "### Step 2: \n",
    "\n",
    "In order to solve a programming problem, we need to understand the problem ourselves first. Efficient solutions can only be discovered if YOU have a thorough understanding of the problem.\n",
    "\n",
    "Against a set of inputs, workout your solution and compare it with the expected solution. If you don't have the luxury of a working solution yet, by all means work out the problem by HAND.\n",
    "\n",
    "Like always, I recommend that you play a couple of games online in that website to understand how the number is actually generated. Certain online versions of cows and bulls allows us to play the same game with alphabets.\n",
    "\n",
    "The only primary criteria in generating the random word/number is that it has to be an ISOGRAM, meaning that no character or digit can occur more than once:\n",
    "\n",
    "1234 is allowed.<br>\n",
    "1224 is not allowed.\n",
    "\n",
    "9456 is allowed.<br>\n",
    "9454 is not allowed.\n",
    "\n",
    "3575 is allowed.<br>\n",
    "3535 is not allowed.\n",
    "\n",
    "Mathematically for a 4 digit game, it has been proven that the game could be solved with a [maximum of 7 turns](https://www.grin.com/document/312138). But that is not in the scope of our concern right now."
   ]
  },
  {
   "cell_type": "markdown",
   "id": "weekly-modification",
   "metadata": {},
   "source": [
    "### Step 3:\n",
    "\n",
    "At this stage, we analyze and workout a rough algorithm. Here's a rough algorithm I came up with:\n",
    "\n",
    "<u>Number generation:</u>\n",
    "1. Input the length of the number. (Cannot exceed 10. *Why?*)\n",
    "2. Keep choosing random digits *without replacement* from [0, 2, .. 9] until required length of number is met.\n",
    "\n",
    "<u>Gameplay:</u>\n",
    "1. Initalize the bull and cow count to 0. Initialize chances left to \"K\".\n",
    "2. Repeat until (bull count == len(digits)) and (chances left != 0)\n",
    "    1. Reset cows and bulls count to 0\n",
    "    2. Input guess from user\n",
    "    3. For each character in user's guess\n",
    "        - If correct digit is in correction position increment bull count by 1\n",
    "        - Else if a correct digit is in the wrong position increment cow count by 1.\n",
    "    4. Display the cows and bulls count to user.\n",
    "    5. Decrement chances left by 1.\n",
    "3. If bull count == len(digits) display: \"You Win!\". Else \"You Lose!\""
   ]
  },
  {
   "cell_type": "markdown",
   "id": "usual-resource",
   "metadata": {},
   "source": [
    "\n",
    "### Step 4:\n",
    "\n",
    "Let's start building our code piece by piece. We will create several 'versions' of our actual function. Each version being built on top of the previous work that we had tested to be working right.\n",
    "\n",
    "Firstly let's start with the number generation part. We need a way to pick numbers from a list in a random fashion. The simplest way to do that is to use the `random` module of python. This module comes packed with a lot of useful functions builtin. We would be using `randint` function from this module."
   ]
  },
  {
   "cell_type": "code",
   "execution_count": 3,
   "id": "saving-education",
   "metadata": {},
   "outputs": [
    {
     "data": {
      "text/plain": [
       "1"
      ]
     },
     "execution_count": 3,
     "metadata": {},
     "output_type": "execute_result"
    }
   ],
   "source": [
    "import random\n",
    "\n",
    "# randint takes two values: lower_int_limit, upper_int_limit\n",
    "# both ends are inclusive\n",
    "random.randint(0, 10)"
   ]
  },
  {
   "cell_type": "code",
   "execution_count": 85,
   "id": "bored-literature",
   "metadata": {},
   "outputs": [
    {
     "data": {
      "text/plain": [
       "6"
      ]
     },
     "execution_count": 85,
     "metadata": {},
     "output_type": "execute_result"
    }
   ],
   "source": [
    "# all possible digits are saved to a list\n",
    "digits = [1, 2, 3, 4, 5, 6, 7, 8, 9, 0]\n",
    "\n",
    "# assume that n (digit size) is 4\n",
    "n = 4\n",
    "\n",
    "# how do we retreive a digit from the list of digits? We use list indexing. \n",
    "# First position of a list starts with 0 and increments all the way upto n - 1\n",
    "# digit in 6 th position would be at index: 6 - 1 = 5\n",
    "digits[5]"
   ]
  },
  {
   "cell_type": "code",
   "execution_count": 86,
   "id": "extreme-layer",
   "metadata": {},
   "outputs": [
    {
     "data": {
      "text/plain": [
       "0"
      ]
     },
     "execution_count": 86,
     "metadata": {},
     "output_type": "execute_result"
    }
   ],
   "source": [
    "# we use randint to pick a random index \n",
    "# Remember both `start` and `end` end points are included\n",
    "\n",
    "temp = random.randint(\n",
    "    0,                  # first index of a list is 0\n",
    "    len(digits) - 1     # maximum possible index of a list\n",
    ")\n",
    "\n",
    "temp"
   ]
  },
  {
   "cell_type": "code",
   "execution_count": 87,
   "id": "productive-diana",
   "metadata": {},
   "outputs": [
    {
     "data": {
      "text/plain": [
       "1"
      ]
     },
     "execution_count": 87,
     "metadata": {},
     "output_type": "execute_result"
    }
   ],
   "source": [
    "# Retreive this random index from our list of digits\n",
    "digits[temp]"
   ]
  },
  {
   "cell_type": "markdown",
   "id": "needed-spanish",
   "metadata": {},
   "source": [
    "*Why use *randint* to pick indices when we can use it directly to generate random numbers?*\n",
    "\n",
    "Although we could use randint for the purpose directly, remember that we need to generate an ISOGRAM with no repeating digits. We cannot guarantee random numbers to NOT REPEAT. \n",
    "\n",
    "The probability of a coin showing up heads is still 50% even if it had just shown 10 heads in a row. \n",
    "\n",
    "Randint can therefore generate the same digit more than once and that would pose a problem for us.\n",
    "\n",
    "Since we need all the digits in our secret number to be unique, we use this approach of obtaining by indices. As we keep picking random indices, we would also be removing those numbers from the digits to ensure that there is no repetition. For next iteration we would return from range of [0, len(digits)]. Since len(digits) is decremented every iteration after removal of an item, we can ensure that no digit in our secret number is repeated more than once.\n",
    "\n",
    "All this would become clear as you see the code below:"
   ]
  },
  {
   "cell_type": "code",
   "execution_count": 48,
   "id": "integrated-breeding",
   "metadata": {},
   "outputs": [
    {
     "name": "stdout",
     "output_type": "stream",
     "text": [
      "Len(digits): 9 | Secret Index: 3 | Secret Digit: 4 | Secret Number so far: 4\n",
      "Len(digits): 8 | Secret Index: 8 | Secret Digit: 0 | Secret Number so far: 40\n",
      "Len(digits): 7 | Secret Index: 1 | Secret Digit: 2 | Secret Number so far: 402\n",
      "Len(digits): 6 | Secret Index: 3 | Secret Digit: 6 | Secret Number so far: 4026\n"
     ]
    }
   ],
   "source": [
    "# the secret number is stored as a string\n",
    "# string has the advantage of easy concatenation\n",
    "secret = ''\n",
    "digits = [1, 2, 3, 4, 5, 6, 7, 8, 9, 0]\n",
    "n = 4\n",
    "\n",
    "for i in range(n):\n",
    "    \n",
    "    # pick a random index\n",
    "    secret_index = random.randint(0, len(digits)-1)\n",
    "    \n",
    "    # obtain the number at that index and save it to a variable\n",
    "    # pop() removes value at index and returns the removed value\n",
    "    secret_digit = digits.pop(secret_index)\n",
    "    \n",
    "    # concatenate to our secret string\n",
    "    secret = secret + str(secret_digit)\n",
    "    \n",
    "    print (\"Len(digits): {} | Secret Index: {} | Secret Digit: {} | Secret Number so far: {}\".format(\n",
    "        len(digits), secret_index, secret_digit, secret\n",
    "    ))"
   ]
  },
  {
   "cell_type": "markdown",
   "id": "corresponding-operator",
   "metadata": {},
   "source": [
    "I urge you to run the code above a couple of times. You may observe that although the *secret_index* value is repeated, the value of secret digit is always unique.\n",
    "\n",
    "Try playing around with the code above and answer the following:\n",
    "\n",
    "1. What happens when value of n is increased to value > 10?\n",
    "2. How many distinct secret numbers can be generated, when n is set to 1? \n",
    "3. What happens when n is set to 10? How many cows would be reported to any random user guess 10 digits long?\n",
    "\n",
    "Let's wrap up the code above to a function:"
   ]
  },
  {
   "cell_type": "code",
   "execution_count": 50,
   "id": "immune-expansion",
   "metadata": {},
   "outputs": [],
   "source": [
    "def generate_random(n):\n",
    "    secret = ''\n",
    "    digits = [1, 2, 3, 4, 5, 6, 7, 8, 9, 0]\n",
    "\n",
    "    for i in range(n):\n",
    "\n",
    "        # pick a random index\n",
    "        secret_index = random.randint(0, len(digits)-1)\n",
    "\n",
    "        # obtain the number at that index and save it to a variable\n",
    "        # pop() removes value at index and returns the removed value\n",
    "        secret_digit = digits.pop(secret_index)\n",
    "\n",
    "        # concatenate to our secret string\n",
    "        secret = secret + str(secret_digit)\n",
    "\n",
    "    return secret"
   ]
  },
  {
   "cell_type": "code",
   "execution_count": 55,
   "id": "jewish-twenty",
   "metadata": {},
   "outputs": [
    {
     "data": {
      "text/plain": [
       "'92164'"
      ]
     },
     "execution_count": 55,
     "metadata": {},
     "output_type": "execute_result"
    }
   ],
   "source": [
    "# sample run\n",
    "generate_random(5)"
   ]
  },
  {
   "cell_type": "markdown",
   "id": "configured-opera",
   "metadata": {},
   "source": [
    "Let's now write the function logic for user gameplay. Remember:\n",
    "\n",
    "    Correct Digit in Correct Position is a BULL.\n",
    "    Correct Digit in an Incorrect Position is a COW.\n",
    "    \n",
    "We create a function `return_cb_count` which returns a *tuple* of cows and bulls, given a guess and the actual secret number."
   ]
  },
  {
   "cell_type": "code",
   "execution_count": 56,
   "id": "popular-young",
   "metadata": {},
   "outputs": [],
   "source": [
    "def return_cb_count(guess, secret):\n",
    "    \n",
    "    # cc, bc are cow and bull count respectively\n",
    "    cc, bc = 0, 0\n",
    "    \n",
    "    for i in range(len(guess)):\n",
    "        if guess[i] == secret[i]:\n",
    "            bc += 1\n",
    "        elif guess[i] in secret:\n",
    "            cc += 1\n",
    "            \n",
    "    return cc, bc"
   ]
  },
  {
   "cell_type": "code",
   "execution_count": 71,
   "id": "dress-defeat",
   "metadata": {},
   "outputs": [
    {
     "name": "stdout",
     "output_type": "stream",
     "text": [
      "Guess:  1234\n",
      "Secret: 6184\n",
      "\n",
      "Number of Cows: 1\n",
      "Number of Bulls: 1\n"
     ]
    }
   ],
   "source": [
    "# let's test our function\n",
    "# run this cell a couple of times \n",
    "# to make sure code as expected\n",
    "\n",
    "guess = '1234'\n",
    "secret = generate_random(4)\n",
    "\n",
    "print (\"Guess:  {}\\nSecret: {}\\n\\nNumber of Cows: {}\\nNumber of Bulls: {}\".format(\n",
    "    guess, secret, *return_cb_count(guess, secret)\n",
    "))"
   ]
  },
  {
   "cell_type": "markdown",
   "id": "green-dependence",
   "metadata": {},
   "source": [
    "Now that we have both the essential ingredients, let's create our game:\n",
    "\n",
    "### Step 5:\n",
    "\n",
    "Finally, verify that the outputs of your code matches with the expected output."
   ]
  },
  {
   "cell_type": "code",
   "execution_count": 81,
   "id": "alone-motel",
   "metadata": {},
   "outputs": [
    {
     "name": "stdin",
     "output_type": "stream",
     "text": [
      "Enter the number of digits                :  4\n",
      "Maximum chances you'd wish to complete in :  7\n",
      "\n",
      "Enter your guess:  3210\n"
     ]
    },
    {
     "name": "stdout",
     "output_type": "stream",
     "text": [
      "For your guess: 3210 | Cow Count: 0 | Bull Count: 1\n"
     ]
    },
    {
     "name": "stdin",
     "output_type": "stream",
     "text": [
      "\n",
      "Enter your guess:  6540\n"
     ]
    },
    {
     "name": "stdout",
     "output_type": "stream",
     "text": [
      "For your guess: 6540 | Cow Count: 0 | Bull Count: 2\n"
     ]
    },
    {
     "name": "stdin",
     "output_type": "stream",
     "text": [
      "\n",
      "Enter your guess:  6517\n"
     ]
    },
    {
     "name": "stdout",
     "output_type": "stream",
     "text": [
      "For your guess: 6517 | Cow Count: 0 | Bull Count: 1\n"
     ]
    },
    {
     "name": "stdin",
     "output_type": "stream",
     "text": [
      "\n",
      "Enter your guess:  9580\n"
     ]
    },
    {
     "name": "stdout",
     "output_type": "stream",
     "text": [
      "For your guess: 9580 | Cow Count: 1 | Bull Count: 1\n"
     ]
    },
    {
     "name": "stdin",
     "output_type": "stream",
     "text": [
      "\n",
      "Enter your guess:  3548\n"
     ]
    },
    {
     "name": "stdout",
     "output_type": "stream",
     "text": [
      "For your guess: 3548 | Cow Count: 0 | Bull Count: 3\n"
     ]
    },
    {
     "name": "stdin",
     "output_type": "stream",
     "text": [
      "\n",
      "Enter your guess:  3549\n"
     ]
    },
    {
     "name": "stdout",
     "output_type": "stream",
     "text": [
      "For your guess: 3549 | Cow Count: 0 | Bull Count: 4\n",
      "\n",
      "You Win! The actual Number was: 3549\n"
     ]
    }
   ],
   "source": [
    "n = int(input(\"Enter the number of digits                : \"))\n",
    "k = int(input(\"Maximum chances you'd wish to complete in : \"))\n",
    "\n",
    "# generate the secret number\n",
    "secret = generate_random(n)\n",
    "\n",
    "cc = bc = 0\n",
    "while (bc != n) and (k > 0):\n",
    "    guess = input(\"\\nEnter your guess: \")\n",
    "    cc, bc = return_cb_count(guess, secret)\n",
    "    print (f\"For your guess: {guess} | Cow Count: {cc} | Bull Count: {bc}\")\n",
    "    k -= 1\n",
    "else:\n",
    "    \n",
    "    # bull count = max possible?\n",
    "    if (bc == n):\n",
    "        print (f\"\\nYou Win! The actual Number was: {secret}\")\n",
    "        \n",
    "    # chances have been exhausted\n",
    "    else:\n",
    "        print (f\"\\nYou Lose! Chances have been exhausted. The actual Number was: {secret}\")"
   ]
  }
 ],
 "metadata": {
  "kernelspec": {
   "display_name": "Python 3",
   "language": "python",
   "name": "python3"
  },
  "language_info": {
   "codemirror_mode": {
    "name": "ipython",
    "version": 3
   },
   "file_extension": ".py",
   "mimetype": "text/x-python",
   "name": "python",
   "nbconvert_exporter": "python",
   "pygments_lexer": "ipython3",
   "version": "3.9.2"
  }
 },
 "nbformat": 4,
 "nbformat_minor": 5
}
