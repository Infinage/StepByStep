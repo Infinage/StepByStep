{
 "cells": [
  {
   "cell_type": "markdown",
   "metadata": {},
   "source": [
    "## Question: \n",
    "Given two matrices, write a program to multiply them."
   ]
  },
  {
   "cell_type": "markdown",
   "metadata": {},
   "source": [
    "### Step 1: \n",
    "Create a most basic solution. Cheat if you have to. This step is to help us understand the problem better and in more depth. Understandably a lot of problems don't have such easy or quick solutions, in those cases skip to STEP 2 & workout the problem BY HAND. "
   ]
  },
  {
   "cell_type": "code",
   "execution_count": 117,
   "metadata": {},
   "outputs": [
    {
     "name": "stdout",
     "output_type": "stream",
     "text": [
      "Matrix A:         2 rows x 3 cols\n",
      "Matrix B:         3 rows x 2 cols\n",
      "\n",
      "Resultant Matrix: 2 rows x 2 cols\n"
     ]
    },
    {
     "data": {
      "text/plain": [
       "array([[11,  0],\n",
       "       [35, 20]])"
      ]
     },
     "execution_count": 117,
     "metadata": {},
     "output_type": "execute_result"
    }
   ],
   "source": [
    "# We cheat a little to help us understand better\n",
    "import numpy as np\n",
    "\n",
    "# Sample matrix a\n",
    "a = [\n",
    "    [0, -1, 2], \n",
    "    [4, 11, 2]\n",
    "]\n",
    "\n",
    "# Sample matrix b\n",
    "b = [\n",
    "    [3, -1], \n",
    "    [1, 2],\n",
    "    [6, 1]\n",
    "]\n",
    "\n",
    "# let's print the number of rows and number of columns for each matrix\n",
    "print (f\"Matrix A: {len(a):9} rows x {len(a[0])} cols\")\n",
    "print (f\"Matrix B: {len(b):9} rows x {len(b[0])} cols\")\n",
    "\n",
    "# mulitply the matrix using numpy\n",
    "result = np.array(a) @ np.array(b)\n",
    "\n",
    "# Shape of resultant array\n",
    "print (f\"\\nResultant Matrix: {len(result)} rows x {len(result[0])} cols\")\n",
    "\n",
    "# how does output look?\n",
    "result"
   ]
  },
  {
   "cell_type": "markdown",
   "metadata": {},
   "source": [
    "##### `Note` on python f Statements:\n",
    "\n",
    "Python F statements help us combine python code in between lines of text. It is convenient in a lot of ways plus also supports cool formattings tweaks."
   ]
  },
  {
   "cell_type": "code",
   "execution_count": 119,
   "metadata": {},
   "outputs": [
    {
     "data": {
      "text/plain": [
       "'Hello World!!!!!!!!!!'"
      ]
     },
     "execution_count": 119,
     "metadata": {},
     "output_type": "execute_result"
    }
   ],
   "source": [
    "# example of f - statement\n",
    "f\"Hello World{'!' * 10}\""
   ]
  },
  {
   "cell_type": "markdown",
   "metadata": {},
   "source": [
    "From the above multiplication, we can notice that after multiplication the shape of resultant matrix is different from either of the two matrices. We will dig more into it shortly. \n",
    "\n",
    "But before that, let's write python functions to replicate the results. We want the function to be such that, given two matrices as inputs, we want it to print the shapes and return the product of two matrices."
   ]
  },
  {
   "cell_type": "code",
   "execution_count": 120,
   "metadata": {},
   "outputs": [],
   "source": [
    "def np_mul(a, b):\n",
    "    \n",
    "    '''We are basically copy pasting code from above with the exception of `return result`.\n",
    "    return statements in python basically return a value to the `caller`.\n",
    "    \n",
    "    def square(a):\n",
    "        result = a * a\n",
    "        return result\n",
    "        \n",
    "    a = 10\n",
    "    b = square(a)\n",
    "    \n",
    "    The value of b after the function call now becomes 100. We assign b with whatever value results from \n",
    "    the `square` function call.\n",
    "    \n",
    "    '''\n",
    "    \n",
    "    print (f\"Matrix A: {len(a):9} rows x {len(a[0])} cols\")\n",
    "    print (f\"Matrix B: {len(b):9} rows x {len(b[0])} cols\")\n",
    "    \n",
    "    result = np.array(a) @ np.array(b)\n",
    "\n",
    "    print (f\"\\nResultant Matrix: {len(result)} rows x {len(result[0])} cols\")\n",
    "    \n",
    "    return result"
   ]
  },
  {
   "cell_type": "markdown",
   "metadata": {},
   "source": [
    "`Note` on `split` *method*, `map` *function* and `lambda` *keyword*:\n",
    "\n",
    "1. split() is a string *method*. If you type in str.\\<tab\\> it will show you a list of all *methods* available for string *objects*. Everything in the world of python is an object. (for a later tutorial). Split function splits the string based on a given *delimiter* passed as a argument. If you simply do a `str.split()` without any *arguments*, the delimiter is set by default to a whitespace character (tabs, spaces, newlines, etc).\n",
    "\n",
    "2. map() is one of my favorite functions. It takes in two arguments:\n",
    "    - function: Can be any function\n",
    "    - iterable: if you can do a \"for i in \\<insert_object_here\\>\" without any error, it is an iterable. Eg: Strings, List, Tuples, etc\n",
    "    \n",
    "3. lambda is similar to the \"def\" keyword of python, in a sense that both help in creating a function. lambda keyword however helps create \"short handed\" functions. It assumes the following format: `lambda <input(s)>: <output(s)>`. \n",
    "    \n",
    "Now applying what we had learnt in this **Note** section, lets do a simple task: Convert a string of numbers to a integer array."
   ]
  },
  {
   "cell_type": "code",
   "execution_count": 123,
   "metadata": {},
   "outputs": [
    {
     "name": "stdout",
     "output_type": "stream",
     "text": [
      "1 2 3 4\n",
      "['1', '2', '3', '4']\n",
      "[1, 2, 3, 4]\n"
     ]
    }
   ],
   "source": [
    "# our string of numbers\n",
    "temp = \"1 2 3 4\"\n",
    "print (temp)\n",
    "\n",
    "# let's use the split() method, by default delimiter is one or more whitespace(s)\n",
    "temp = temp.split()\n",
    "print (temp)\n",
    "\n",
    "# first we don't use map(), lets use simply a for loop\n",
    "for i in range(len(temp)):\n",
    "    temp[i] = int(temp[i])\n",
    "    \n",
    "print (temp)"
   ]
  },
  {
   "cell_type": "markdown",
   "metadata": {},
   "source": [
    "Now lets use map functions to do the same:"
   ]
  },
  {
   "cell_type": "code",
   "execution_count": 127,
   "metadata": {},
   "outputs": [
    {
     "data": {
      "text/plain": [
       "[1, 4, 9, 16]"
      ]
     },
     "execution_count": 127,
     "metadata": {},
     "output_type": "execute_result"
    }
   ],
   "source": [
    "# map function without lambda\n",
    "def square(x):\n",
    "    return x * x\n",
    "\n",
    "# how does it look?\n",
    "list(map(square, [1, 2, 3, 4]))"
   ]
  },
  {
   "cell_type": "code",
   "execution_count": 129,
   "metadata": {},
   "outputs": [
    {
     "data": {
      "text/plain": [
       "[1, 4, 9, 16]"
      ]
     },
     "execution_count": 129,
     "metadata": {},
     "output_type": "execute_result"
    }
   ],
   "source": [
    "# map function with lambda\n",
    "square = lambda x: x * x\n",
    "\n",
    "# lambda syntax: lambda <inp>: <output>\n",
    "list(map(square, [1, 2, 3, 4]))"
   ]
  },
  {
   "cell_type": "markdown",
   "metadata": {},
   "source": [
    "Due to its extremely convenient notation, it can be used as another argument straight away without the need to saving the function to an *indentifier.* \n",
    "\n",
    "See the example below where we convert a string to integer:"
   ]
  },
  {
   "cell_type": "code",
   "execution_count": 130,
   "metadata": {},
   "outputs": [
    {
     "data": {
      "text/plain": [
       "[1, 2, 3, 4]"
      ]
     },
     "execution_count": 130,
     "metadata": {},
     "output_type": "execute_result"
    }
   ],
   "source": [
    "# we don't create a new function, rather pass lambda function directly\n",
    "list(map(lambda x: int(x), ['1', '2', '3', '4']))"
   ]
  },
  {
   "cell_type": "markdown",
   "metadata": {},
   "source": [
    "Without you realizing it, you have succesfully learnt how to convert a string of numbers to an integer array. Congradulations!\n",
    "\n",
    "The above understanding was needed before we proceeded further. Now let's create that function that will input two matrics from the user, i.e, YOU."
   ]
  },
  {
   "cell_type": "code",
   "execution_count": 131,
   "metadata": {},
   "outputs": [],
   "source": [
    "def get_matrix():\n",
    "    \n",
    "    m = int(input(\"Enter the number of Rows for Matrix A: \"))\n",
    "    n = int(input(\"Enter the number of Columns for Matrix A\"))\n",
    "\n",
    "    a = []\n",
    "    for i in range(m):\n",
    "        row = input()       # get string input from user '1 2 3 4'\n",
    "        row = row.split()   # split it into so: ['1', '2', '3', '4']\n",
    "        row = map(int, row) # use map function to convert string array to int array\n",
    "        row = list(row)     # map function returns a map object, convert it to list object\n",
    "        a.append(row)       # append the row to list\n",
    "\n",
    "    m = int(input(\"\\nEnter the number of Rows for Matrix B: \"))\n",
    "    n = int(input(\"Enter the number of Columns for Matrix B\"))\n",
    "\n",
    "    b = []\n",
    "    for i in range(m):\n",
    "        \n",
    "        # chaining all the code above into a single line\n",
    "        b.append(list(map(int, input().split())))\n",
    "        \n",
    "    # finally we return (a, b): (Matrix a, Matrix b): (list, list)\n",
    "    return a, b"
   ]
  },
  {
   "cell_type": "code",
   "execution_count": 132,
   "metadata": {},
   "outputs": [
    {
     "name": "stdin",
     "output_type": "stream",
     "text": [
      "Enter the number of Rows for Matrix A:  4\n",
      "Enter the number of Columns for Matrix A 2\n",
      " 1 2\n",
      " 3 4\n",
      " 5 6\n",
      " 7 8\n",
      "\n",
      "Enter the number of Rows for Matrix B:  2\n",
      "Enter the number of Columns for Matrix B 3\n",
      " 1 2 3\n",
      " 4 5 6\n"
     ]
    },
    {
     "data": {
      "text/plain": [
       "([[1, 2], [3, 4], [5, 6], [7, 8]], [[1, 2, 3], [4, 5, 6]])"
      ]
     },
     "execution_count": 132,
     "metadata": {},
     "output_type": "execute_result"
    }
   ],
   "source": [
    "# lets check if our function works fine\n",
    "get_matrix()"
   ]
  },
  {
   "cell_type": "markdown",
   "metadata": {},
   "source": [
    "Working good. Now onto STEP2! \n",
    "\n",
    "### Step 2:\n",
    "In order to solve a programming problem, we need to understand the problem ourselves first. Efficient solutions can only be discovered if YOU have a thorough understanding of the problem. \n",
    "\n",
    "Against a set of inputs, workout your solution and compare it with the expected solution. If you don't have the luxury of a working solution yet, by all means work out the problem by HAND.\n",
    "\n",
    "In the code below, the cell keeps executing untill \\<CTRL\\> + C is hit. We keep inputing different set of inputs and checking the corresponding outputs. While doing so, do with the intent to discern a pattern of how the problem is actually solved. Your brain is really incredible at doing this. Keep solving sample problems until you have a vague mental algorithm of the how the problem could be solved."
   ]
  },
  {
   "cell_type": "code",
   "execution_count": 135,
   "metadata": {},
   "outputs": [
    {
     "name": "stdin",
     "output_type": "stream",
     "text": [
      "Enter the number of Rows for Matrix A:  a\n"
     ]
    },
    {
     "name": "stdout",
     "output_type": "stream",
     "text": [
      "Invalid Input! Press CTRL + C to exit.\n"
     ]
    },
    {
     "name": "stdin",
     "output_type": "stream",
     "text": [
      "Enter the number of Rows for Matrix A:  2\n",
      "Enter the number of Columns for Matrix A 3\n",
      " 1 2 3\n",
      " 4 5 6\n",
      "\n",
      "Enter the number of Rows for Matrix B:  1\n",
      "Enter the number of Columns for Matrix B 3\n",
      " 1 2 3\n"
     ]
    },
    {
     "name": "stdout",
     "output_type": "stream",
     "text": [
      "\n",
      "Matrix A:         2 rows x 3 cols\n",
      "Matrix B:         1 rows x 3 cols\n",
      "Invalid Input! Press CTRL + C to exit.\n"
     ]
    },
    {
     "name": "stdin",
     "output_type": "stream",
     "text": [
      "Enter the number of Rows for Matrix A:  2\n",
      "Enter the number of Columns for Matrix A 3\n",
      " 1 2 3\n",
      " 4 5 6\n",
      "\n",
      "Enter the number of Rows for Matrix B:  3\n",
      "Enter the number of Columns for Matrix B 5\n",
      " 1 2 3 4 5\n",
      " 1 2 3 4 5\n",
      " 1 2 3 4 5\n"
     ]
    },
    {
     "name": "stdout",
     "output_type": "stream",
     "text": [
      "\n",
      "Matrix A:         2 rows x 3 cols\n",
      "Matrix B:         3 rows x 5 cols\n",
      "\n",
      "Resultant Matrix: 2 rows x 5 cols\n",
      "[[ 6 12 18 24 30]\n",
      " [15 30 45 60 75]]\n"
     ]
    },
    {
     "name": "stdin",
     "output_type": "stream",
     "text": [
      "Enter the number of Rows for Matrix A:  a\n"
     ]
    }
   ],
   "source": [
    "while True:\n",
    "    try:\n",
    "        \n",
    "        a, b = get_matrix()\n",
    "\n",
    "        print()\n",
    "        temp = np_mul(a, b)\n",
    "        print (temp)\n",
    "        \n",
    "    except KeyboardInterrupt:\n",
    "        break\n",
    "        \n",
    "    except:\n",
    "        print (\"Invalid Input! Press CTRL + C to exit.\\n\")"
   ]
  },
  {
   "cell_type": "markdown",
   "metadata": {},
   "source": [
    "### Step 3: \n",
    "\n",
    "At this stage, we analyze and workout a rough algorithm. Here are our observations from previous step:\n",
    "\n",
    "1. Shape of resultant matrix is a combination of shape of matrix A and shape of Matrix B. \n",
    "\n",
    "        Let Shape of matrix A => (m1, n1)\n",
    "        Let shape of matrix B => (m2, n2)\n",
    "        Then, Shape of resultant Matrix => (m1, n2)\n",
    "        \n",
    "\n",
    "2. The value at any point of resultant matrix say (x, y) is the sum of individual products of row x of Matrix A and column y of Matrix B.\n",
    "\n",
    "For eg: \n",
    "```\n",
    "A = [\n",
    "    [0, -1, 2], \n",
    "    [4, 11, 2]\n",
    "]\n",
    "\n",
    "B = [\n",
    "    [3, -1], \n",
    "    [1, 2],\n",
    "    [6, 1]\n",
    "]\n",
    "\n",
    "Let result = A @ B\n",
    "\n",
    "Then value at any point (x, y): \n",
    "    result[x, y] = sum(A[x] * B[:, y])\n",
    "    \n",
    "Where B[:, y] implies yth column of matrix B.\n",
    "\n",
    "result[0, 0] = sum(A[0], B[:, 0])\n",
    "result[0, 0] = sum([0, ,-1, 2] * [3, 1, 6])\n",
    "result[0, 0] = sum([0, -1, 12])\n",
    "result[0, 0] = 11\n",
    "\n",
    "```\n",
    "\n",
    "Now let's slowly translate the above logic into running python code! To tinker with again, let's have two sample matrics ready:"
   ]
  },
  {
   "cell_type": "code",
   "execution_count": 136,
   "metadata": {},
   "outputs": [],
   "source": [
    "# Sample matrix a\n",
    "a = [\n",
    "    [0, -1, 2], \n",
    "    [4, 11, 2]\n",
    "]\n",
    "\n",
    "# Sample matrix b\n",
    "b = [\n",
    "    [3, -1], \n",
    "    [1, 2],\n",
    "    [6, 1]\n",
    "]"
   ]
  },
  {
   "cell_type": "markdown",
   "metadata": {},
   "source": [
    "`Note` on assert *keyword*:\n",
    "\n",
    "*assert* keyword helps in placing periodic checks in our code. It is incredibly helpful especially when we build our code in a trial and error fashion. Strategically placing assertion statements can save us a ton of time that would be wasted otherwise in debugging errors.\n",
    "\n",
    "The syntax is as follows: `assert <condition>`. It is really that simple. It throws an error if the condition is False and if the condition evaluates to True it does nothing and lets the program to proceed. Assertion statements are more like tollgates that ensure the program is proceeding as it should be proceeding."
   ]
  },
  {
   "cell_type": "code",
   "execution_count": 138,
   "metadata": {},
   "outputs": [
    {
     "ename": "AssertionError",
     "evalue": "",
     "output_type": "error",
     "traceback": [
      "\u001b[0;31m---------------------------------------------------------------------------\u001b[0m",
      "\u001b[0;31mAssertionError\u001b[0m                            Traceback (most recent call last)",
      "\u001b[0;32m<ipython-input-138-15a756f9f2af>\u001b[0m in \u001b[0;36m<module>\u001b[0;34m\u001b[0m\n\u001b[1;32m      3\u001b[0m \u001b[0;34m\u001b[0m\u001b[0m\n\u001b[1;32m      4\u001b[0m \u001b[0;31m# throws an AssertionError\u001b[0m\u001b[0;34m\u001b[0m\u001b[0;34m\u001b[0m\u001b[0;34m\u001b[0m\u001b[0m\n\u001b[0;32m----> 5\u001b[0;31m \u001b[0;32massert\u001b[0m \u001b[0;32mFalse\u001b[0m\u001b[0;34m\u001b[0m\u001b[0;34m\u001b[0m\u001b[0m\n\u001b[0m",
      "\u001b[0;31mAssertionError\u001b[0m: "
     ]
    }
   ],
   "source": [
    "# # Does nothing\n",
    "# assert True\n",
    "\n",
    "# throws an AssertionError\n",
    "assert False"
   ]
  },
  {
   "cell_type": "markdown",
   "metadata": {},
   "source": [
    "### Step 4:\n",
    "\n",
    "Let's start building our code piece by piece. We will create several 'versions' of our actual function. Each version being built on top of the previous work that we had tested to be working right.\n",
    "\n",
    "At the most basic stage, we need to ensure that matrices given as input be of the right shapes. Check what happens when we give 'wrong' shapes to numpy's matrix mulitplication:"
   ]
  },
  {
   "cell_type": "code",
   "execution_count": 145,
   "metadata": {},
   "outputs": [
    {
     "name": "stdout",
     "output_type": "stream",
     "text": [
      "Matrix A:         2 rows x 3 cols\n",
      "Matrix B:         2 rows x 3 cols\n"
     ]
    },
    {
     "ename": "ValueError",
     "evalue": "matmul: Input operand 1 has a mismatch in its core dimension 0, with gufunc signature (n?,k),(k,m?)->(n?,m?) (size 2 is different from 3)",
     "output_type": "error",
     "traceback": [
      "\u001b[0;31m---------------------------------------------------------------------------\u001b[0m",
      "\u001b[0;31mValueError\u001b[0m                                Traceback (most recent call last)",
      "\u001b[0;32m<ipython-input-145-2847ccad334c>\u001b[0m in \u001b[0;36m<module>\u001b[0;34m\u001b[0m\n\u001b[0;32m----> 1\u001b[0;31m \u001b[0mnp_mul\u001b[0m\u001b[0;34m(\u001b[0m\u001b[0ma\u001b[0m\u001b[0;34m,\u001b[0m \u001b[0ma\u001b[0m\u001b[0;34m)\u001b[0m\u001b[0;34m\u001b[0m\u001b[0;34m\u001b[0m\u001b[0m\n\u001b[0m",
      "\u001b[0;32m<ipython-input-120-38c737147415>\u001b[0m in \u001b[0;36mnp_mul\u001b[0;34m(a, b)\u001b[0m\n\u001b[1;32m     19\u001b[0m     \u001b[0mprint\u001b[0m \u001b[0;34m(\u001b[0m\u001b[0;34mf\"Matrix B: {len(b):9} rows x {len(b[0])} cols\"\u001b[0m\u001b[0;34m)\u001b[0m\u001b[0;34m\u001b[0m\u001b[0;34m\u001b[0m\u001b[0m\n\u001b[1;32m     20\u001b[0m \u001b[0;34m\u001b[0m\u001b[0m\n\u001b[0;32m---> 21\u001b[0;31m     \u001b[0mresult\u001b[0m \u001b[0;34m=\u001b[0m \u001b[0mnp\u001b[0m\u001b[0;34m.\u001b[0m\u001b[0marray\u001b[0m\u001b[0;34m(\u001b[0m\u001b[0ma\u001b[0m\u001b[0;34m)\u001b[0m \u001b[0;34m@\u001b[0m \u001b[0mnp\u001b[0m\u001b[0;34m.\u001b[0m\u001b[0marray\u001b[0m\u001b[0;34m(\u001b[0m\u001b[0mb\u001b[0m\u001b[0;34m)\u001b[0m\u001b[0;34m\u001b[0m\u001b[0;34m\u001b[0m\u001b[0m\n\u001b[0m\u001b[1;32m     22\u001b[0m \u001b[0;34m\u001b[0m\u001b[0m\n\u001b[1;32m     23\u001b[0m     \u001b[0mprint\u001b[0m \u001b[0;34m(\u001b[0m\u001b[0;34mf\"\\nResultant Matrix: {len(result)} rows x {len(result[0])} cols\"\u001b[0m\u001b[0;34m)\u001b[0m\u001b[0;34m\u001b[0m\u001b[0;34m\u001b[0m\u001b[0m\n",
      "\u001b[0;31mValueError\u001b[0m: matmul: Input operand 1 has a mismatch in its core dimension 0, with gufunc signature (n?,k),(k,m?)->(n?,m?) (size 2 is different from 3)"
     ]
    }
   ],
   "source": [
    "# (2, 3) @ (2, 3) is WRONG\n",
    "np_mul(a, a)"
   ]
  },
  {
   "cell_type": "markdown",
   "metadata": {},
   "source": [
    "Hence let's implement the same logic into our function as well:"
   ]
  },
  {
   "cell_type": "code",
   "execution_count": 146,
   "metadata": {},
   "outputs": [],
   "source": [
    "def multiply(a, b):\n",
    "    assert len(a[0]) == len(b)"
   ]
  },
  {
   "cell_type": "code",
   "execution_count": 148,
   "metadata": {},
   "outputs": [
    {
     "ename": "AssertionError",
     "evalue": "",
     "output_type": "error",
     "traceback": [
      "\u001b[0;31m---------------------------------------------------------------------------\u001b[0m",
      "\u001b[0;31mAssertionError\u001b[0m                            Traceback (most recent call last)",
      "\u001b[0;32m<ipython-input-148-83ab90e0ba65>\u001b[0m in \u001b[0;36m<module>\u001b[0;34m\u001b[0m\n\u001b[0;32m----> 1\u001b[0;31m \u001b[0mmultiply\u001b[0m\u001b[0;34m(\u001b[0m\u001b[0ma\u001b[0m\u001b[0;34m,\u001b[0m \u001b[0ma\u001b[0m\u001b[0;34m)\u001b[0m\u001b[0;34m\u001b[0m\u001b[0;34m\u001b[0m\u001b[0m\n\u001b[0m",
      "\u001b[0;32m<ipython-input-146-22eee412b598>\u001b[0m in \u001b[0;36mmultiply\u001b[0;34m(a, b)\u001b[0m\n\u001b[1;32m      1\u001b[0m \u001b[0;32mdef\u001b[0m \u001b[0mmultiply\u001b[0m\u001b[0;34m(\u001b[0m\u001b[0ma\u001b[0m\u001b[0;34m,\u001b[0m \u001b[0mb\u001b[0m\u001b[0;34m)\u001b[0m\u001b[0;34m:\u001b[0m\u001b[0;34m\u001b[0m\u001b[0;34m\u001b[0m\u001b[0m\n\u001b[0;32m----> 2\u001b[0;31m     \u001b[0;32massert\u001b[0m \u001b[0mlen\u001b[0m\u001b[0;34m(\u001b[0m\u001b[0ma\u001b[0m\u001b[0;34m[\u001b[0m\u001b[0;36m0\u001b[0m\u001b[0;34m]\u001b[0m\u001b[0;34m)\u001b[0m \u001b[0;34m==\u001b[0m \u001b[0mlen\u001b[0m\u001b[0;34m(\u001b[0m\u001b[0mb\u001b[0m\u001b[0;34m)\u001b[0m\u001b[0;34m\u001b[0m\u001b[0;34m\u001b[0m\u001b[0m\n\u001b[0m",
      "\u001b[0;31mAssertionError\u001b[0m: "
     ]
    }
   ],
   "source": [
    "multiply(a, a)"
   ]
  },
  {
   "cell_type": "markdown",
   "metadata": {},
   "source": [
    "Since we would be needing to calculate the matrix shapes frequently, let's write a simple function to help us do that."
   ]
  },
  {
   "cell_type": "code",
   "execution_count": 161,
   "metadata": {},
   "outputs": [],
   "source": [
    "def get_size(matrix):\n",
    "    'Rows -> len(matrix) | Columns -> len(matrix[0])'\n",
    "    \n",
    "    # ensure that it is actually a proper matrix\n",
    "    assert (len(matrix) > 0) and (type(matrix[0]) == list) and (list(map(len, matrix)).count(len(matrix[0])) == len(matrix))\n",
    "    \n",
    "    # return (row_size, col_size)\n",
    "    return len(matrix), len(matrix[0])"
   ]
  },
  {
   "cell_type": "code",
   "execution_count": 166,
   "metadata": {},
   "outputs": [
    {
     "name": "stdout",
     "output_type": "stream",
     "text": [
      "Rows, Columns for Matrix A: (2, 3)\n"
     ]
    },
    {
     "ename": "AssertionError",
     "evalue": "",
     "output_type": "error",
     "traceback": [
      "\u001b[0;31m---------------------------------------------------------------------------\u001b[0m",
      "\u001b[0;31mAssertionError\u001b[0m                            Traceback (most recent call last)",
      "\u001b[0;32m<ipython-input-166-f8a39f1613ba>\u001b[0m in \u001b[0;36m<module>\u001b[0;34m\u001b[0m\n\u001b[1;32m      3\u001b[0m \u001b[0;34m\u001b[0m\u001b[0m\n\u001b[1;32m      4\u001b[0m \u001b[0;31m# should throw an error\u001b[0m\u001b[0;34m\u001b[0m\u001b[0;34m\u001b[0m\u001b[0;34m\u001b[0m\u001b[0m\n\u001b[0;32m----> 5\u001b[0;31m \u001b[0mget_size\u001b[0m\u001b[0;34m(\u001b[0m\u001b[0;34m[\u001b[0m\u001b[0;34m[\u001b[0m\u001b[0;36m1\u001b[0m\u001b[0;34m,\u001b[0m \u001b[0;36m2\u001b[0m\u001b[0;34m,\u001b[0m \u001b[0;36m3\u001b[0m\u001b[0;34m]\u001b[0m\u001b[0;34m,\u001b[0m \u001b[0;34m[\u001b[0m\u001b[0;36m1\u001b[0m\u001b[0;34m,\u001b[0m \u001b[0;36m2\u001b[0m\u001b[0;34m]\u001b[0m\u001b[0;34m]\u001b[0m\u001b[0;34m)\u001b[0m\u001b[0;34m\u001b[0m\u001b[0;34m\u001b[0m\u001b[0m\n\u001b[0m",
      "\u001b[0;32m<ipython-input-161-210450b46867>\u001b[0m in \u001b[0;36mget_size\u001b[0;34m(matrix)\u001b[0m\n\u001b[1;32m      3\u001b[0m \u001b[0;34m\u001b[0m\u001b[0m\n\u001b[1;32m      4\u001b[0m     \u001b[0;31m# ensure that it is actually a proper matrix\u001b[0m\u001b[0;34m\u001b[0m\u001b[0;34m\u001b[0m\u001b[0;34m\u001b[0m\u001b[0m\n\u001b[0;32m----> 5\u001b[0;31m     \u001b[0;32massert\u001b[0m \u001b[0;34m(\u001b[0m\u001b[0mlen\u001b[0m\u001b[0;34m(\u001b[0m\u001b[0mmatrix\u001b[0m\u001b[0;34m)\u001b[0m \u001b[0;34m>\u001b[0m \u001b[0;36m0\u001b[0m\u001b[0;34m)\u001b[0m \u001b[0;32mand\u001b[0m \u001b[0;34m(\u001b[0m\u001b[0mtype\u001b[0m\u001b[0;34m(\u001b[0m\u001b[0mmatrix\u001b[0m\u001b[0;34m[\u001b[0m\u001b[0;36m0\u001b[0m\u001b[0;34m]\u001b[0m\u001b[0;34m)\u001b[0m \u001b[0;34m==\u001b[0m \u001b[0mlist\u001b[0m\u001b[0;34m)\u001b[0m \u001b[0;32mand\u001b[0m \u001b[0;34m(\u001b[0m\u001b[0mlist\u001b[0m\u001b[0;34m(\u001b[0m\u001b[0mmap\u001b[0m\u001b[0;34m(\u001b[0m\u001b[0mlen\u001b[0m\u001b[0;34m,\u001b[0m \u001b[0mmatrix\u001b[0m\u001b[0;34m)\u001b[0m\u001b[0;34m)\u001b[0m\u001b[0;34m.\u001b[0m\u001b[0mcount\u001b[0m\u001b[0;34m(\u001b[0m\u001b[0mlen\u001b[0m\u001b[0;34m(\u001b[0m\u001b[0mmatrix\u001b[0m\u001b[0;34m[\u001b[0m\u001b[0;36m0\u001b[0m\u001b[0;34m]\u001b[0m\u001b[0;34m)\u001b[0m\u001b[0;34m)\u001b[0m \u001b[0;34m==\u001b[0m \u001b[0mlen\u001b[0m\u001b[0;34m(\u001b[0m\u001b[0mmatrix\u001b[0m\u001b[0;34m)\u001b[0m\u001b[0;34m)\u001b[0m\u001b[0;34m\u001b[0m\u001b[0;34m\u001b[0m\u001b[0m\n\u001b[0m\u001b[1;32m      6\u001b[0m \u001b[0;34m\u001b[0m\u001b[0m\n\u001b[1;32m      7\u001b[0m     \u001b[0;31m# return (row_size, col_size)\u001b[0m\u001b[0;34m\u001b[0m\u001b[0;34m\u001b[0m\u001b[0;34m\u001b[0m\u001b[0m\n",
      "\u001b[0;31mAssertionError\u001b[0m: "
     ]
    }
   ],
   "source": [
    "# should work as expected\n",
    "print (\"Rows, Columns for Matrix A:\", get_size(a))\n",
    "\n",
    "# should throw an error\n",
    "get_size([[1, 2, 3], [1, 2]])"
   ]
  },
  {
   "cell_type": "markdown",
   "metadata": {},
   "source": [
    "Now let's alter our multiply function such that it can return an empty list of the proper size of resultant matrix. We will write the logic to fill in those values at a later stage."
   ]
  },
  {
   "cell_type": "code",
   "execution_count": 234,
   "metadata": {},
   "outputs": [],
   "source": [
    "def multiply(a, b):\n",
    "    \n",
    "    # obtain the size of matrix a and matrix b\n",
    "    size1 = get_size(a)\n",
    "    size2 = get_size(b)\n",
    "    \n",
    "    # ensure the size compatibility\n",
    "    assert size1[1] == size2[0]\n",
    "    \n",
    "    # how should the resultant matrix be shaped?\n",
    "    size3 = (size1[0], size2[1])\n",
    "    \n",
    "    # each row should have the following shape: [0, 0, ... size2[1] / size3[1]]\n",
    "    # there should be size1[0] number of such rows\n",
    "    # this Format is called as List Comprehension where condense two for loops\n",
    "    \n",
    "    result = [\n",
    "        [0 for i in range(size3[1])]   # Inner Loop, each row\n",
    "              for i in range(size3[0]) # Outer loop\n",
    "    ]\n",
    "    \n",
    "    return result    "
   ]
  },
  {
   "cell_type": "markdown",
   "metadata": {},
   "source": [
    "Let's test our code until this step."
   ]
  },
  {
   "cell_type": "code",
   "execution_count": 235,
   "metadata": {},
   "outputs": [
    {
     "name": "stdout",
     "output_type": "stream",
     "text": [
      "Shape of A: (2, 3)\n",
      "Shape o B: (3, 2)\n",
      "Shape of Result: (2, 2)\n",
      "\n",
      "Shape of A: (3, 2)\n",
      "Shape o B: (2, 3)\n",
      "Shape of Result: (3, 3)\n"
     ]
    }
   ],
   "source": [
    "print (\"Shape of A:\", get_size(a))\n",
    "print (\"Shape o B:\", get_size(b))\n",
    "print (\"Shape of Result:\", get_size(multiply(a, b)))\n",
    "\n",
    "print (\"\\nShape of A:\", get_size(b))\n",
    "print (\"Shape o B:\", get_size(a))\n",
    "print (\"Shape of Result:\", get_size(multiply(b, a)))"
   ]
  },
  {
   "cell_type": "markdown",
   "metadata": {},
   "source": [
    "Working good! Now we have arrived at the climax of our notebook. This is the most crucial part where we are going to implement the second insight from **STEP 2**.\n",
    "\n",
    "I always believe that if any step can be broken down into simpler steps, always do so. We can later integrate these tinier subfunctions. I love this approach since if we eliminate the possibility of error in the subfunction and the result is still not as the one we expected, we pin point the error to the integration portion of the code and not the subfunction itself.\n",
    "\n",
    "Soo let's work that portion out:"
   ]
  },
  {
   "cell_type": "code",
   "execution_count": 236,
   "metadata": {},
   "outputs": [],
   "source": [
    "def multiply_elements(a, b):\n",
    "    '''\n",
    "    Given two lists we need a function that will multiply the individual elements and return a list.\n",
    "    \n",
    "        Input  => [1, 2, 3], [2, 2, 2]\n",
    "        Output => [2, 4, 6]\n",
    "    '''\n",
    "    \n",
    "    # firstly ensure that both lists are of same shape\n",
    "    assert len(a) == len(b)\n",
    "    \n",
    "    result = []\n",
    "    for i in range(len(a)):        # len(a) == len(b) so can insert anything here\n",
    "        result.append(a[i] * b[i]) # multiply result and add it to the list\n",
    "        \n",
    "    return result"
   ]
  },
  {
   "cell_type": "code",
   "execution_count": 237,
   "metadata": {},
   "outputs": [
    {
     "name": "stdout",
     "output_type": "stream",
     "text": [
      "[2, 4, 6, 8]\n",
      "[2, 4, 6]\n",
      "[3, 8]\n",
      "[100]\n"
     ]
    },
    {
     "ename": "AssertionError",
     "evalue": "",
     "output_type": "error",
     "traceback": [
      "\u001b[0;31m---------------------------------------------------------------------------\u001b[0m",
      "\u001b[0;31mAssertionError\u001b[0m                            Traceback (most recent call last)",
      "\u001b[0;32m<ipython-input-237-6cb83628150d>\u001b[0m in \u001b[0;36m<module>\u001b[0;34m\u001b[0m\n\u001b[1;32m      7\u001b[0m \u001b[0;34m\u001b[0m\u001b[0m\n\u001b[1;32m      8\u001b[0m \u001b[0;31m# should throw an error\u001b[0m\u001b[0;34m\u001b[0m\u001b[0;34m\u001b[0m\u001b[0;34m\u001b[0m\u001b[0m\n\u001b[0;32m----> 9\u001b[0;31m \u001b[0mmultiply_elements\u001b[0m\u001b[0;34m(\u001b[0m\u001b[0;34m[\u001b[0m\u001b[0;36m1\u001b[0m\u001b[0;34m,\u001b[0m \u001b[0;36m2\u001b[0m\u001b[0;34m,\u001b[0m\u001b[0;34m]\u001b[0m\u001b[0;34m,\u001b[0m \u001b[0;34m[\u001b[0m\u001b[0;36m1\u001b[0m\u001b[0;34m]\u001b[0m\u001b[0;34m)\u001b[0m\u001b[0;34m\u001b[0m\u001b[0;34m\u001b[0m\u001b[0m\n\u001b[0m",
      "\u001b[0;32m<ipython-input-236-7ddf1421d8cb>\u001b[0m in \u001b[0;36mmultiply_elements\u001b[0;34m(a, b)\u001b[0m\n\u001b[1;32m      8\u001b[0m \u001b[0;34m\u001b[0m\u001b[0m\n\u001b[1;32m      9\u001b[0m     \u001b[0;31m# firstly ensure that both lists are of same shape\u001b[0m\u001b[0;34m\u001b[0m\u001b[0;34m\u001b[0m\u001b[0;34m\u001b[0m\u001b[0m\n\u001b[0;32m---> 10\u001b[0;31m     \u001b[0;32massert\u001b[0m \u001b[0mlen\u001b[0m\u001b[0;34m(\u001b[0m\u001b[0ma\u001b[0m\u001b[0;34m)\u001b[0m \u001b[0;34m==\u001b[0m \u001b[0mlen\u001b[0m\u001b[0;34m(\u001b[0m\u001b[0mb\u001b[0m\u001b[0;34m)\u001b[0m\u001b[0;34m\u001b[0m\u001b[0;34m\u001b[0m\u001b[0m\n\u001b[0m\u001b[1;32m     11\u001b[0m \u001b[0;34m\u001b[0m\u001b[0m\n\u001b[1;32m     12\u001b[0m     \u001b[0mresult\u001b[0m \u001b[0;34m=\u001b[0m \u001b[0;34m[\u001b[0m\u001b[0;34m]\u001b[0m\u001b[0;34m\u001b[0m\u001b[0;34m\u001b[0m\u001b[0m\n",
      "\u001b[0;31mAssertionError\u001b[0m: "
     ]
    }
   ],
   "source": [
    "# now let's test our little function against different inputs\n",
    "\n",
    "print (multiply_elements([1, 2, 3, 4], [2, 2, 2, 2]))\n",
    "print (multiply_elements([1, 2, 3], [2, 2, 2]))\n",
    "print (multiply_elements([1, 2], [3, 4]))\n",
    "print (multiply_elements([1], [100]))\n",
    "\n",
    "# should throw an error\n",
    "multiply_elements([1, 2,], [1])"
   ]
  },
  {
   "cell_type": "markdown",
   "metadata": {},
   "source": [
    "Now we write another function that would help us get all the elements of a matrix \"column wise\"."
   ]
  },
  {
   "cell_type": "code",
   "execution_count": 238,
   "metadata": {},
   "outputs": [],
   "source": [
    "def get_col_by_index(matrix, index):\n",
    "    \n",
    "    # obtain the dimensions of the matrix\n",
    "    m, n = get_size(matrix)\n",
    "    \n",
    "    # ensure that the index lies within the dimensions of matrix\n",
    "    # n is maximum number of columns\n",
    "    # We use \"-1\" since indices start with 0 and end at n - 1\n",
    "    assert 0 <= index <= n - 1 \n",
    "    \n",
    "    result = []\n",
    "    for i in range(m):\n",
    "        result.append(matrix[i][index])\n",
    "        \n",
    "    return result"
   ]
  },
  {
   "cell_type": "code",
   "execution_count": 239,
   "metadata": {},
   "outputs": [
    {
     "data": {
      "text/plain": [
       "([-1, 2, 1], [-1, 2, 1])"
      ]
     },
     "execution_count": 239,
     "metadata": {},
     "output_type": "execute_result"
    }
   ],
   "source": [
    "# verify they match\n",
    "\n",
    "col = 1\n",
    "get_col_by_index(b, col), list(np.array(b).T[col])"
   ]
  },
  {
   "cell_type": "markdown",
   "metadata": {},
   "source": [
    "We now combine `get_col_by_index` and `multiply_elements`. Let's see how that can be done."
   ]
  },
  {
   "cell_type": "code",
   "execution_count": 240,
   "metadata": {},
   "outputs": [
    {
     "name": "stdout",
     "output_type": "stream",
     "text": [
      "We multiply [0, -1, 2] with [3, 1, 6] element by element.\n",
      "We get result: [0, -1, 12]\n",
      "\n",
      "Result's Sum: 11\n",
      "Actual Value: 11\n"
     ]
    }
   ],
   "source": [
    "# At position (0, 0) of resultant matrix, the value should be\n",
    "print (f\"We multiply {a[0]} with {list(np.array(b).T[0])} element by element.\")\n",
    "temp = multiply_elements(a[0], get_col_by_index(b, 0))\n",
    "\n",
    "print (\"We get result:\", temp)\n",
    "print (\"\\nResult's Sum:\", sum(temp))\n",
    "print (\"Actual Value:\", (np.array(a) @ np.array(b))[0, 0])"
   ]
  },
  {
   "cell_type": "markdown",
   "metadata": {},
   "source": [
    "Here's where all the code we've built so far, comes together."
   ]
  },
  {
   "cell_type": "code",
   "execution_count": 241,
   "metadata": {},
   "outputs": [],
   "source": [
    "def multiply(a, b):\n",
    "    \n",
    "    # obtain the size of matrix a and matrix b\n",
    "    size1 = get_size(a)\n",
    "    size2 = get_size(b)\n",
    "    \n",
    "    # ensure the size compatibility\n",
    "    assert size1[1] == size2[0]\n",
    "    \n",
    "    # how should the resultant matrix be shaped?\n",
    "    size3 = (size1[0], size2[1])\n",
    "    \n",
    "    # each row should have the following shape: [0, 0, ... size2[1] / size3[1]]\n",
    "    # there should be size1[0] number of such rows\n",
    "    # this Format is called as List Comprehension where condense two for loops\n",
    "    \n",
    "    result = [\n",
    "        [0 for i in range(size3[1])]   # Inner Loop, each row\n",
    "              for i in range(size3[0]) # Outer loop\n",
    "    ]\n",
    "    \n",
    "    # we iterate through each and every position of resultant matrix\n",
    "    # for each position (x, y), we make suitable function call as we did above\n",
    "    \n",
    "    for i in range(size3[0]):\n",
    "        for j in range(size3[1]):\n",
    "            \n",
    "            # multiply individual values, sum it all up and save to result[x, y]\n",
    "            result[i][j] = sum(multiply_elements(a[i], get_col_by_index(b, j)))\n",
    "            \n",
    "    return result"
   ]
  },
  {
   "cell_type": "markdown",
   "metadata": {},
   "source": [
    "### Step 5:\n",
    "\n",
    "Finally, verify that the outputs of your code matches with the expected output."
   ]
  },
  {
   "cell_type": "code",
   "execution_count": 232,
   "metadata": {},
   "outputs": [
    {
     "name": "stdout",
     "output_type": "stream",
     "text": [
      "Matrix A:         2 rows x 3 cols\n",
      "Matrix B:         3 rows x 2 cols\n",
      "\n",
      "Resultant Matrix: 2 rows x 2 cols\n"
     ]
    },
    {
     "data": {
      "text/plain": [
       "array([[11,  0],\n",
       "       [35, 20]])"
      ]
     },
     "execution_count": 232,
     "metadata": {},
     "output_type": "execute_result"
    }
   ],
   "source": [
    "np_mul(a, b)"
   ]
  },
  {
   "cell_type": "code",
   "execution_count": 233,
   "metadata": {},
   "outputs": [
    {
     "data": {
      "text/plain": [
       "array([[11,  0],\n",
       "       [35, 20]])"
      ]
     },
     "execution_count": 233,
     "metadata": {},
     "output_type": "execute_result"
    }
   ],
   "source": [
    "np.array(multiply(a, b))"
   ]
  }
 ],
 "metadata": {
  "kernelspec": {
   "display_name": "Python 3",
   "language": "python",
   "name": "python3"
  },
  "language_info": {
   "codemirror_mode": {
    "name": "ipython",
    "version": 3
   },
   "file_extension": ".py",
   "mimetype": "text/x-python",
   "name": "python",
   "nbconvert_exporter": "python",
   "pygments_lexer": "ipython3",
   "version": "3.9.2"
  }
 },
 "nbformat": 4,
 "nbformat_minor": 4
}
