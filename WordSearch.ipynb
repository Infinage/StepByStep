{
 "cells": [
  {
   "cell_type": "markdown",
   "metadata": {},
   "source": [
    "## Question:\n",
    "Given a m x n grid of alphabets and a list of words, write a program to perform a wordsearch and highlight all the found words in bold in the grid."
   ]
  },
  {
   "cell_type": "markdown",
   "metadata": {},
   "source": [
    "### Step 1:\n",
    "Create a most basic solution. Cheat if you have to. This step is to help us understand the problem better and in more depth. Understandably a lot of problems don't have such easy or quick solutions, in those cases skip to STEP 2 & workout the problem BY HAND. \n",
    "\n",
    "A dirty working solution for this one is much harder to come by. One approach to this could be to look at online solvers. But I propose an even better idea: Work them out by HAND.\n",
    "\n",
    "<img src=\"https://i.giphy.com/media/JozPUJqrzDjZRXCTI5/giphy.webp\" alt=\"WorkOUt by Hand\"/>\n",
    "\n",
    "We skip this step and move directly to STEP 2."
   ]
  },
  {
   "cell_type": "markdown",
   "metadata": {},
   "source": [
    "### Step 2: \n",
    "\n",
    "In order to solve a programming problem, we need to understand the problem ourselves first. Efficient solutions can only be discovered if YOU have a thorough understanding of the problem.\n",
    "\n",
    "Against a set of inputs, workout your solution and compare it with the expected solution. If you don't have the luxury of a working solution yet, by all means work out the problem by HAND.\n",
    "\n",
    "Let's take a sample puzzle and try to solve it ourselves. You can solve more such puzzles [here](https://api.razzlepuzzles.com/wordsearch):\n",
    "\n",
    "<img src=\"https://i.ibb.co/k9nNy3d/1.gif\" alt=\"Solving WordSearch Puzzles\" width=500 height=500/>\n",
    "\n",
    "Solving puzzles are quite fun! But don't worry creating a working code for it would be just as fun too, I guarantee YOU! \n",
    "\n",
    "To get a better understanding, I recommend that you solve atleast another wordsearch puzzle especially if you haven't solved such puzzles before."
   ]
  },
  {
   "cell_type": "markdown",
   "metadata": {},
   "source": [
    "### Step 3:\n",
    "\n",
    "At this stage, we analyze and workout a rough algorithm. Here's a rough algorithm that I think would work reasonably well:\n",
    "\n",
    "```\n",
    "For each word in Hints:\n",
    "    For each character in Grid, search for word[0] == character:\n",
    "        If *character match* is found:\n",
    "            Move in all 8 directions to see if *entire word* matches\n",
    "            If *word match* is found:\n",
    "                Return Position and direction where match was found\n",
    "                Repeat entire step for next word in Hints\n",
    "    If all grid positions are exhausted with no match:\n",
    "        Add the word to \"notFound\"   \n",
    "```\n",
    "\n",
    "If the above \"algorithm\" seems confusing to you, don't worry I'll parse it for you now.\n",
    "\n",
    "We are given a list of hints and a grid of characters. We solve the puzzle by crossing out one word at a time. So if we can deduce the logic of how to find a single word in a grid of characters, we can repeat the same procedure for all the words. \n",
    "\n",
    "So for every word, we firstly search the grid where the first character of the word and character on grid matches. Say we are trying to find the word \"SANTA\". We then search the grid for the character \"S\". \n",
    "\n",
    "When such a match is found, we move in all of the 8 directions, i.e., RIGHT / LEFT / DOWN / TOP / TOP-LEFT / TOP-RIGHT / DOWN-LEFT / DOWN-RIGHT to see if we can find the entire word.\n",
    "\n",
    "If we are able to find the word there, we strike out the word as solved. If we can find the word even after check out every position on the grid it's likely that there's a mistake in the list of hints and hence we add it to our mental \"notFound\" List.\n",
    "\n",
    "This is exactly what the above \"algorithm\" does! Now that the logic is clear, let's move to STEP 4, where we get our hands dirty."
   ]
  },
  {
   "cell_type": "markdown",
   "metadata": {},
   "source": [
    "### Step 4:\n",
    "\n",
    "Let's start building our code piece by piece. We will create several 'versions' of our actual function. Each version being built on top of the previous work that we had tested to be working right.\n",
    "\n",
    "Until now, we hadn't written a single line of code. While this might have been annoying to some of you, I beleive that this is surest approach to solving any given problem. We need to understand the question ourselves before we can even begin attempting to code the problem. This tedious, foundational work is not a \"nice-to-have\" but rather a \"must-have\".\n",
    "\n",
    "Okay, so let's get to coding. \n",
    "\n",
    "We firstly need a sample puzzle grid with which we can test our incrementally built functions. Let's create one:"
   ]
  },
  {
   "cell_type": "code",
   "execution_count": 1,
   "metadata": {},
   "outputs": [],
   "source": [
    "# Sample Grid of WordSearch Puzzle\n",
    "inp = '''r g h t e n j s j g j d r j y t\n",
    "e a i e y t e g l a i s f w i e\n",
    "t b e l l r h t h e r n e e r g\n",
    "n c f r h o r y p c d r r r f h\n",
    "i r n o a n g e l a n x o r n o\n",
    "w o n s p b m s o s m t e s m l\n",
    "f o x i a n x w d o x i b r e i\n",
    "s a e a t n d r u u d u s r e d\n",
    "h e f f r t t u r k e y e e f a\n",
    "m n i k e a i a h s l g z h u y\n",
    "e g n i e m d o e g f l e o n i\n",
    "k h i o k l a a f t c m s u i r'''\n",
    "\n",
    "# Sample hints to find\n",
    "hints = [\n",
    "    'santa', 'turkey', 'bell', \n",
    "    'rudolph', 'gift', 'holiday', \n",
    "    'elf', 'winter', 'red', \n",
    "    'snow', 'noel', 'green', \n",
    "    'angel', 'tree', 'sled'\n",
    "]"
   ]
  },
  {
   "cell_type": "markdown",
   "metadata": {},
   "source": [
    "Given a string of space seperated characters, we need to convert it into a list of characters. This can be acheived using the `str.split()` method:"
   ]
  },
  {
   "cell_type": "code",
   "execution_count": 11,
   "metadata": {},
   "outputs": [
    {
     "name": "stdout",
     "output_type": "stream",
     "text": [
      "['a', 'b', 'c', 'd', 'e', 'f', 'g', 'h']\n",
      "['a', 'b', 'c', 'd', 'e', 'f', 'g', 'h']\n"
     ]
    }
   ],
   "source": [
    "# split takes an optional \"sep\" parameter sep specifies \n",
    "# the delimiter with which to split the string\n",
    "print (\"a b c d e f g h\".split(sep=\" \"))\n",
    "\n",
    "# by default sep=None => Any WHITESPACE character\n",
    "print (\"a b c d e f g h\".split())"
   ]
  },
  {
   "cell_type": "code",
   "execution_count": 14,
   "metadata": {},
   "outputs": [
    {
     "data": {
      "text/plain": [
       "[1, 4, 9, 16]"
      ]
     },
     "execution_count": 14,
     "metadata": {},
     "output_type": "execute_result"
    }
   ],
   "source": [
    "# map function applies a function across a sequence and returns \n",
    "# a \"map\" object we then convert map object to list \n",
    "\n",
    "def sq(x):\n",
    "    return x * x\n",
    "\n",
    "list(map(sq, [1, 2, 3, 4]))"
   ]
  },
  {
   "cell_type": "code",
   "execution_count": 16,
   "metadata": {},
   "outputs": [
    {
     "data": {
      "text/plain": [
       "['r g h t e n j s j g j d r j y t',\n",
       " 'e a i e y t e g l a i s f w i e',\n",
       " 't b e l l r h t h e r n e e r g',\n",
       " 'n c f r h o r y p c d r r r f h',\n",
       " 'i r n o a n g e l a n x o r n o',\n",
       " 'w o n s p b m s o s m t e s m l',\n",
       " 'f o x i a n x w d o x i b r e i',\n",
       " 's a e a t n d r u u d u s r e d',\n",
       " 'h e f f r t t u r k e y e e f a',\n",
       " 'm n i k e a i a h s l g z h u y',\n",
       " 'e g n i e m d o e g f l e o n i',\n",
       " 'k h i o k l a a f t c m s u i r']"
      ]
     },
     "execution_count": 16,
     "metadata": {},
     "output_type": "execute_result"
    }
   ],
   "source": [
    "# each row is seperate by a newline character \"\\n\"\n",
    "inp = inp.split(\"\\n\")\n",
    "\n",
    "# returns a list of strings\n",
    "inp"
   ]
  },
  {
   "cell_type": "code",
   "execution_count": 18,
   "metadata": {},
   "outputs": [
    {
     "name": "stdout",
     "output_type": "stream",
     "text": [
      "['r', 'g', 'h', 't', 'e', 'n', 'j', 's', 'j', 'g', 'j', 'd', 'r', 'j', 'y', 't']\n"
     ]
    }
   ],
   "source": [
    "# for EACH string in the list, we again split it by a space\n",
    "grid = list(map(lambda x: x.split(sep=\" \"), inp))\n",
    "\n",
    "# first row \n",
    "print (grid[0])"
   ]
  },
  {
   "cell_type": "markdown",
   "metadata": {},
   "source": [
    "Now we have our grid. Would it not be nice to be able to display it nicely? Let's write a function to do that:"
   ]
  },
  {
   "cell_type": "code",
   "execution_count": 20,
   "metadata": {},
   "outputs": [],
   "source": [
    "def show_grid(grid):\n",
    "    for row in grid:\n",
    "        print (\" \".join(row))"
   ]
  },
  {
   "cell_type": "code",
   "execution_count": 21,
   "metadata": {},
   "outputs": [
    {
     "name": "stdout",
     "output_type": "stream",
     "text": [
      "r g h t e n j s j g j d r j y t\n",
      "e a i e y t e g l a i s f w i e\n",
      "t b e l l r h t h e r n e e r g\n",
      "n c f r h o r y p c d r r r f h\n",
      "i r n o a n g e l a n x o r n o\n",
      "w o n s p b m s o s m t e s m l\n",
      "f o x i a n x w d o x i b r e i\n",
      "s a e a t n d r u u d u s r e d\n",
      "h e f f r t t u r k e y e e f a\n",
      "m n i k e a i a h s l g z h u y\n",
      "e g n i e m d o e g f l e o n i\n",
      "k h i o k l a a f t c m s u i r\n"
     ]
    }
   ],
   "source": [
    "show_grid(grid)"
   ]
  },
  {
   "cell_type": "markdown",
   "metadata": {},
   "source": [
    "##### `Note` on join *method*:\n",
    "str.join is another useful method. Basically a join method combines a sequence of strings to a single string. It takes the following syntax: \n",
    "\n",
    "       <seperator>.join(<String Array>)\n",
    "       \n",
    "Seperator is the character or String which should demarcate the Strings of String array in the final String. It can be seen as the oppposite of a split function."
   ]
  },
  {
   "cell_type": "code",
   "execution_count": 24,
   "metadata": {},
   "outputs": [
    {
     "name": "stdout",
     "output_type": "stream",
     "text": [
      "a b c d e f\n",
      "['a', 'b', 'c', 'd', 'e', 'f']\n",
      "a b c d e f\n"
     ]
    }
   ],
   "source": [
    "temp = \"a b c d e f\"\n",
    "print (temp)\n",
    "\n",
    "# split it on a single space character\n",
    "temp = temp.split(sep=\" \")\n",
    "print (temp)\n",
    "\n",
    "# join it back on a single space character\n",
    "temp = \" \".join(temp)\n",
    "print (temp)"
   ]
  },
  {
   "cell_type": "markdown",
   "metadata": {},
   "source": [
    "Since we would be building the function bottom up, what is most repetitive portion of logic can you think of?\n",
    "\n",
    "The most foundational piece of logic that we would be repeating over and over in solving a wordsearch puzzle is to _check for a word match, given __a word__, __a grid__ and __a coordinate point___. Therefore this is the function that we would building up first. The result of such a function should return us not just whether the word match __is found__, but should also tell us the __direction__ in which it was found.\n",
    "\n",
    "How would *direction* returned by such a function look like?\n",
    "\n",
    "Well, we could return a string such as \"right\", \"top\", etc. But it won't translate very well to other functions. Every time we have a value such as \"right\" we would need to manually *translate* it for the next function down the line. Computers can't understand human language. Therefore to provide utility we need to *encode* the direction such that it is both understandable and has utility.\n",
    "\n",
    "So next question would be: *How to encode the directions?*\n",
    "\n",
    "To answer this, let's look at how our grid object is structured. Our grid object is a nested list of dimensions M x N. To access a particular character in our grid, we access it by: `grid[x][y]`."
   ]
  },
  {
   "cell_type": "code",
   "execution_count": 26,
   "metadata": {},
   "outputs": [
    {
     "data": {
      "text/plain": [
       "'r'"
      ]
     },
     "execution_count": 26,
     "metadata": {},
     "output_type": "execute_result"
    }
   ],
   "source": [
    "# first row first column\n",
    "grid[0][0]"
   ]
  },
  {
   "cell_type": "markdown",
   "metadata": {},
   "source": [
    "Okay fair enough. Now how do we access an element that is just below coordinates x, y? We access by: grid[x+1][y]."
   ]
  },
  {
   "cell_type": "code",
   "execution_count": 28,
   "metadata": {},
   "outputs": [
    {
     "data": {
      "text/plain": [
       "'e'"
      ]
     },
     "execution_count": 28,
     "metadata": {},
     "output_type": "execute_result"
    }
   ],
   "source": [
    "grid[0+1][0]"
   ]
  },
  {
   "cell_type": "markdown",
   "metadata": {},
   "source": [
    "What about an element to the bottom right of x, y? Again if can access it by doing: grid[x+1][y+1]"
   ]
  },
  {
   "cell_type": "code",
   "execution_count": 29,
   "metadata": {},
   "outputs": [
    {
     "data": {
      "text/plain": [
       "'a'"
      ]
     },
     "execution_count": 29,
     "metadata": {},
     "output_type": "execute_result"
    }
   ],
   "source": [
    "grid[0+1][0+1]"
   ]
  },
  {
   "cell_type": "markdown",
   "metadata": {},
   "source": [
    "So we can traverse along any of the 8 directions with simply two *offset* values.\n",
    "\n",
    "Therefore the 8 directions can simply be *encoded* with these offset values. It would serve both our purpose of utility and relevance. Here is a way how they could be encoded:        \n",
    "        \n",
    "| S no. | Direction  | X Offset | Y Offset | Encoding |\n",
    "|-------|------------|----------|----------|----------|\n",
    "| 1     | North      | -1       | 0        | (-1, 0)  |\n",
    "| 2     | South      | 1        | 0        | (1, 0)   |\n",
    "| 3     | East       | 0        | 1        | (0, 1)   |\n",
    "| 4     | West       | 0        | -1       | (0, -1)  |\n",
    "| 5     | North-East | -1       | 1        | (-1, 1)  |\n",
    "| 6     | North-West | -1       | -1       | (-1, -1) |\n",
    "| 7     | South-East | 1        | 1        | (1, 1)   |\n",
    "| 8     | South-West | 1        | -1       | (1, -1)  |\n",
    "\n",
    "Armed with a rough idea, we can now create this function:"
   ]
  },
  {
   "cell_type": "code",
   "execution_count": 35,
   "metadata": {},
   "outputs": [],
   "source": [
    "def check_position(grid, x, y, word):\n",
    "    '''\n",
    "    Given a grid, a word and a coordinate, we check if the word can be found \n",
    "    STARTING at that position. We return TWO values: \n",
    "    \n",
    "    isFound, (x, y)\n",
    "    \n",
    "    isFound is True if the word is found at the position, else False\n",
    "    (x, y) is the coordinate direction along which the word was found: north, south, etc.\n",
    "    '''\n",
    "    \n",
    "    # Dimensions of grid\n",
    "    rows = len(grid)\n",
    "    cols = len(grid[0])\n",
    "    \n",
    "    # length of the word\n",
    "    word_len = len(word)\n",
    "        \n",
    "    # check all directions one by one\n",
    "    for direction in [\n",
    "        (0, 1), (0, -1), \n",
    "        (1, 0), (-1, 0), \n",
    "        (1, 1), (1, -1), \n",
    "        (-1, -1), (-1, 1)\n",
    "    ]:\n",
    "        \n",
    "        # we need to modify x and y as we move along a direction\n",
    "        # so we save it to a temporary i, j variables\n",
    "        i, j = x, y\n",
    "        \n",
    "        # Along a single direction, we need to check for word match\n",
    "        # to check for word match, we need to traverse word_len number of times\n",
    "        for k in range(word_len):\n",
    "            \n",
    "            # if we go past the \"boundaries\" of grid it means \n",
    "            # that the word is not found at that position\n",
    "            if (i < 0) or (i >= rows) or (j < 0) or (j >= cols):\n",
    "                break\n",
    "                \n",
    "            # As we move along the direction, if at any point the characters\n",
    "            # don't match, obviously it means that the word is not found at that position\n",
    "            elif (word[k] != grid[i][j]):\n",
    "                break\n",
    "                \n",
    "            # if i, j are inside grid and grid[i][j] == word[k] (character match)\n",
    "            # we are good to proceed\n",
    "            else:\n",
    "                # update the i, j as we move along that particular direction\n",
    "                # direction[0] -> X offset, direction[1] -> y offset\n",
    "                i, j = i + direction[0], j + direction[1]\n",
    "\n",
    "        # else of a FOR loop is executed only when NO BREAK was encoutered\n",
    "        # this portion will only execute if all the characters in word has matched!\n",
    "        else:\n",
    "            # return isFound, direction\n",
    "            return True, direction\n",
    "    \n",
    "    # no return statement encountered SO FAR, which means that a match\n",
    "    # wasn't found so far. But ALL DIRECTIONS are exhausted :( \n",
    "    # so obviously this position doesn't have the word match\n",
    "    # If not found, we can return any direction, it doesn't matter\n",
    "    return False, (0, 0)                        "
   ]
  },
  {
   "cell_type": "markdown",
   "metadata": {},
   "source": [
    "Now, Let's battle test our function:"
   ]
  },
  {
   "cell_type": "code",
   "execution_count": 36,
   "metadata": {},
   "outputs": [
    {
     "data": {
      "text/plain": [
       "(True, (0, 1))"
      ]
     },
     "execution_count": 36,
     "metadata": {},
     "output_type": "execute_result"
    }
   ],
   "source": [
    "# I know for a fact that \"angel\" is present at (4, 4)\n",
    "# check this from the grid yourself\n",
    "check_position(grid, 4, 4, 'angel')"
   ]
  },
  {
   "cell_type": "code",
   "execution_count": 37,
   "metadata": {},
   "outputs": [
    {
     "data": {
      "text/plain": [
       "(False, (0, 0))"
      ]
     },
     "execution_count": 37,
     "metadata": {},
     "output_type": "execute_result"
    }
   ],
   "source": [
    "# Angel can be found at (4, 4)\n",
    "# but this abberation \"angelasdsd\" cannot be found\n",
    "check_position(grid, 4, 4, 'angelasdsd')"
   ]
  },
  {
   "cell_type": "code",
   "execution_count": 38,
   "metadata": {},
   "outputs": [
    {
     "data": {
      "text/plain": [
       "(True, (-1, 0))"
      ]
     },
     "execution_count": 38,
     "metadata": {},
     "output_type": "execute_result"
    }
   ],
   "source": [
    "# rudolph is found at (8, 8)\n",
    "check_position(grid, 8, 8, \"rudolph\")"
   ]
  },
  {
   "cell_type": "code",
   "execution_count": 39,
   "metadata": {},
   "outputs": [
    {
     "data": {
      "text/plain": [
       "(False, (0, 0))"
      ]
     },
     "execution_count": 39,
     "metadata": {},
     "output_type": "execute_result"
    }
   ],
   "source": [
    "# rudolph is found at (8, 8)\n",
    "check_position(grid, 9, 8, \"rudolph\")"
   ]
  },
  {
   "cell_type": "markdown",
   "metadata": {},
   "source": [
    "So far so good! This function needs a coordinate where it then tests for a word match. We need to repeat this function across all positions on the grid for a given word:"
   ]
  },
  {
   "cell_type": "code",
   "execution_count": 40,
   "metadata": {},
   "outputs": [],
   "source": [
    "def return_postion(grid, word):\n",
    "    '''\n",
    "    Given a grid and a word, we need our function to return THREE values.\n",
    "    Whether the word is found, Index where word[0] is found \n",
    "    and the Direction in which it was found.\n",
    "    \n",
    "    return isFound, (x, y), (i, j)\n",
    "    \n",
    "    where isFound is True if the word is found at the position, else False.\n",
    "    where (x, y) is the coordinate position where the word was found.\n",
    "    where (i, j) is the direction along which the word was found.\n",
    "        \n",
    "    For example, if the word was found at index (0, 0) diagonally to the bottom right, \n",
    "    we would return (0, 0), (1, 1).\n",
    "    \n",
    "    We can simply acheive the objective by repeating `check_position()` across all points on the grid.\n",
    "    '''\n",
    "    \n",
    "    rows = len(grid)\n",
    "    cols = len(grid[0])\n",
    "    \n",
    "    # for each point on grid\n",
    "    for i in range(rows):\n",
    "        for j in range(cols):\n",
    "            \n",
    "            # check if the word can be found at that position\n",
    "            # result => (isFound, Direction)\n",
    "            result = check_position(grid, i, j, word)\n",
    "            \n",
    "            # result[0] -> isFound\n",
    "            if result[0] == True:\n",
    "                \n",
    "                # return isFound, Position, Direction\n",
    "                return True, (i, j), result[1]\n",
    "            \n",
    "    # so far return was never encountered, which means that no word match\n",
    "    # was found. But ALL POSITIONS are exhausted, which means that \n",
    "    # the word has no match any where in the grid\n",
    "    # we can return any position and direction, it would be ignored later on\n",
    "    return False, (0, 0), (0, 0)    "
   ]
  },
  {
   "cell_type": "markdown",
   "metadata": {},
   "source": [
    "Let's now test this function. Given a word that is actually present in the grid, it should return the position and direction where the word was found."
   ]
  },
  {
   "cell_type": "code",
   "execution_count": 42,
   "metadata": {},
   "outputs": [
    {
     "data": {
      "text/plain": [
       "(True, (4, 4), (0, 1))"
      ]
     },
     "execution_count": 42,
     "metadata": {},
     "output_type": "execute_result"
    }
   ],
   "source": [
    "# we know that \"angel\" is present in the grid\n",
    "return_postion(grid, 'angel')"
   ]
  },
  {
   "cell_type": "code",
   "execution_count": 44,
   "metadata": {},
   "outputs": [
    {
     "data": {
      "text/plain": [
       "(True, (8, 8), (-1, 0))"
      ]
     },
     "execution_count": 44,
     "metadata": {},
     "output_type": "execute_result"
    }
   ],
   "source": [
    "# rudolf is present at (8, 8) along north \n",
    "return_postion(grid, \"rudolph\")"
   ]
  },
  {
   "cell_type": "code",
   "execution_count": 47,
   "metadata": {},
   "outputs": [
    {
     "data": {
      "text/plain": [
       "(False, (0, 0), (0, 0))"
      ]
     },
     "execution_count": 47,
     "metadata": {},
     "output_type": "execute_result"
    }
   ],
   "source": [
    "# devil is not present there\n",
    "return_postion(grid, \"devil\")"
   ]
  },
  {
   "cell_type": "code",
   "execution_count": 48,
   "metadata": {},
   "outputs": [
    {
     "data": {
      "text/plain": [
       "(True, (5, 3), (1, 1))"
      ]
     },
     "execution_count": 48,
     "metadata": {},
     "output_type": "execute_result"
    }
   ],
   "source": [
    "# we know santa is present. But where is santa?\n",
    "return_postion(grid, \"santa\")"
   ]
  },
  {
   "cell_type": "markdown",
   "metadata": {},
   "source": [
    "We succesfully uncovered whereabouts of santa! Now we simply need to call this function that we had created for all words in the list of hints and we would be done. \n",
    "\n",
    "So let's say we uncovered all the words from the grid. How would be actually display this? We are asked to mark the uncovered words in upper case. Let's think for a minute how we can go about doing this.\n",
    "\n",
    "Luckily python's got us covered with `str.upper()`. This method converts all the characters in a string to upper case."
   ]
  },
  {
   "cell_type": "code",
   "execution_count": 50,
   "metadata": {},
   "outputs": [
    {
     "data": {
      "text/plain": [
       "'UPPERCASE'"
      ]
     },
     "execution_count": 50,
     "metadata": {},
     "output_type": "execute_result"
    }
   ],
   "source": [
    "\"uppercase\".upper()"
   ]
  },
  {
   "cell_type": "markdown",
   "metadata": {},
   "source": [
    "So the logic to mark uncovered words in Uppercase is as follows. For each word we go through all points on the grid searching for a match. If a match is found, we go along the same direction again, *len(word)* number of times converting all encountered characters to upper case. This would be last and final piece of function we would be building. \n",
    "\n",
    "We can actually copy paste the logic we had created `check_position()` to traverse along a particular direction if we are too lazy. Anyways, let's finish this:"
   ]
  },
  {
   "cell_type": "code",
   "execution_count": 51,
   "metadata": {},
   "outputs": [],
   "source": [
    "def word_search(grid, hints):\n",
    "    '''For those words found in grid, turn them into upper case.\n",
    "        Returns (solvedGrid, notFound)\n",
    "        \n",
    "        where solvedGrid contains all characters in upper case where match was found\n",
    "        where notFound is a list containig the words not found.\n",
    "        \n",
    "    '''\n",
    "    \n",
    "    # we use this module to actually COPY a list and \n",
    "    # not create a REFERENCE of a list, see note below\n",
    "    from copy import deepcopy\n",
    "    \n",
    "    # copy the grid, we don't want to make changes directly \n",
    "    # to the main grid, especially since we are still likely \n",
    "    # to make mistakes\n",
    "    result = deepcopy(grid)\n",
    "    \n",
    "    # for those words not found, we add them to this list here\n",
    "    notFound = []\n",
    "    \n",
    "    # for each word in hint, search across grid for a match\n",
    "    for word in hints:\n",
    "        \n",
    "        # temp => (isFound, Position, Direction)\n",
    "        temp = return_postion(grid, word)\n",
    "        \n",
    "        # temp[0] -> isFound (can be True/False)\n",
    "        if not temp[0]:\n",
    "            \n",
    "            # no match found for word => add to notFound\n",
    "            notFound.append(word)\n",
    "        \n",
    "        else:\n",
    "            \n",
    "            # if match was found, we convert it to upper case\n",
    "            # temp[1] => Position, temp[2] => Direction\n",
    "            x, y = temp[1]\n",
    "            direction = temp[2]\n",
    "            \n",
    "            # we go along this direction, len(word) no of times\n",
    "            for i in range(len(word)):\n",
    "                \n",
    "                # convert to upper case, modify the newly created grid\n",
    "                result[x][y] = result[x][y].upper()\n",
    "                \n",
    "                # continue going along the direction\n",
    "                x, y = x + direction[0], y + direction[1]\n",
    "    \n",
    "    # return the solved grid and list of words that couldn't be found\n",
    "    return result, notFound"
   ]
  },
  {
   "cell_type": "markdown",
   "metadata": {},
   "source": [
    "Are you as excited as me to test this function?"
   ]
  },
  {
   "cell_type": "code",
   "execution_count": 52,
   "metadata": {},
   "outputs": [
    {
     "name": "stdout",
     "output_type": "stream",
     "text": [
      "\n",
      "The Solved Grid is:\n",
      "R g h t e n j S j g j d r j y t\n",
      "E a i e y t e g L a i s f w i e\n",
      "T B E L L r h t H E r N E E R G\n",
      "N c f r h o r y P c D r r r f H\n",
      "I r n o A N G E L a n x o r n O\n",
      "W O N S p b m s O s m t e s m L\n",
      "f o x i A n x w D o x i b r e I\n",
      "s a e a T N d r U u d u s R E D\n",
      "h e f F R t T U R K E Y e e f A\n",
      "m n I k E a i A h s L g z h u Y\n",
      "e G n i E m d o e g F L E O N i\n",
      "k h i o k l a a f t c m s u i r\n"
     ]
    }
   ],
   "source": [
    "# result => solvedGrid, notFound\n",
    "result = word_search(grid, hints)\n",
    "\n",
    "# result[1] is notFound List\n",
    "# if it contains missing words, we display them\n",
    "if len(result[1]) != 0:\n",
    "    print (\"Following words were not found!\")\n",
    "    for i, word in enumerate(result[1], 1):\n",
    "        print (f\"{i}: {word}\")\n",
    "        \n",
    "print (\"\\nThe Solved Grid is:\")\n",
    "show_grid(result[0])"
   ]
  },
  {
   "cell_type": "markdown",
   "metadata": {},
   "source": [
    "##### `Note` on deepcopy *function* and enumerate *function*:\n",
    "\n",
    "*** \n",
    "\n",
    "Python objects are designed to work as efficiently as it is possible for an interpreted language to be. And when it comes to efficient utilization of memory, python avoids creating new object instances as much as possible. Therefore when you try to create a copy of a list by doing something like: \n",
    "\n",
    "    newList = lst\n",
    "    \n",
    "Python in an effort to save memory, creates a *reference* of a list as opposed to creating a new list instance. This is helpful to save memory, but at the same time if we are to alter values of one list the changes are also propagated to the other. In order to avoid this, we need to perform a *non shallow* of the list.\n",
    "\n",
    "We can do this by several ways:\n",
    "\n",
    "1. Using the list function:\n",
    "\n",
    "        lst = [1, 2, 3, 4, 5, 6]\n",
    "        newList = list(lst)\n",
    "        \n",
    "2. Using the copy function from copy module:\n",
    "\n",
    "        from copy import copy\n",
    "        lst = [1, 2, 3, 4, 5, 6]\n",
    "        newList = copy(lst)\n",
    "        \n",
    "3. The above two methods work only for non nested lists. If however we have a nested list, we need to ensure that a non shallow copy for every nested list is made. For this purpose, we can use deepcopy function from copy module. This function *recursively* creates a non shallow copy of all the nested objects that we are trying to copy.\n",
    "\n",
    "        from copy import deepcopy\n",
    "        lst = [[1, 2, 3], [4, 5, 6], [7, 8, 9]]\n",
    "        newList = deepcopy(lst)\n",
    "        \n",
    "We used deep copy inside our function since grid is a nested list of lists. deepcopy() is however expensive so use it sparingly and only when absolutely needed.\n",
    "\n",
    "***\n",
    "\n",
    "`enumerate()` function is an inbuilt python function that returns an enumerate object. It is used to *number* a sequence. It takes the following format: \n",
    "\n",
    "    enumerate(sequence, start=<starting_count>)\n",
    "\n",
    "By default, start=0.\n",
    "\n",
    "Enumerate object is another sequence of tuples: \n",
    "            \n",
    "    <count>, <value>\n",
    "    \n",
    "Let's understand better with an example:"
   ]
  },
  {
   "cell_type": "code",
   "execution_count": 58,
   "metadata": {},
   "outputs": [
    {
     "name": "stdout",
     "output_type": "stream",
     "text": [
      "<enumerate object at 0x7fa256f83980>\n",
      "[(1, 'a'), (2, 'b'), (3, 'c'), (4, 'd'), (5, 'e')]\n",
      "[(95, 'a'), (96, 'b'), (97, 'c'), (98, 'd'), (99, 'e')]\n"
     ]
    }
   ],
   "source": [
    "# returns 'enumerate' object\n",
    "print (enumerate(['a', 'b', 'c', 'd', 'e'], start=1))\n",
    "\n",
    "# tuple of count, value\n",
    "print (list(enumerate(['a', 'b', 'c', 'd', 'e'], start=1)))\n",
    "\n",
    "# start value can be modified to whatever we'd like\n",
    "print (list(enumerate(['a', 'b', 'c', 'd', 'e'], start=95)))"
   ]
  },
  {
   "cell_type": "markdown",
   "metadata": {},
   "source": [
    "### Step 5:\n",
    "\n",
    "Finally, verify that the outputs of our code matches with the expected output."
   ]
  },
  {
   "cell_type": "code",
   "execution_count": 61,
   "metadata": {},
   "outputs": [
    {
     "name": "stdout",
     "output_type": "stream",
     "text": [
      "R g h t e n j S j g j d r j y t\n",
      "E a i e y t e g L a i s f w i e\n",
      "T B E L L r h t H E r N E E R G\n",
      "N c f r h o r y P c D r r r f H\n",
      "I r n o A N G E L a n x o r n O\n",
      "W O N S p b m s O s m t e s m L\n",
      "f o x i A n x w D o x i b r e I\n",
      "s a e a T N d r U u d u s R E D\n",
      "h e f F R t T U R K E Y e e f A\n",
      "m n I k E a i A h s L g z h u Y\n",
      "e G n i E m d o e g F L E O N i\n",
      "k h i o k l a a f t c m s u i r\n"
     ]
    }
   ],
   "source": [
    "show_grid(result[0])"
   ]
  },
  {
   "cell_type": "markdown",
   "metadata": {},
   "source": [
    "A quick cross checking tells us that the result is indeed correct and is as expected. Congradulations on solving the WordSearch Problem!"
   ]
  },
  {
   "cell_type": "code",
   "execution_count": null,
   "metadata": {},
   "outputs": [],
   "source": []
  }
 ],
 "metadata": {
  "kernelspec": {
   "display_name": "Python 3",
   "language": "python",
   "name": "python3"
  },
  "language_info": {
   "codemirror_mode": {
    "name": "ipython",
    "version": 3
   },
   "file_extension": ".py",
   "mimetype": "text/x-python",
   "name": "python",
   "nbconvert_exporter": "python",
   "pygments_lexer": "ipython3",
   "version": "3.9.2"
  }
 },
 "nbformat": 4,
 "nbformat_minor": 4
}
