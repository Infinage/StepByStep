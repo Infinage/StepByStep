{
 "cells": [
  {
   "cell_type": "markdown",
   "metadata": {
    "tags": []
   },
   "source": [
    "## Question:\n",
    "Write a python program to simulate a game of minesweeper."
   ]
  },
  {
   "cell_type": "markdown",
   "metadata": {},
   "source": [
    "### Step 1:\n",
    "Create a very simple solution. Cheat if you have to. This step is to help us understand the problem better and in more depth. Understandably a lot of problems don't have such easy or quick solutions, in those cases skip to STEP 2 & workout the problem BY HAND. \n",
    "\n",
    "By far, the easiest way to code these puzzles and games such as this one would be to play them by hand ourselves. There are plenty of websites, mobile apps available where you can play a Minesweeper. If you are super lazy to find a online website, you can start a simple game [here](https://minesweeperonline.com/#):\n",
    "\n",
    "<img src=\"https://i.ibb.co/sQprMDv/play-minesweeper-online.gif\" alt=\"Play Minesweeper Online\" height=500 width=800/>"
   ]
  },
  {
   "cell_type": "markdown",
   "metadata": {},
   "source": [
    "### Step 2: \n",
    "\n",
    "In order to solve a programming problem, we need to understand the problem ourselves first. Efficient solutions can only be discovered if YOU have a thorough understanding of the problem.\n",
    "\n",
    "Have fun and play a couple of games. I first came across the game of minesweeper when I was a little kid & I used to beleive that this game was purely based on chance! \n",
    "\n",
    "Well, minesweeper is far from being just a game of chance. It's a strategic game not very different from a suduko. To warm you up a bit, let me brief you up with some basics about this game. A minesweeper has M x N grid cells. Each cell may be a:\n",
    "- A Mine cell 💣\n",
    "- A Hint cell 🔢\n",
    "- An Empty cell 🗌\n",
    "\n",
    "The game ends when you click on a cell containing a mine or when you successfully unlock all the cells NOT containing mines. A hint cell is that cell that lies adjacent to atleast one mine cell. The hint cell (those with numbers on them) contain the number of mine cells that are near them. Some cells neither contain mines nor contain any hints in them. These cells are special and are desirable to be clicked on. \n",
    "\n",
    "*Can you tell me why? You should be able to answer this after playing a couple of minesweeper games.* \n",
    "\n",
    "However with increasing game difficulty, number of empty cells in the minesweeper grid reduces.\n",
    "\n",
    "Right clicking a cell *marks* the cell to contain a mine. Marking a cell has two advantages. \n",
    "\n",
    "1. The marked cells are in essence \"locked\" and cannot be explored before it has been *unmarked* again. This can prevent you from accidentaly detonating the mines you have logically determined to contain a mine. \n",
    "2. The number of mines in a grid is revealed before hand. Therefore tracking the count of mines discovered so far can help us know of the count of mines that are yet to be discovered."
   ]
  },
  {
   "cell_type": "markdown",
   "metadata": {},
   "source": [
    "### Step 3:\n",
    "\n",
    "At this stage, we analyze and workout a rough algorithm. Once you've played the game a couple of times, the gameplay logic is pretty straight forward: Create a grid and let the user play the game and reveal hints as he progresses through the grid. \n",
    "\n",
    "Here's a rough algorithm that I came with:\n",
    "\n",
    "<u>Creating a grid:</u>\n",
    "\n",
    "1. Create a M * N Empty grid.\n",
    "2. Populate it with random number of mines (say a percentage of the total blocks OR a prespecified number count of mines to be placed).\n",
    "3. For each non mine cell in the grid, count the number of mines in all the surrounding blocks and save them to the grid.\n",
    "\n",
    "<u>The gameplay:</u>\n",
    "\n",
    "1. If user clicks on a region that has zero mines, reveal a contour of all grid points that are empty. The border revealed is demarcated by a mine cell or a mine hint cell.\n",
    "2. If user clicks on a hint grid, display its content.\n",
    "3. If user clicks a mine, bam!\n",
    "\n",
    "<table>\n",
    "    <tr>\n",
    "        <th>Mine Cell</th>\n",
    "        <th>Empty Cell</th>\n",
    "        <th>Hint Cell</th>\n",
    "    </tr>\n",
    "    <tr>\n",
    "    <td><img src=\"https://i.ibb.co/mX12dNd/mine-cell.gif\" alt=\"Game ends when a mine cell is clicked!\" height=250 width=250/></td>\n",
    "    <td><img src=\"https://i.ibb.co/sjbMWwp/empty-cell.gif\" alt=\"What happens when an empty cell is clicked?\" height=250 width=250/></td>\n",
    "    <td><img src=\"https://i.ibb.co/ts3NfSn/hint-cells.gif\" alt=\"What happens when a hint cell is clicked?\" height=250 width=250/></td>\n",
    "    </tr>\n",
    "</table>\n"
   ]
  },
  {
   "cell_type": "markdown",
   "metadata": {},
   "source": [
    "### Step 4:\n",
    "\n",
    "Let's start building our code piece by piece. We will incrementally build up the game logic. For the sake of compactness, we would be using python classes for this module. If you are totally unfamiliar with classes, that is okay too. Let's start with basics:\n",
    "\n",
    "In a layperson's terms, classes are simply blueprints (a piece of unimplemented plan). An instance / implementation of this blueprint is called as an *object* in python. If you have been following along, you'd heard me say this a couple of times: *Almost everything in python is an object*. If that were to be true, then it follows that everything in python must have a class from which it has been implemented. \n",
    "\n",
    "Take the datatype `str` for example. It is a python class as well. \n",
    "\n",
    "Where is it *located?* \n",
    "\n",
    "It can be found in the `builtins` module."
   ]
  },
  {
   "cell_type": "code",
   "execution_count": 88,
   "metadata": {},
   "outputs": [
    {
     "name": "stdout",
     "output_type": "stream",
     "text": [
      "<class 'str'> <class 'list'> <class 'dict'> <class 'tuple'>\n"
     ]
    }
   ],
   "source": [
    "import builtins\n",
    "print(builtins.str, builtins.list, builtins.dict, builtins.tuple)"
   ]
  },
  {
   "cell_type": "markdown",
   "metadata": {},
   "source": [
    "Even the exceptions thrown in python are class instances (objects)"
   ]
  },
  {
   "cell_type": "code",
   "execution_count": 89,
   "metadata": {},
   "outputs": [
    {
     "name": "stdout",
     "output_type": "stream",
     "text": [
      "Help on class ZeroDivisionError in module builtins:\n",
      "\n",
      "class ZeroDivisionError(ArithmeticError)\n",
      " |  Second argument to a division or modulo operation was zero.\n",
      " |  \n",
      " |  Method resolution order:\n",
      " |      ZeroDivisionError\n",
      " |      ArithmeticError\n",
      " |      Exception\n",
      " |      BaseException\n",
      " |      object\n",
      " |  \n",
      " |  Methods defined here:\n",
      " |  \n",
      " |  __init__(self, /, *args, **kwargs)\n",
      " |      Initialize self.  See help(type(self)) for accurate signature.\n",
      " |  \n",
      " |  ----------------------------------------------------------------------\n",
      " |  Static methods defined here:\n",
      " |  \n",
      " |  __new__(*args, **kwargs) from builtins.type\n",
      " |      Create and return a new object.  See help(type) for accurate signature.\n",
      " |  \n",
      " |  ----------------------------------------------------------------------\n",
      " |  Methods inherited from BaseException:\n",
      " |  \n",
      " |  __delattr__(self, name, /)\n",
      " |      Implement delattr(self, name).\n",
      " |  \n",
      " |  __getattribute__(self, name, /)\n",
      " |      Return getattr(self, name).\n",
      " |  \n",
      " |  __reduce__(...)\n",
      " |      Helper for pickle.\n",
      " |  \n",
      " |  __repr__(self, /)\n",
      " |      Return repr(self).\n",
      " |  \n",
      " |  __setattr__(self, name, value, /)\n",
      " |      Implement setattr(self, name, value).\n",
      " |  \n",
      " |  __setstate__(...)\n",
      " |  \n",
      " |  __str__(self, /)\n",
      " |      Return str(self).\n",
      " |  \n",
      " |  with_traceback(...)\n",
      " |      Exception.with_traceback(tb) --\n",
      " |      set self.__traceback__ to tb and return self.\n",
      " |  \n",
      " |  ----------------------------------------------------------------------\n",
      " |  Data descriptors inherited from BaseException:\n",
      " |  \n",
      " |  __cause__\n",
      " |      exception cause\n",
      " |  \n",
      " |  __context__\n",
      " |      exception context\n",
      " |  \n",
      " |  __dict__\n",
      " |  \n",
      " |  __suppress_context__\n",
      " |  \n",
      " |  __traceback__\n",
      " |  \n",
      " |  args\n",
      "\n"
     ]
    }
   ],
   "source": [
    "# zero division error that is thrown when you do a 1 / 0\n",
    "# is an object of this particular class\n",
    "help(builtins.ZeroDivisionError)"
   ]
  },
  {
   "cell_type": "code",
   "execution_count": 90,
   "metadata": {},
   "outputs": [
    {
     "ename": "ZeroDivisionError",
     "evalue": "I am an Object of ZeroDivisionError Class",
     "output_type": "error",
     "traceback": [
      "\u001b[0;31m---------------------------------------------------------------------------\u001b[0m",
      "\u001b[0;31mZeroDivisionError\u001b[0m                         Traceback (most recent call last)",
      "\u001b[0;32m<ipython-input-90-39a73eb65d50>\u001b[0m in \u001b[0;36m<module>\u001b[0;34m\u001b[0m\n\u001b[0;32m----> 1\u001b[0;31m \u001b[0;32mraise\u001b[0m \u001b[0mZeroDivisionError\u001b[0m\u001b[0;34m(\u001b[0m\u001b[0;34m\"I am an Object of ZeroDivisionError Class\"\u001b[0m\u001b[0;34m)\u001b[0m\u001b[0;34m\u001b[0m\u001b[0;34m\u001b[0m\u001b[0m\n\u001b[0m",
      "\u001b[0;31mZeroDivisionError\u001b[0m: I am an Object of ZeroDivisionError Class"
     ]
    }
   ],
   "source": [
    "raise ZeroDivisionError(\"I am an Object of ZeroDivisionError Class\")"
   ]
  },
  {
   "cell_type": "markdown",
   "metadata": {},
   "source": [
    "A class in python has the following syntax:\n",
    "\n",
    "    class ClassName:\n",
    "    \n",
    "        def __init__(self, param1, param2):\n",
    "            # All class functions with names `__<xyz>__` are special functions\n",
    "            # init is one such function that is called when the class is initialized.\n",
    "            # If init function is not defined, python automatically creates one for us\n",
    "            # We need an init function to declare and assign `class variables`\n",
    "            \n",
    "            # All class variables need to be defined here\n",
    "            self.param1 = param1\n",
    "            self.param2 = param2\n",
    "    \n",
    "        def method1(self, param1, param2):\n",
    "            # functions inside classes are called as class methods\n",
    "            # All class methods must have `self` as the first parameter\n",
    "            \n",
    "        def method2(self):\n",
    "            # A class can have any number of methods\n",
    "            \n",
    "        def __str__(self):\n",
    "            # These sort of `__<xyz>__` functions (called `dunder` functions) are optional. \n",
    "            # some other dunder functions are __lt__, __gt__, __repr__, __len__, etc\n",
    "            # Even init is not compulsary but it is always good to define it\n",
    "            \n",
    "            # str function for example is defined to alter what would be displayed\n",
    "            # when we try to print the class object\n",
    "            \n",
    "            return \"__str__ must return a string value only\"       \n",
    "    "
   ]
  },
  {
   "cell_type": "code",
   "execution_count": 91,
   "metadata": {},
   "outputs": [],
   "source": [
    "class dummy:\n",
    "    def __init__(self, param1):\n",
    "        self.param1 = param1\n",
    "        print (\"Dummy class was successfully initialized!\")\n",
    "        \n",
    "    def __str__(self):\n",
    "        return \"A class instance (object) of the `dummy` class\"\n",
    "    \n",
    "    def display_param1(self):\n",
    "        print (\"Param1 has value:\", self.param1)\n",
    "        \n",
    "    def return_param1(self):\n",
    "        # inside a class, the class variables can be \n",
    "        # acessed via `self` only\n",
    "        return self.param1"
   ]
  },
  {
   "cell_type": "code",
   "execution_count": 92,
   "metadata": {},
   "outputs": [
    {
     "name": "stdout",
     "output_type": "stream",
     "text": [
      "Dummy class was successfully initialized!\n",
      "Param1 has value: XYZ\n",
      "False\n",
      "A class instance (object) of the `dummy` class\n"
     ]
    }
   ],
   "source": [
    "# Even though, init is never called manually notice \n",
    "# how the print statement is executed\n",
    "temp = dummy(param1=\"XYZ\") # or dummy(\"XYZ\")\n",
    "temp.display_param1()\n",
    "\n",
    "# class variables can be accessed by doing a \n",
    "# objectName.<variable_name>\n",
    "print (temp.return_param1 == temp.param1)\n",
    "\n",
    "# notice what happens when we try to print the object\n",
    "print (temp)"
   ]
  },
  {
   "cell_type": "markdown",
   "metadata": {},
   "source": [
    "This is all you would need to develop a game of minesweeper. Let's get started!\n",
    "\n",
    "We would first write the logic of minesweeper board generation, after which we will proceed to the logic of gameplay.\n",
    "\n",
    "To generate a minesweeper grid, recall that we need to assign mines to random cells of a grid. To randomly assign mines to cells, we'd be making use of the `random` module of python. random module of python has a variety of classes and functions defined inside them of which we would be using a function called as `randint`. Randint function returns a random number given an integer range (both ranges inclusive)."
   ]
  },
  {
   "cell_type": "code",
   "execution_count": 93,
   "metadata": {},
   "outputs": [],
   "source": [
    "import random"
   ]
  },
  {
   "cell_type": "code",
   "execution_count": 94,
   "metadata": {},
   "outputs": [
    {
     "name": "stdout",
     "output_type": "stream",
     "text": [
      "[1, 1, 1, 2, 1, 1, 1, 2, 2, 2]\n"
     ]
    }
   ],
   "source": [
    "# notice that 1 and 2 are both inclusive\n",
    "print([random.randint(1, 2) for i in range(10)])"
   ]
  },
  {
   "cell_type": "code",
   "execution_count": 95,
   "metadata": {},
   "outputs": [
    {
     "data": {
      "text/plain": [
       "[-1, 1, -1, -1, 1, 0, 0, -1, -1, 0]"
      ]
     },
     "execution_count": 95,
     "metadata": {},
     "output_type": "execute_result"
    }
   ],
   "source": [
    "# we can give in negative numbers for upper and lower ranges as well\n",
    "[random.randint(-1, 1) for i in range(10)]"
   ]
  },
  {
   "cell_type": "markdown",
   "metadata": {},
   "source": [
    "In the cell below, we write the logic to create an M x N grid. After creating this grid, we choose random cell positions inside the grid that would be filled with mines."
   ]
  },
  {
   "cell_type": "code",
   "execution_count": 96,
   "metadata": {},
   "outputs": [
    {
     "name": "stdout",
     "output_type": "stream",
     "text": [
      "30 [(0, 1), (0, 4), (1, 0), (1, 2), (1, 3), (1, 4), (2, 1), (2, 4), (3, 0), (3, 1), (3, 2), (3, 3), (4, 1), (4, 2), (4, 4), (5, 0), (5, 1), (5, 2), (5, 3), (5, 4), (6, 1), (6, 3), (7, 1), (7, 2), (7, 3), (9, 0), (9, 1), (9, 2), (9, 3), (9, 4)]\n",
      "\n",
      "20 [(0, 3), (2, 0), (2, 2), (8, 4), (7, 0), (7, 4), (3, 4), (1, 1), (8, 2), (0, 2), (6, 4), (4, 3), (6, 2), (4, 0), (6, 0), (8, 3), (0, 0), (2, 3), (8, 1), (8, 0)]\n"
     ]
    }
   ],
   "source": [
    "# number of rows and cols in the grid\n",
    "cols, rows = 5, 10\n",
    "\n",
    "# total number of mines the grid would have\n",
    "mine_count = 20\n",
    "\n",
    "# M x N grid has a total of M x N cells\n",
    "size = rows * cols\n",
    "\n",
    "# create a list of all possible cell positions\n",
    "# notice that loop i would be executed first, loop j is the inner loop\n",
    "# i can take values: [0, 1, 2 .. 9]\n",
    "# j can take values: [0, 1, 2 .. 4]\n",
    "total = [(i, j) for i in range(rows) for j in range(cols)]\n",
    "\n",
    "# a list to stote the positions filled with mines\n",
    "mines = []\n",
    "\n",
    "for i in range(mine_count):\n",
    "    \n",
    "    # out of rows * cols cells, determine the positions filled with mine\n",
    "    # this value would be the INDEX we would be removing\n",
    "    pos = random.randint(0, size - 1)\n",
    "    \n",
    "    # Actual coordinates containing mines\n",
    "    # remove the value at INDEX\n",
    "    pos = total.pop(pos)\n",
    "    \n",
    "    # save to mines list, we would be filling this coordinates with mines\n",
    "    mines.append(pos)\n",
    "    \n",
    "    # now after removing INDEX from the total, the actual size of \n",
    "    # available grid cells to place a mine is reduced\n",
    "    size = size - 1\n",
    "\n",
    "# total and mines are list containing coordinates positions\n",
    "print (len(total), total)\n",
    "print()\n",
    "print (len(mines), mines)"
   ]
  },
  {
   "cell_type": "markdown",
   "metadata": {},
   "source": [
    "Let mine position be marked by value `-1`. All positions without mines have a value of `0`. We now create a 3D grid from the mines list. `(i, j) in mines` would return a boolean value indicating whether that coordinate is present in the list of mines."
   ]
  },
  {
   "cell_type": "code",
   "execution_count": 97,
   "metadata": {},
   "outputs": [
    {
     "data": {
      "text/plain": [
       "False"
      ]
     },
     "execution_count": 97,
     "metadata": {},
     "output_type": "execute_result"
    }
   ],
   "source": [
    "# (0, 1) present in mines?\n",
    "(0, 1) in mines"
   ]
  },
  {
   "cell_type": "code",
   "execution_count": 98,
   "metadata": {},
   "outputs": [
    {
     "data": {
      "text/plain": [
       "[[-1, 0, -1, -1, 0],\n",
       " [0, -1, 0, 0, 0],\n",
       " [-1, 0, -1, -1, 0],\n",
       " [0, 0, 0, 0, -1],\n",
       " [-1, 0, 0, -1, 0],\n",
       " [0, 0, 0, 0, 0],\n",
       " [-1, 0, -1, 0, -1],\n",
       " [-1, 0, 0, 0, -1],\n",
       " [-1, -1, -1, -1, -1],\n",
       " [0, 0, 0, 0, 0]]"
      ]
     },
     "execution_count": 98,
     "metadata": {},
     "output_type": "execute_result"
    }
   ],
   "source": [
    "# if a particular coord position (i, j) is in mines save the value as -1, else 0\n",
    "temp = [[-1 if (i, j) in mines else 0 for j in range(cols)] for i in range(rows)]\n",
    "temp"
   ]
  },
  {
   "cell_type": "code",
   "execution_count": 99,
   "metadata": {},
   "outputs": [
    {
     "data": {
      "text/plain": [
       "[[-1, 0, -1, -1, 0],\n",
       " [0, -1, 0, 0, 0],\n",
       " [-1, 0, -1, -1, 0],\n",
       " [0, 0, 0, 0, -1],\n",
       " [-1, 0, 0, -1, 0],\n",
       " [0, 0, 0, 0, 0],\n",
       " [-1, 0, -1, 0, -1],\n",
       " [-1, 0, 0, 0, -1],\n",
       " [-1, -1, -1, -1, -1],\n",
       " [0, 0, 0, 0, 0]]"
      ]
     },
     "execution_count": 99,
     "metadata": {},
     "output_type": "execute_result"
    }
   ],
   "source": [
    "# the above one liner is the same as code below\n",
    "temp = []\n",
    "\n",
    "for i in range(rows):\n",
    "    row = []\n",
    "    for j in range(cols):\n",
    "        if (i, j) in mines:\n",
    "            row.append(-1)\n",
    "        else:\n",
    "            row.append(0)\n",
    "    temp.append(row)\n",
    "            \n",
    "temp"
   ]
  },
  {
   "cell_type": "markdown",
   "metadata": {},
   "source": [
    "Let's wrap it up into one convenient class:"
   ]
  },
  {
   "cell_type": "code",
   "execution_count": 100,
   "metadata": {},
   "outputs": [],
   "source": [
    "class Minesweeper():\n",
    "    def __init__(self, rows=15, cols=10, mine_count=35):\n",
    "        '''\n",
    "        The initializer function. Notice that class variable can have default values as well.\n",
    "        This is really handy if we know we would be using these values the most.\n",
    "        '''\n",
    "        \n",
    "        # class variable declaration\n",
    "        self.rows = rows\n",
    "        self.cols = cols\n",
    "        self.mine_count = mine_count\n",
    "        \n",
    "        # we create a grid using a class method `create_grid`\n",
    "        self.grid = self.create_grid()\n",
    "        \n",
    "    def create_grid(self):\n",
    "        # we have merely copy pasted the code from above cell snippets\n",
    "        \n",
    "        size = self.rows * self.cols\n",
    "        total = [(i, j) for i in range(self.rows) for j in range(self.cols)]\n",
    "        mines = []\n",
    "\n",
    "        for i in range(self.mine_count):\n",
    "            pos = random.randint(0, size - 1)\n",
    "            mines.append(total.pop(pos))\n",
    "            size = size - 1\n",
    "\n",
    "        grid = [[-1 if (i, j) in mines else 0 for j in range(self.cols)] for i in range(self.rows)]\n",
    "        return grid"
   ]
  },
  {
   "cell_type": "code",
   "execution_count": 101,
   "metadata": {},
   "outputs": [
    {
     "data": {
      "text/plain": [
       "[[-1, -1, 0, 0, 0, 0, -1, 0, 0, 0],\n",
       " [0, -1, 0, 0, 0, -1, -1, -1, 0, -1],\n",
       " [0, 0, 0, 0, 0, 0, 0, 0, 0, 0],\n",
       " [0, -1, -1, 0, 0, 0, 0, 0, 0, 0],\n",
       " [0, 0, -1, 0, 0, 0, -1, 0, 0, 0],\n",
       " [0, 0, 0, 0, -1, 0, 0, 0, 0, 0],\n",
       " [0, -1, 0, 0, 0, -1, 0, 0, 0, -1],\n",
       " [0, -1, 0, 0, 0, 0, 0, -1, 0, 0],\n",
       " [-1, 0, 0, 0, 0, -1, 0, 0, 0, -1],\n",
       " [0, 0, 0, -1, 0, -1, 0, -1, 0, -1],\n",
       " [0, 0, 0, 0, 0, -1, 0, -1, 0, -1],\n",
       " [-1, 0, -1, 0, 0, 0, -1, 0, 0, -1],\n",
       " [0, 0, 0, 0, 0, 0, 0, 0, 0, -1],\n",
       " [0, 0, 0, -1, 0, 0, 0, 0, 0, 0],\n",
       " [-1, 0, 0, 0, 0, 0, 0, 0, 0, 0]]"
      ]
     },
     "execution_count": 101,
     "metadata": {},
     "output_type": "execute_result"
    }
   ],
   "source": [
    "# notice the default rows, cols and \n",
    "# mine_count values have been used\n",
    "game = Minesweeper()\n",
    "game.grid"
   ]
  },
  {
   "cell_type": "markdown",
   "metadata": {},
   "source": [
    "Although computers work with numbers, we humans find it easier to play visually. Therefore let's create a function that when given a grid, displays the grid in a nice fashion:"
   ]
  },
  {
   "cell_type": "code",
   "execution_count": 102,
   "metadata": {},
   "outputs": [
    {
     "name": "stdout",
     "output_type": "stream",
     "text": [
      "X X _ _ _ _ X _ _ _\n",
      "_ X _ _ _ X X X _ X\n",
      "_ _ _ _ _ _ _ _ _ _\n",
      "_ X X _ _ _ _ _ _ _\n",
      "_ _ X _ _ _ X _ _ _\n",
      "_ _ _ _ X _ _ _ _ _\n",
      "_ X _ _ _ X _ _ _ X\n",
      "_ X _ _ _ _ _ X _ _\n",
      "X _ _ _ _ X _ _ _ X\n",
      "_ _ _ X _ X _ X _ X\n",
      "_ _ _ _ _ X _ X _ X\n",
      "X _ X _ _ _ X _ _ X\n",
      "_ _ _ _ _ _ _ _ _ X\n",
      "_ _ _ X _ _ _ _ _ _\n",
      "X _ _ _ _ _ _ _ _ _\n"
     ]
    }
   ],
   "source": [
    "# game.grid = [[-1, 0, ...], [0, 0, ..], ...]\n",
    "for row in game.grid:\n",
    "    print (\" \".join(map(lambda x: \"X\" if x == -1 else \"_\", row)))"
   ]
  },
  {
   "cell_type": "markdown",
   "metadata": {},
   "source": [
    "`Note` on split *method*, map *function*, lambda *function* and join *method*:\n",
    "\n",
    "1. split() is a string method. If you type in str.\\<tab> it will show you a list of all methods available for string objects. Everything in the world of python is an object. (for a later tutorial). Split function splits the string based on a given delimiter passed as a argument. If you simply do a str.split() without any arguments, the delimiter is set by default to a whitespace character (tabs, spaces, newlines, etc).\n",
    "\n",
    "2. map() is one of my favorite functions. It takes in two arguments:\n",
    "    - function: Can be any function\n",
    "    - iterable: if you can do a \"for i in \\<insert_object_here>\" without any error, it is an iterable. Eg: Strings, List, Tuples, etc\n",
    "\n",
    "\n",
    "3. lambda is similar to the \"def\" keyword of python, in a sense that both help in creating a function. lambda keyword however helps create \"short handed\" functions. It assumes the following format: lambda <input(s)>: <output(s)>.\n",
    "\n",
    "4. str.join is another useful method. Basically a join method combines a sequence of strings to a single string. It can be seen as the compliment of *split* method. It takes the following syntax:\n",
    "\n",
    "       <seperator>.join(<String Array>)"
   ]
  },
  {
   "cell_type": "markdown",
   "metadata": {},
   "source": [
    "We now integrate the display function as a class method:"
   ]
  },
  {
   "cell_type": "code",
   "execution_count": 103,
   "metadata": {},
   "outputs": [],
   "source": [
    "class Minesweeper():\n",
    "    def __init__(self, rows=15, cols=10, mine_count=35):\n",
    "        self.rows = rows\n",
    "        self.cols = cols\n",
    "        self.mine_count = mine_count\n",
    "        self.grid = self.create_grid()\n",
    "        \n",
    "    def create_grid(self):\n",
    "        size = self.rows * self.cols\n",
    "        total = [(i, j) for i in range(self.rows) for j in range(self.cols)]\n",
    "        mines = []\n",
    "\n",
    "        for i in range(self.mine_count):\n",
    "            pos = random.randint(0, size - 1)\n",
    "            mines.append(total.pop(pos))\n",
    "            size = size - 1\n",
    "            \n",
    "        return [[-1 if (i, j) in mines else 0 for j in range(self.cols)] for i in range(self.rows)]\n",
    "    \n",
    "    def display(self):\n",
    "        for row in game.grid:\n",
    "            print (\" \".join(map(lambda x: \"X\" if x == -1 else \"_\", row)))"
   ]
  },
  {
   "cell_type": "code",
   "execution_count": 104,
   "metadata": {},
   "outputs": [
    {
     "name": "stdout",
     "output_type": "stream",
     "text": [
      "_ _ _ _ _ X _ _ _ _\n",
      "X X _ _ _ _ _ X _ X\n",
      "X _ _ X _ _ _ _ _ _\n",
      "_ _ _ _ _ _ _ _ X _\n",
      "_ _ _ _ X X _ _ _ X\n",
      "_ X _ _ _ _ _ _ _ X\n",
      "_ _ X _ X _ _ _ _ X\n",
      "_ _ _ _ X _ X X _ _\n",
      "_ _ _ _ _ _ X X _ _\n",
      "_ X X X _ _ _ _ _ _\n",
      "_ _ X _ _ _ _ _ _ X\n",
      "_ _ _ _ _ X X _ X X\n",
      "_ _ _ _ _ X _ _ _ _\n",
      "_ _ _ _ _ X _ X _ X\n",
      "_ X _ _ _ _ _ _ _ _\n"
     ]
    }
   ],
   "source": [
    "game = Minesweeper()\n",
    "game.display()"
   ]
  },
  {
   "cell_type": "markdown",
   "metadata": {},
   "source": [
    "It looks much better now. The grid is however still incomplete. We need to add in cell hints. We write a function that when given a coordinate point, determines the number of mines in vicinity.\n",
    "\n",
    "What do we mean by *vicinity*?<br>\n",
    "The neighbouring cells, in any one of the 8 directions viz, top, bottom, left, right, top-right, top-left, bot-right, bot-left.\n",
    "\n",
    "Say we have a coord point (5, 5). What are its neighbours?<br>\n",
    "Their neighbours would be: (4, 4), (4, 5), (4, 6), (5, 4), (5, 6), (6, 4), (6, 5), (6, 6)\n",
    "\n",
    "For any point (i, j) their neighbours would be?<br>\n",
    "*See the function below*"
   ]
  },
  {
   "cell_type": "code",
   "execution_count": 105,
   "metadata": {},
   "outputs": [],
   "source": [
    "def count_mines(grid, i, j, m, n):\n",
    "    'Counts the total number of mines in the vicinity of the point'    \n",
    "    \n",
    "    # note that i denotes row# and j denotes col#\n",
    "    # neighbours of any point (i, j) would be:\n",
    "    to_check = [\n",
    "        \n",
    "        # go up by one row\n",
    "        (i - 1, j - 1),\n",
    "        (i - 1, j),\n",
    "        (i - 1, j + 1),\n",
    "    \n",
    "        # same row\n",
    "        (i, j - 1),\n",
    "        (i, j + 1),\n",
    "    \n",
    "        # one row below\n",
    "        (i + 1, j - 1),\n",
    "        (i + 1, j),\n",
    "        (i + 1, j + 1),\n",
    "    ]\n",
    "    \n",
    "    # mine_count is a variable to save count of \n",
    "    # mines encountered so far\n",
    "    mine_count = 0\n",
    "    \n",
    "    # to_check is a list containing coordinate values (x, y)\n",
    "    for x, y in to_check:\n",
    "        \n",
    "        # if these points lie inside grid, check for mines\n",
    "        # some points may lie outside the grid, say if i and j is 0, 0\n",
    "        # then this point would only have 3 neighbours\n",
    "        if (0 <= x < m) and (0 <= y < n):\n",
    "            \n",
    "            # check if grid has a mine\n",
    "            # -1 = mine; 0 = no mine\n",
    "            if grid[x][y] == -1:\n",
    "                mine_count += 1\n",
    "\n",
    "    return mine_count"
   ]
  },
  {
   "cell_type": "code",
   "execution_count": 106,
   "metadata": {},
   "outputs": [
    {
     "name": "stdout",
     "output_type": "stream",
     "text": [
      "_ _ _ _ _ X _ _ _ _\n",
      "X X _ _ _ _ _ X _ X\n",
      "X _ _ X _ _ _ _ _ _\n",
      "_ _ _ _ _ _ _ _ X _\n",
      "_ _ _ _ X X _ _ _ X\n",
      "_ X _ _ _ _ _ _ _ X\n",
      "_ _ X _ X _ _ _ _ X\n",
      "_ _ _ _ X _ X X _ _\n",
      "_ _ _ _ _ _ X X _ _\n",
      "_ X X X _ _ _ _ _ _\n",
      "_ _ X _ _ _ _ _ _ X\n",
      "_ _ _ _ _ X X _ X X\n",
      "_ _ _ _ _ X _ _ _ _\n",
      "_ _ _ _ _ X _ X _ X\n",
      "_ X _ _ _ _ _ _ _ _\n",
      "\n",
      "Top-Left (0, 0) position's Count: 2\n",
      "Top-right (0, cols-1) position's Count: 1\n",
      "Bottom-left (rows-1, 0) position's Count: 1\n",
      "Bottom-right (rows-1, cols-1) position's Count: 1\n"
     ]
    }
   ],
   "source": [
    "game.display()\n",
    "\n",
    "# top-left\n",
    "print (\"\\nTop-Left (0, 0) position's Count:\", count_mines(game.grid, 0, 0, game.rows, game.cols))\n",
    "\n",
    "# top-right\n",
    "print (\"Top-right (0, cols-1) position's Count:\", count_mines(game.grid, 0, 9, game.rows, game.cols))\n",
    "\n",
    "# bottom-left\n",
    "print (\"Bottom-left (rows-1, 0) position's Count:\", count_mines(game.grid, 14, 0, game.rows, game.cols))\n",
    "\n",
    "# bottom-right\n",
    "print (\"Bottom-right (rows-1, cols-1) position's Count:\", count_mines(game.grid, 14, 9, game.rows, game.cols))"
   ]
  },
  {
   "cell_type": "markdown",
   "metadata": {},
   "source": [
    "This works just as we expected. Now since mine hints have been added, we need to alter the `display` function a bit as well. \n",
    "\n",
    "But before we update the display function, let's also think a step ahead and visualize how we could make the gameplay easier for our user. It would be better if the grid position has row numbers and column numbers were displayed. We need these numbers since for a console game, the user would need to manually enter the grid positions on the keyboard. Had this been a GUI application, we could have gotten away without these. \n",
    "\n",
    "So let's write code logic for that and update the minesweeper class:"
   ]
  },
  {
   "cell_type": "code",
   "execution_count": 107,
   "metadata": {},
   "outputs": [],
   "source": [
    "class Minesweeper():\n",
    "    def __init__(self, rows=15, cols=10, mine_count=35):\n",
    "        self.rows = rows\n",
    "        self.cols = cols\n",
    "        self.mine_count = mine_count\n",
    "        self.grid = self.create_grid()\n",
    "        \n",
    "        # we update the game grid with hints, after creating the grid and populating it with mines\n",
    "        # we wrap up our count_mine() function above into another function create_hints().\n",
    "        # This function calls count_mine function for each coordinate position on the game grid\n",
    "        self.create_hints()\n",
    "        \n",
    "    def create_grid(self):\n",
    "        size = self.rows * self.cols\n",
    "        total = [(i, j) for i in range(self.rows) for j in range(self.cols)]\n",
    "        mines = []\n",
    "\n",
    "        for i in range(self.mine_count):\n",
    "            pos = random.randint(0, size - 1)\n",
    "            mines.append(total.pop(pos))\n",
    "            size = size - 1\n",
    "            \n",
    "        return [[-1 if (i, j) in mines else 0 for j in range(self.cols)] for i in range(self.rows)]\n",
    "    \n",
    "    def display(self):\n",
    "        \n",
    "        # display column hint, the spaces required were determined by trial and error :)\n",
    "        # :2 ensure that when column number hint's number of digits change \n",
    "        # from 1 to 2 displaying it still looks good.\n",
    "        print (f\"    {'  '.join([f'{i:2}' for i in range(self.cols)])}  \")\n",
    "        \n",
    "        for i, row in enumerate(game.grid):\n",
    "            \n",
    "            # result contains all the values in row suitably \n",
    "            # converted to a string equivalent\n",
    "            result = []\n",
    "            \n",
    "            for cell in row:\n",
    "                \n",
    "                # if cell is a mine, mark it with an \"X\"\n",
    "                if cell == -1:\n",
    "                    result.append(\"X\")\n",
    "                # if cell is an empty cell don't display anything: \" \" (space)\n",
    "                elif cell == 0:\n",
    "                    result.append(\" \")\n",
    "                # else (a hint cell), display the integer value as a string\n",
    "                else:\n",
    "                    result.append(str(cell))\n",
    "                    \n",
    "            # `result` is still a list, we need to convert it a string\n",
    "            # done using a combination of F-STRINGS and JOIN method\n",
    "            \n",
    "            # obtained this purely by means of trial and error :)\n",
    "            # the presentation doesn't matter as much, I usually determine\n",
    "            # optimal spaces, tabs by means of trial and error\n",
    "            print (f\"{i} | {' | '.join(result)} |\")\n",
    "            print (f\"  {'-' * (self.cols * 4 + 1)}\")\n",
    "            \n",
    "    def count_mines(self, i, j):\n",
    "        'Counts the total number of mines in the vicinity of the point'    \n",
    "        \n",
    "        neighbours = [\n",
    "            (i - 1, j - 1),\n",
    "            (i - 1, j),\n",
    "            (i - 1, j + 1),\n",
    "             \n",
    "            (i, j - 1),\n",
    "            (i, j + 1),\n",
    "\n",
    "            (i + 1, j - 1),\n",
    "            (i + 1, j),\n",
    "            (i + 1, j + 1)\n",
    "        ]\n",
    "\n",
    "        mine_count = 0\n",
    "        \n",
    "        for x, y in neighbours:\n",
    "            \n",
    "            # if these points lie inside grid, check for mines\n",
    "            if (0 <= x < self.rows) and (0 <= y < self.cols):\n",
    "                if self.grid[x][y] == -1:\n",
    "                    mine_count += 1\n",
    "\n",
    "        return mine_count\n",
    "    \n",
    "    def create_hints(self):\n",
    "        'For each point (x, y) in the grid, determine the mine count.'\n",
    "        \n",
    "        for i in range(self.rows):\n",
    "            for j in range(self.cols):\n",
    "                \n",
    "                if self.grid[i][j] != -1:\n",
    "                    \n",
    "                    # if the cell doesn't contain a mine itself (non mine cell)\n",
    "                    # determine the count of neighbouring mines\n",
    "                    self.grid[i][j] = self.count_mines(i, j)"
   ]
  },
  {
   "cell_type": "code",
   "execution_count": 108,
   "metadata": {},
   "outputs": [
    {
     "name": "stdout",
     "output_type": "stream",
     "text": [
      "     0   1   2   3   4   5   6   7   8   9  \n",
      "0 | 1 | 2 | 1 | 2 | X | X | 1 |   | 1 | 1 |\n",
      "  -----------------------------------------\n",
      "1 | X | 2 | X | 2 | 2 | 2 | 1 |   | 1 | X |\n",
      "  -----------------------------------------\n",
      "2 | 2 | 3 | 3 | 2 | 1 |   | 1 | 1 | 3 | 2 |\n",
      "  -----------------------------------------\n",
      "3 | 1 | X | 2 | X | 1 |   | 2 | X | 3 | X |\n",
      "  -----------------------------------------\n",
      "4 | 1 | 1 | 2 | 1 | 1 | 1 | 3 | X | 3 | 1 |\n",
      "  -----------------------------------------\n",
      "5 | 1 | 1 | 1 |   |   | 1 | X | 2 | 1 |   |\n",
      "  -----------------------------------------\n",
      "6 | 3 | X | 3 | 1 | 1 | 2 | 2 | 1 |   |   |\n",
      "  -----------------------------------------\n",
      "7 | X | X | X | 2 | 2 | X | 1 |   |   |   |\n",
      "  -----------------------------------------\n",
      "8 | 2 | 3 | 4 | X | 4 | 2 | 1 |   | 1 | 1 |\n",
      "  -----------------------------------------\n",
      "9 |   |   | 2 | X | X | 1 |   |   | 1 | X |\n",
      "  -----------------------------------------\n"
     ]
    }
   ],
   "source": [
    "# How does it look?\n",
    "\n",
    "# alter the rows, columns and mine count and \n",
    "# see if the display function still looks legible\n",
    "\n",
    "# I actually ran this cell dozens of times, \n",
    "# fine tuning the display function above. So don't be frustrated\n",
    "# if you feel it too difficult to comprehend display()\n",
    "\n",
    "game = Minesweeper(rows=10, cols=10, mine_count=20)\n",
    "game.display()"
   ]
  },
  {
   "cell_type": "markdown",
   "metadata": {},
   "source": [
    "This is how the final grid to be displayed to our user should look like. However, at the beginning of the game neither these hints nor the bomb locations should be revealed to our user. It is hidden from the user, until she traverses it. So we need a **state** for the user that would track his interactions with the grid.\n",
    "\n",
    "In the cell below, we make the following major alterations:\n",
    "\n",
    "1. Create a function *reveal*.\n",
    "    * Returns a boolean value stating whether game will continue or end. \n",
    "    * At the same time, it will alter the state of user and add the cell position to a list of cells already *explored* by the user. \n",
    "    * This function would be called everytime the user 'clicks' on a cell in the grid.\n",
    "2. Create another function *mark*. \n",
    "    * Marks the cell with a flag. \n",
    "    * This function is to assist the user in marking cells that are suspected to contain bombs. \n",
    "    * Function firstly needs to check if cell wasn't already explored. If explored, function does nothing. Else, mark the cell as \"#\".\n",
    "    * This function is equivalent of right clicking on the minesweeper grid.\n",
    "3. Alter *display_grid* function:\n",
    "    * If game_over, we need to display the entire grid\n",
    "    * Until then, display only those cells that the user has traversed.\n",
    "    \n",
    "Let us rewrite our class:"
   ]
  },
  {
   "cell_type": "code",
   "execution_count": 109,
   "metadata": {},
   "outputs": [],
   "source": [
    "class Minesweeper():\n",
    "    def __init__(self, rows=15, cols=10, mine_count=35):\n",
    "        self.rows = rows\n",
    "        self.cols = cols\n",
    "        self.mine_count = mine_count\n",
    "        \n",
    "        self.grid = self.create_grid()\n",
    "        self.create_hints()\n",
    "        \n",
    "        # this list would track the user 'state'\n",
    "        # it would contain all cells the user has visited already\n",
    "        self.explored = []\n",
    "        \n",
    "    def create_grid(self):\n",
    "        size = self.rows * self.cols\n",
    "        total = [(i, j) for i in range(self.rows) for j in range(self.cols)]\n",
    "        mines = []\n",
    "\n",
    "        for i in range(self.mine_count):\n",
    "            pos = random.randint(0, size - 1)\n",
    "            mines.append(total.pop(pos))\n",
    "            size = size - 1\n",
    "            \n",
    "        return [[-1 if (i, j) in mines else 0 for j in range(self.cols)] for i in range(self.rows)]\n",
    "    \n",
    "    def display(self, reveal_all=False):\n",
    "        '''\n",
    "        Notice that we have added reveal_all parameter.\n",
    "        \n",
    "        This parameter is set to TRUE, only when the game has ended.\n",
    "        If set to TRUE, we want to display the entire grid with hints and mine locations\n",
    "        else, we display only those cells that have been traversed by the user.\n",
    "        \n",
    "        By default, it is set to FALSE.\n",
    "        '''\n",
    "        \n",
    "        # display column hint\n",
    "        print (f\"    {'  '.join([f'{i:2}' for i in range(self.cols)])}  \")\n",
    "        \n",
    "        for i, row in enumerate(game.grid):\n",
    "            \n",
    "            result = []\n",
    "            for j, cell in enumerate(row):\n",
    "                \n",
    "                # display only if either the cell was traversed by user\n",
    "                # or if reveal_all parameter is set to TRUE\n",
    "                # if reveal_all is TRUE, we display everything from hints to mines\n",
    "                if (i, j) in self.explored or reveal_all:\n",
    "                    if cell == -1:\n",
    "                        result.append(\"X\")\n",
    "                    elif cell == 0:\n",
    "                        result.append(\" \")\n",
    "                    else:\n",
    "                        result.append(str(cell))\n",
    "                else:\n",
    "                    result.append(\" \")\n",
    "                    \n",
    "            # obtained this purely by means of trial and error\n",
    "            print (f\"{i:2} | {' | '.join(result)} |\")\n",
    "            print (f\"   {'-' * (self.cols * 4 + 1)}\")\n",
    "            \n",
    "    def reveal_contour(self, x, y):\n",
    "        '''\n",
    "        Appends all the cells in contour region of an empty cell.\n",
    "        \n",
    "        We call this function only when an empty cell (without any hints or mines are selected)\n",
    "        When such a cell is clicked, all the cells in a `contour` need to be displayed.\n",
    "        \n",
    "        Unimplemented right now. We will implement this function later.\n",
    "        '''\n",
    "        pass\n",
    "            \n",
    "    def reveal(self, x, y):\n",
    "        '''\n",
    "        Every time the user clicks a cell, this function is called.\n",
    "        \n",
    "        Returns a boolean value: \n",
    "            TRUE if game continues\n",
    "            FALSE if game has ended\n",
    "                Game ends when user clicks on a mine\n",
    "                Game can also end if all cells have been discovered.\n",
    "        '''\n",
    "        \n",
    "        # make a change only if that particular cell hasn't already been traversed\n",
    "        if (x, y) not in self.explored:\n",
    "            \n",
    "            # if cell is a mine, game cannot continue, return false\n",
    "            if self.grid[x][y] == -1:\n",
    "                return False\n",
    "            \n",
    "            # cell contains zero bombs nearby, so reveal all cells in the `contour`\n",
    "            # call the reveal_contour function which adds all the cells in contour \n",
    "            # to list of `explored` cells\n",
    "            # game continues on (returns True)\n",
    "            elif self.grid[x][y] == 0:\n",
    "                self.reveal_contour(x, y)               \n",
    "                return True\n",
    "            \n",
    "            # cell contains hint\n",
    "            # add the cell to the number of cells already explored\n",
    "            # game continues on (return True)\n",
    "            else: \n",
    "                self.explored.append((x, y))                \n",
    "                return True\n",
    "            \n",
    "        else:\n",
    "            return True\n",
    "            \n",
    "    def count_mines(self, i, j):\n",
    "        'Counts the total number of mines in the vicinity of the point'    \n",
    "        \n",
    "        neighbours = [\n",
    "            (i - 1, j - 1),\n",
    "            (i - 1, j),\n",
    "            (i - 1, j + 1),\n",
    "             \n",
    "            (i, j - 1),\n",
    "            (i, j + 1),\n",
    "\n",
    "            (i + 1, j - 1),\n",
    "            (i + 1, j),\n",
    "            (i + 1, j + 1)\n",
    "        ]\n",
    "\n",
    "        mine_count = 0\n",
    "        for x, y in neighbours:\n",
    "            # if these points lie inside grid, check for mines\n",
    "            if (0 <= x < self.rows) and (0 <= y < self.cols):\n",
    "                if self.grid[x][y] == -1:\n",
    "                    mine_count += 1\n",
    "\n",
    "        return mine_count\n",
    "    \n",
    "    def create_hints(self):\n",
    "        for i in range(self.rows):\n",
    "            for j in range(self.cols):\n",
    "                if self.grid[i][j] != -1:\n",
    "                    self.grid[i][j] = self.count_mines(i, j)"
   ]
  },
  {
   "cell_type": "code",
   "execution_count": 110,
   "metadata": {},
   "outputs": [
    {
     "name": "stdout",
     "output_type": "stream",
     "text": [
      "     0   1   2   3   4   5   6   7   8   9  10  11  12  13  14  \n",
      " 0 | 1 | 1 | 3 | X | 2 |   |   |   |   |   | 2 | X | 2 |   |   |\n",
      "   -------------------------------------------------------------\n",
      " 1 | 3 | X | 5 | X | 3 |   |   |   |   |   | 3 | X | 5 | 2 | 1 |\n",
      "   -------------------------------------------------------------\n",
      " 2 | X | X | 4 | X | 3 | 2 | 1 | 1 |   | 1 | 3 | X | X | X | 1 |\n",
      "   -------------------------------------------------------------\n",
      " 3 | 3 | 3 | 3 | 3 | X | 3 | X | 2 | 1 | 1 | X | 3 | 3 | 3 | 2 |\n",
      "   -------------------------------------------------------------\n",
      " 4 | 1 | X | 2 | 3 | X | 3 | 2 | X | 2 | 2 | 1 | 1 |   | 1 | X |\n",
      "   -------------------------------------------------------------\n",
      " 5 | 2 | 2 | 2 | X | 3 | 2 | 3 | 3 | X | 2 | 1 | 1 |   | 1 | 1 |\n",
      "   -------------------------------------------------------------\n",
      " 6 | X | 2 | 2 | 2 | 3 | X | 2 | X | 2 | 2 | X | 1 |   | 1 | 1 |\n",
      "   -------------------------------------------------------------\n",
      " 7 | X | 3 | 1 | X | 3 | 3 | 4 | 2 | 1 | 1 | 1 | 1 |   | 2 | X |\n",
      "   -------------------------------------------------------------\n",
      " 8 | X | 3 | 3 | 3 | 3 | X | X | 1 |   |   | 1 | 2 | 2 | 3 | X |\n",
      "   -------------------------------------------------------------\n",
      " 9 | 1 | 2 | X | X | 2 | 2 | 2 | 1 |   |   | 1 | X | X | 2 | 1 |\n",
      "   -------------------------------------------------------------\n",
      "\n",
      "     0   1   2   3   4   5   6   7   8   9  10  11  12  13  14  \n",
      " 0 |   |   |   |   |   |   |   |   |   |   |   |   |   |   |   |\n",
      "   -------------------------------------------------------------\n",
      " 1 |   |   |   |   |   |   |   |   |   |   |   |   |   |   |   |\n",
      "   -------------------------------------------------------------\n",
      " 2 |   |   |   |   |   |   |   |   |   |   |   |   |   |   |   |\n",
      "   -------------------------------------------------------------\n",
      " 3 |   |   |   |   |   |   |   |   |   |   |   |   |   |   |   |\n",
      "   -------------------------------------------------------------\n",
      " 4 |   |   |   |   |   |   |   |   |   |   |   |   |   |   |   |\n",
      "   -------------------------------------------------------------\n",
      " 5 |   |   |   |   |   |   |   |   |   |   |   |   |   |   |   |\n",
      "   -------------------------------------------------------------\n",
      " 6 |   |   |   |   |   |   |   |   |   |   |   |   |   |   |   |\n",
      "   -------------------------------------------------------------\n",
      " 7 |   |   |   |   |   |   |   |   |   |   |   |   |   |   |   |\n",
      "   -------------------------------------------------------------\n",
      " 8 |   |   |   |   |   |   |   |   |   |   |   |   |   |   |   |\n",
      "   -------------------------------------------------------------\n",
      " 9 |   |   |   |   |   |   |   |   |   |   |   |   |   |   |   |\n",
      "   -------------------------------------------------------------\n"
     ]
    }
   ],
   "source": [
    "game = Minesweeper(rows=10, cols=15)\n",
    "\n",
    "# how does reveal_all work?\n",
    "game.display(reveal_all=True)\n",
    "print()\n",
    "\n",
    "# should display an empty grid\n",
    "# shouldn't display any hints or mines\n",
    "game.display()"
   ]
  },
  {
   "cell_type": "markdown",
   "metadata": {},
   "source": [
    "I find it a lot easier to work with functions as opposed of working with class functions directly. Hence, we will write the `reveal_contour`'s logic in the below cell and then integrate it to our class after we have tested it to work well.\n",
    "\n",
    "*What would the logic for such a function be?*\n",
    "\n",
    "If it's too difficult to solve, I recommend that you see `reveal_contour` as a seperate coding problem by itself. If that be the case, what is the first step to code it? \n",
    "\n",
    "We would need to understand *how* the contour's are revealed. Consider the GIFs below:\n",
    "\n",
    "<table>\n",
    "    <tr><th>Example 1</th>\n",
    "        <th>Example 2</th>\n",
    "        <th>Example 3</th>\n",
    "        <th>Example 4</th>\n",
    "    </tr>\n",
    "    <tr>\n",
    "        <td><img src=\"https://i.ibb.co/sjbMWwp/empty-cell.gif\" alt=\"Example 1\"/></td>\n",
    "        <td><img src=\"https://i.ibb.co/zfy88GK/empty-cell-1.gif\" alt=\"Example 2\"/></td>\n",
    "        <td><img src=\"https://i.ibb.co/Lp5tZtp/empty-cell-2.gif\" alt=\"Example 3\"/></td>\n",
    "        <td><img src=\"https://i.ibb.co/yQ5z14t/empty-cell-3.gif\" alt=\"Example 4\"/></td>\n",
    "    </tr>\n",
    "    </table>\n",
    "    \n",
    "Here's what happens when an empty cell is clicked:\n",
    "\n",
    "1. All neighbouring empty cells are displayed RECURSIVELY.\n",
    "    - For each empty cell reveal all its neighbouring cells (hint and empty).\n",
    "    - Neighbour of an empty cell can NEVER be a mine cell.\n",
    "    - FOR EACH empty cell discovered in the process, repeat the steps again.\n",
    "2. We stop only at hint cells. The contour is \"demarcated\" by hint cells.\n",
    "\n",
    "Recursion is simply calling a function within the same function. Solving a problem recusively makes it really concise and intuitive. To grasp this paradigm of programming, what helps the best is to assume that a function already exists that can solve what you are trying to solve. Now, think about the *base case*: Where should the function stop it's recursive calling? A base case is usually an `if` statement containing a return or a print. But this block DOES NOT contain a recursive call.\n",
    "\n",
    "We will see how all this can be done in our code snippet below:"
   ]
  },
  {
   "cell_type": "code",
   "execution_count": 111,
   "metadata": {},
   "outputs": [],
   "source": [
    "def reveal_contour(grid, i, j, m, n):\n",
    "    \n",
    "    '''\n",
    "    Given a cell position (i, j), append all the cells in contour to `explored` (cells already visited).\n",
    "    \n",
    "    Let's assume a global variable `revealed` to contain all the cells that the user has already visisted. \n",
    "    We will add to this list, the cells in the contour.  \n",
    "    '''\n",
    "    \n",
    "    # for each cell encountered by the function call\n",
    "    # we append the coordinates to list of coordinates already traversed\n",
    "    # revealed is a GLOBAL variable. We assume this list contains \n",
    "    # all the coordinates that were already traversed\n",
    "    revealed.append((i, j))\n",
    "    \n",
    "    # BASE CASE -> Doesn't contain another recusive call\n",
    "    # This is where the function call 'returns' control back\n",
    "    \n",
    "    # We stop when a non empty cell is encountered (mine or hint)\n",
    "    # but in actuality, a mine cell will never be encountered by the function.\n",
    "    if grid[i][j] != 0:\n",
    "        return\n",
    "    \n",
    "    # if another empty cell is encountered, do the following\n",
    "    else:\n",
    "    \n",
    "        # check all the neighbours for other empty cells\n",
    "        neighbours = [\n",
    "            (i - 1, j - 1),\n",
    "            (i - 1, j),\n",
    "            (i - 1, j + 1),\n",
    "\n",
    "            (i, j - 1),\n",
    "            (i, j + 1),\n",
    "\n",
    "            (i + 1, j - 1),\n",
    "            (i + 1, j),\n",
    "            (i + 1, j + 1)\n",
    "        ]\n",
    "        \n",
    "        # we need to repeat the same function logic for all neighbouring points\n",
    "        for x, y in neighbours:\n",
    "            \n",
    "            # ensure the point lies within the grid & also ensure that it hasn't already been traversed\n",
    "            # It can so happen that two neighbouring cells can share a neighbour, \n",
    "            #  in that case we don't want the function called twice\n",
    "            \n",
    "            if 0 <= x < m and 0 <= y < n and (x, y) not in revealed:\n",
    "                reveal_contour(grid, x, y, m, n)"
   ]
  },
  {
   "cell_type": "code",
   "execution_count": 112,
   "metadata": {},
   "outputs": [
    {
     "name": "stdout",
     "output_type": "stream",
     "text": [
      "     0   1   2   3   4   5   6   7   8   9  10  11  12  13  14  \n",
      " 0 | 1 | 1 | 3 | X | 2 |   |   |   |   |   | 2 | X | 2 |   |   |\n",
      "   -------------------------------------------------------------\n",
      " 1 | 3 | X | 5 | X | 3 |   |   |   |   |   | 3 | X | 5 | 2 | 1 |\n",
      "   -------------------------------------------------------------\n",
      " 2 | X | X | 4 | X | 3 | 2 | 1 | 1 |   | 1 | 3 | X | X | X | 1 |\n",
      "   -------------------------------------------------------------\n",
      " 3 | 3 | 3 | 3 | 3 | X | 3 | X | 2 | 1 | 1 | X | 3 | 3 | 3 | 2 |\n",
      "   -------------------------------------------------------------\n",
      " 4 | 1 | X | 2 | 3 | X | 3 | 2 | X | 2 | 2 | 1 | 1 |   | 1 | X |\n",
      "   -------------------------------------------------------------\n",
      " 5 | 2 | 2 | 2 | X | 3 | 2 | 3 | 3 | X | 2 | 1 | 1 |   | 1 | 1 |\n",
      "   -------------------------------------------------------------\n",
      " 6 | X | 2 | 2 | 2 | 3 | X | 2 | X | 2 | 2 | X | 1 |   | 1 | 1 |\n",
      "   -------------------------------------------------------------\n",
      " 7 | X | 3 | 1 | X | 3 | 3 | 4 | 2 | 1 | 1 | 1 | 1 |   | 2 | X |\n",
      "   -------------------------------------------------------------\n",
      " 8 | X | 3 | 3 | 3 | 3 | X | X | 1 |   |   | 1 | 2 | 2 | 3 | X |\n",
      "   -------------------------------------------------------------\n",
      " 9 | 1 | 2 | X | X | 2 | 2 | 2 | 1 |   |   | 1 | X | X | 2 | 1 |\n",
      "   -------------------------------------------------------------\n"
     ]
    },
    {
     "data": {
      "text/plain": [
       "[(0, 9),\n",
       " (0, 8),\n",
       " (0, 7),\n",
       " (0, 6),\n",
       " (0, 5),\n",
       " (0, 4),\n",
       " (1, 4),\n",
       " (1, 5),\n",
       " (1, 6),\n",
       " (1, 7),\n",
       " (1, 8),\n",
       " (1, 9),\n",
       " (0, 10),\n",
       " (1, 10),\n",
       " (2, 8),\n",
       " (2, 7),\n",
       " (2, 9),\n",
       " (3, 7),\n",
       " (3, 8),\n",
       " (3, 9),\n",
       " (2, 10),\n",
       " (2, 6),\n",
       " (2, 5),\n",
       " (2, 4)]"
      ]
     },
     "execution_count": 112,
     "metadata": {},
     "output_type": "execute_result"
    }
   ],
   "source": [
    "# assume revealed is empty -> No cells have been discovered so far\n",
    "revealed = []\n",
    "\n",
    "# choose a suitable x, y where the cell is empty\n",
    "game.display(reveal_all=True)\n",
    "\n",
    "# to see if the function works fine, we need to give in \n",
    "# coordinate position of an empty cell\n",
    "empty_coord_x = 0\n",
    "empty_coord_y = 9\n",
    "\n",
    "reveal_contour(game.grid, empty_coord_x, empty_coord_y, game.rows, game.cols)\n",
    "revealed"
   ]
  },
  {
   "cell_type": "markdown",
   "metadata": {},
   "source": [
    "Works well! Change the values of x and y suitably and check if the function logic still holds.\n",
    "\n",
    "We now integrate this function to our class. Let's also add a winning criterion: *All non mine grids have been succesfully discovered*. To do this, we would be altering our create grid function to return a list of coorindates without any mines called as *cells_to_discover*.\n",
    "\n",
    "Then, as we keep calling the `reveal()` function we would also be removing coordinates from this variable. When there are no more points left in this *cells_to_discover* variable we can conclude that user has revealed all the non mine grids succesfully and has thus cleared the game.\n",
    "\n",
    "In the cell below, we also create the `mark()` function that helps the user mark a grid and blocks it from being clicked / activated."
   ]
  },
  {
   "cell_type": "code",
   "execution_count": 113,
   "metadata": {},
   "outputs": [],
   "source": [
    "class Minesweeper():\n",
    "    def __init__(self, rows=15, cols=10, mine_count=35):\n",
    "        self.rows = rows\n",
    "        self.cols = cols\n",
    "        self.mine_count = mine_count\n",
    "        self.grid, self.cells_to_discover = self.create_grid()\n",
    "        self.create_hints()\n",
    "        \n",
    "        # in addition to a list of explored cells, we keep \n",
    "        # track of all cells the user has `marked`\n",
    "        self.explored = []\n",
    "        self.marked = []\n",
    "        \n",
    "    def create_grid(self):\n",
    "        size = self.rows * self.cols\n",
    "        total = [(i, j) for i in range(self.rows) for j in range(self.cols)]\n",
    "        mines = []\n",
    "\n",
    "        for i in range(self.mine_count):\n",
    "            pos = random.randint(0, size - 1)\n",
    "            mines.append(total.pop(pos))\n",
    "            size = size - 1\n",
    "            \n",
    "        return [[-1 if (i, j) in mines else 0 for j in range(self.cols)] for i in range(self.rows)], total\n",
    "    \n",
    "    def display(self, reveal_all=False):\n",
    "        '''\n",
    "        Possible cases:\n",
    "        \n",
    "            1. Mine cell:\n",
    "                IF reveal_all=True OR cell in explored, display the \"X\"\n",
    "                ELSE display ' '\n",
    "            2. Hint cell:\n",
    "                IF reveal_all=True OR cell in explored, display int.\n",
    "                ELSE display ' '\n",
    "            3. Empty cell: display ' '\n",
    "            4. Cell in marked and reveal_all=False: display ' '\n",
    "            \n",
    "        '''\n",
    "        \n",
    "        # display column hint\n",
    "        print (f\"    {'  '.join([f'{i:2}' for i in range(self.cols)])}  \")\n",
    "        \n",
    "        for i, row in enumerate(game.grid):\n",
    "            \n",
    "            result = []\n",
    "            for j, cell in enumerate(row):\n",
    "                \n",
    "                # display only if either the cell was traversed by user\n",
    "                # or if reveal_all parameter is set to TRUE\n",
    "                # if reveal_all is TRUE, we display everything from hints to mines\n",
    "                if (i, j) in self.explored or reveal_all:\n",
    "                          \n",
    "                    if cell == -1:\n",
    "                        result.append(\"X\")\n",
    "                    elif cell == 0:\n",
    "                        result.append(\" \")\n",
    "                    else:\n",
    "                        result.append(str(cell))\n",
    "                        \n",
    "                # reveal_all parameter is set to False AND\n",
    "                # Cell wasn't already explored\n",
    "                else:\n",
    "                    # if cell is `marked`  display a suitable symbol\n",
    "                    if (i, j) in self.marked:\n",
    "                        result.append(\"#\")\n",
    "                        \n",
    "                    # Hide the contents, otherwise\n",
    "                    else:\n",
    "                        result.append(\" \")\n",
    "                    \n",
    "            # obtained this purely by means of trial and error\n",
    "            print (f\"{i:2} | {' | '.join(result)} |\")\n",
    "            print (f\"   {'-' * (self.cols * 4 + 1)}\")\n",
    "            \n",
    "    def reveal_contour(self, i, j):\n",
    "        \n",
    "        # append the current cell to explored and remove it \n",
    "        # from the list of cells left to explore\n",
    "        self.explored.append((i, j))\n",
    "        self.cells_to_discover.remove((i, j))\n",
    "\n",
    "        if self.grid[i][j] != 0:\n",
    "            return\n",
    "\n",
    "        else:\n",
    "\n",
    "            neighbours = [\n",
    "                (i - 1, j - 1),\n",
    "                (i - 1, j),\n",
    "                (i - 1, j + 1),\n",
    "\n",
    "                (i, j - 1),\n",
    "                (i, j + 1),\n",
    "\n",
    "                (i + 1, j - 1),\n",
    "                (i + 1, j),\n",
    "                (i + 1, j + 1)\n",
    "            ]\n",
    "\n",
    "            for x, y in neighbours:\n",
    "                if 0 <= x < self.rows and 0 <= y < self.cols and (x, y) not in self.explored:\n",
    "                    # recusively call the function\n",
    "                    self.reveal_contour(x, y)    \n",
    "            \n",
    "    def reveal(self, x, y):\n",
    "        '''Every time the user clicks a cell, this function is called.\n",
    "        Marked cells cant be revealed. Need to `unmark` them first.\n",
    "        '''\n",
    "        \n",
    "        # we can only explore cells not already explored\n",
    "        if ((x, y) not in self.explored) and ((x, y) not in self.marked):\n",
    "            \n",
    "            if self.grid[x][y] == -1:\n",
    "                return False\n",
    "            \n",
    "            # cell contains zero bombs nearby, so reveal contour cells\n",
    "            elif self.grid[x][y] == 0:\n",
    "                self.reveal_contour(x, y)               \n",
    "                return True\n",
    "            \n",
    "            else: # cell contains hint\n",
    "                self.explored.append((x, y))  \n",
    "                self.cells_to_discover.remove((x, y))\n",
    "                return True\n",
    "          \n",
    "        # clicked on a cell either already explored or that has been marked\n",
    "        # such an operation would not end the game, the game would continue running\n",
    "        else:\n",
    "            return True\n",
    "        \n",
    "    def mark(self, x, y):\n",
    "        \"\"\"\n",
    "        Mark the position if it is unexplored, but don't `reveal` it. If already explored, do nothing.\n",
    "        If cell is already marked, unmark it.\n",
    "        \n",
    "        Returns a boolean value same as `reveal` function. But since game never ends after \n",
    "        a mark operation, we always return TRUE\n",
    "        \"\"\"            \n",
    "        \n",
    "        if (x, y) not in self.explored:\n",
    "            \n",
    "            # if not already marked, mark it\n",
    "            if (x, y) not in self.marked:\n",
    "                self.marked.append((x, y))\n",
    "            \n",
    "            # if already marked, unmark it\n",
    "            else:\n",
    "                self.marked.remove((x, y))\n",
    "                \n",
    "        return True\n",
    "        \n",
    "    def count_mines(self, i, j):\n",
    "        'Counts the total number of mines in the vicinity of the point'    \n",
    "        \n",
    "        neighbours = [\n",
    "            (i - 1, j - 1),\n",
    "            (i - 1, j),\n",
    "            (i - 1, j + 1),\n",
    "             \n",
    "            (i, j - 1),\n",
    "            (i, j + 1),\n",
    "\n",
    "            (i + 1, j - 1),\n",
    "            (i + 1, j),\n",
    "            (i + 1, j + 1)\n",
    "        ]\n",
    "\n",
    "        mine_count = 0\n",
    "        for x, y in neighbours:\n",
    "            # if these points lie inside grid, check for mines\n",
    "            if (0 <= x < self.rows) and (0 <= y < self.cols):\n",
    "                if self.grid[x][y] == -1:\n",
    "                    mine_count += 1\n",
    "\n",
    "        return mine_count\n",
    "    \n",
    "    def check_user_Win(self):\n",
    "        '''\n",
    "        The Winning criteria: No more cells left to discover!\n",
    "        Returns TRUE if no more cells left to discover, else FALSE\n",
    "        '''\n",
    "        return len(self.cells_to_discover) == 0\n",
    "    \n",
    "    def create_hints(self):\n",
    "        for i in range(self.rows):\n",
    "            for j in range(self.cols):\n",
    "                if self.grid[i][j] != -1:\n",
    "                    self.grid[i][j] = self.count_mines(i, j)"
   ]
  },
  {
   "cell_type": "markdown",
   "metadata": {},
   "source": [
    "We now have everything we'd need. Let's now play a sample game of minesweeper to see how we are doing so far:"
   ]
  },
  {
   "cell_type": "code",
   "execution_count": 115,
   "metadata": {},
   "outputs": [
    {
     "name": "stdout",
     "output_type": "stream",
     "text": [
      "     0   1   2   3   4   5   6   7   8   9  \n",
      " 0 |   |   |   |   |   |   |   |   |   |   |\n",
      "   -----------------------------------------\n",
      " 1 |   |   |   |   |   |   |   |   |   |   |\n",
      "   -----------------------------------------\n",
      " 2 |   |   |   |   |   |   |   |   |   |   |\n",
      "   -----------------------------------------\n",
      " 3 |   |   |   |   |   |   |   |   |   |   |\n",
      "   -----------------------------------------\n",
      " 4 |   |   |   |   |   |   |   |   |   |   |\n",
      "   -----------------------------------------\n",
      "\n"
     ]
    },
    {
     "name": "stdin",
     "output_type": "stream",
     "text": [
      "Enter operation (0 - Mark / 1 - Reveal), Row & Col number seperated by spaces:  1 0 0\n"
     ]
    },
    {
     "name": "stdout",
     "output_type": "stream",
     "text": [
      "\n",
      "     0   1   2   3   4   5   6   7   8   9  \n",
      " 0 |   | 1 |   |   |   |   |   |   |   |   |\n",
      "   -----------------------------------------\n",
      " 1 |   | 1 |   |   |   |   |   |   |   |   |\n",
      "   -----------------------------------------\n",
      " 2 |   | 1 | 1 |   |   |   |   |   |   |   |\n",
      "   -----------------------------------------\n",
      " 3 |   |   | 1 |   |   |   |   |   |   |   |\n",
      "   -----------------------------------------\n",
      " 4 |   |   | 1 |   |   |   |   |   |   |   |\n",
      "   -----------------------------------------\n",
      "\n"
     ]
    },
    {
     "name": "stdin",
     "output_type": "stream",
     "text": [
      "Enter operation (0 - Mark / 1 - Reveal), Row & Col number seperated by spaces:  0 1 2\n"
     ]
    },
    {
     "name": "stdout",
     "output_type": "stream",
     "text": [
      "\n",
      "     0   1   2   3   4   5   6   7   8   9  \n",
      " 0 |   | 1 |   |   |   |   |   |   |   |   |\n",
      "   -----------------------------------------\n",
      " 1 |   | 1 | # |   |   |   |   |   |   |   |\n",
      "   -----------------------------------------\n",
      " 2 |   | 1 | 1 |   |   |   |   |   |   |   |\n",
      "   -----------------------------------------\n",
      " 3 |   |   | 1 |   |   |   |   |   |   |   |\n",
      "   -----------------------------------------\n",
      " 4 |   |   | 1 |   |   |   |   |   |   |   |\n",
      "   -----------------------------------------\n",
      "\n"
     ]
    },
    {
     "name": "stdin",
     "output_type": "stream",
     "text": [
      "Enter operation (0 - Mark / 1 - Reveal), Row & Col number seperated by spaces:  1 0 2\n"
     ]
    },
    {
     "name": "stdout",
     "output_type": "stream",
     "text": [
      "\n",
      "     0   1   2   3   4   5   6   7   8   9  \n",
      " 0 |   | 1 | 1 |   |   |   |   |   |   |   |\n",
      "   -----------------------------------------\n",
      " 1 |   | 1 | # |   |   |   |   |   |   |   |\n",
      "   -----------------------------------------\n",
      " 2 |   | 1 | 1 |   |   |   |   |   |   |   |\n",
      "   -----------------------------------------\n",
      " 3 |   |   | 1 |   |   |   |   |   |   |   |\n",
      "   -----------------------------------------\n",
      " 4 |   |   | 1 |   |   |   |   |   |   |   |\n",
      "   -----------------------------------------\n",
      "\n"
     ]
    },
    {
     "name": "stdin",
     "output_type": "stream",
     "text": [
      "Enter operation (0 - Mark / 1 - Reveal), Row & Col number seperated by spaces:  1 0 3\n"
     ]
    },
    {
     "name": "stdout",
     "output_type": "stream",
     "text": [
      "\n",
      "     0   1   2   3   4   5   6   7   8   9  \n",
      " 0 |   | 1 | 1 | 1 |   |   |   |   |   |   |\n",
      "   -----------------------------------------\n",
      " 1 |   | 1 | # |   |   |   |   |   |   |   |\n",
      "   -----------------------------------------\n",
      " 2 |   | 1 | 1 |   |   |   |   |   |   |   |\n",
      "   -----------------------------------------\n",
      " 3 |   |   | 1 |   |   |   |   |   |   |   |\n",
      "   -----------------------------------------\n",
      " 4 |   |   | 1 |   |   |   |   |   |   |   |\n",
      "   -----------------------------------------\n",
      "\n"
     ]
    },
    {
     "name": "stdin",
     "output_type": "stream",
     "text": [
      "Enter operation (0 - Mark / 1 - Reveal), Row & Col number seperated by spaces:  1 1 3\n"
     ]
    },
    {
     "name": "stdout",
     "output_type": "stream",
     "text": [
      "\n",
      "     0   1   2   3   4   5   6   7   8   9  \n",
      " 0 |   | 1 | 1 | 1 |   |   |   |   |   |   |\n",
      "   -----------------------------------------\n",
      " 1 |   | 1 | # | 2 |   |   |   |   |   |   |\n",
      "   -----------------------------------------\n",
      " 2 |   | 1 | 1 |   |   |   |   |   |   |   |\n",
      "   -----------------------------------------\n",
      " 3 |   |   | 1 |   |   |   |   |   |   |   |\n",
      "   -----------------------------------------\n",
      " 4 |   |   | 1 |   |   |   |   |   |   |   |\n",
      "   -----------------------------------------\n",
      "\n"
     ]
    },
    {
     "name": "stdin",
     "output_type": "stream",
     "text": [
      "Enter operation (0 - Mark / 1 - Reveal), Row & Col number seperated by spaces:  1 2 3\n"
     ]
    },
    {
     "name": "stdout",
     "output_type": "stream",
     "text": [
      "\n",
      "     0   1   2   3   4   5   6   7   8   9  \n",
      " 0 |   | 1 | 1 | 1 |   |   |   |   |   |   |\n",
      "   -----------------------------------------\n",
      " 1 |   | 1 | # | 2 |   |   |   |   |   |   |\n",
      "   -----------------------------------------\n",
      " 2 |   | 1 | 1 | 2 |   |   |   |   |   |   |\n",
      "   -----------------------------------------\n",
      " 3 |   |   | 1 |   |   |   |   |   |   |   |\n",
      "   -----------------------------------------\n",
      " 4 |   |   | 1 |   |   |   |   |   |   |   |\n",
      "   -----------------------------------------\n",
      "\n"
     ]
    },
    {
     "name": "stdin",
     "output_type": "stream",
     "text": [
      "Enter operation (0 - Mark / 1 - Reveal), Row & Col number seperated by spaces:  1 0 4\n"
     ]
    },
    {
     "name": "stdout",
     "output_type": "stream",
     "text": [
      "\n",
      "     0   1   2   3   4   5   6   7   8   9  \n",
      " 0 |   | 1 | 1 | 1 |   |   |   |   | 2 |   |\n",
      "   -----------------------------------------\n",
      " 1 |   | 1 | # | 2 | 2 | 3 | 2 | 1 | 3 |   |\n",
      "   -----------------------------------------\n",
      " 2 |   | 1 | 1 | 2 |   |   |   |   |   |   |\n",
      "   -----------------------------------------\n",
      " 3 |   |   | 1 |   |   |   |   |   |   |   |\n",
      "   -----------------------------------------\n",
      " 4 |   |   | 1 |   |   |   |   |   |   |   |\n",
      "   -----------------------------------------\n",
      "\n"
     ]
    },
    {
     "name": "stdin",
     "output_type": "stream",
     "text": [
      "Enter operation (0 - Mark / 1 - Reveal), Row & Col number seperated by spaces:  0 0 9\n"
     ]
    },
    {
     "name": "stdout",
     "output_type": "stream",
     "text": [
      "\n",
      "     0   1   2   3   4   5   6   7   8   9  \n",
      " 0 |   | 1 | 1 | 1 |   |   |   |   | 2 | # |\n",
      "   -----------------------------------------\n",
      " 1 |   | 1 | # | 2 | 2 | 3 | 2 | 1 | 3 |   |\n",
      "   -----------------------------------------\n",
      " 2 |   | 1 | 1 | 2 |   |   |   |   |   |   |\n",
      "   -----------------------------------------\n",
      " 3 |   |   | 1 |   |   |   |   |   |   |   |\n",
      "   -----------------------------------------\n",
      " 4 |   |   | 1 |   |   |   |   |   |   |   |\n",
      "   -----------------------------------------\n",
      "\n"
     ]
    },
    {
     "name": "stdin",
     "output_type": "stream",
     "text": [
      "Enter operation (0 - Mark / 1 - Reveal), Row & Col number seperated by spaces:  0 1 9\n"
     ]
    },
    {
     "name": "stdout",
     "output_type": "stream",
     "text": [
      "\n",
      "     0   1   2   3   4   5   6   7   8   9  \n",
      " 0 |   | 1 | 1 | 1 |   |   |   |   | 2 | # |\n",
      "   -----------------------------------------\n",
      " 1 |   | 1 | # | 2 | 2 | 3 | 2 | 1 | 3 | # |\n",
      "   -----------------------------------------\n",
      " 2 |   | 1 | 1 | 2 |   |   |   |   |   |   |\n",
      "   -----------------------------------------\n",
      " 3 |   |   | 1 |   |   |   |   |   |   |   |\n",
      "   -----------------------------------------\n",
      " 4 |   |   | 1 |   |   |   |   |   |   |   |\n",
      "   -----------------------------------------\n",
      "\n"
     ]
    },
    {
     "name": "stdin",
     "output_type": "stream",
     "text": [
      "Enter operation (0 - Mark / 1 - Reveal), Row & Col number seperated by spaces:  0 2 4\n"
     ]
    },
    {
     "name": "stdout",
     "output_type": "stream",
     "text": [
      "\n",
      "     0   1   2   3   4   5   6   7   8   9  \n",
      " 0 |   | 1 | 1 | 1 |   |   |   |   | 2 | # |\n",
      "   -----------------------------------------\n",
      " 1 |   | 1 | # | 2 | 2 | 3 | 2 | 1 | 3 | # |\n",
      "   -----------------------------------------\n",
      " 2 |   | 1 | 1 | 2 | # |   |   |   |   |   |\n",
      "   -----------------------------------------\n",
      " 3 |   |   | 1 |   |   |   |   |   |   |   |\n",
      "   -----------------------------------------\n",
      " 4 |   |   | 1 |   |   |   |   |   |   |   |\n",
      "   -----------------------------------------\n",
      "\n"
     ]
    },
    {
     "name": "stdin",
     "output_type": "stream",
     "text": [
      "Enter operation (0 - Mark / 1 - Reveal), Row & Col number seperated by spaces:  1 3 3\n"
     ]
    },
    {
     "name": "stdout",
     "output_type": "stream",
     "text": [
      "\n",
      "     0   1   2   3   4   5   6   7   8   9  \n",
      " 0 |   | 1 | 1 | 1 |   |   |   |   | 2 | # |\n",
      "   -----------------------------------------\n",
      " 1 |   | 1 | # | 2 | 2 | 3 | 2 | 1 | 3 | # |\n",
      "   -----------------------------------------\n",
      " 2 |   | 1 | 1 | 2 | # |   |   |   |   |   |\n",
      "   -----------------------------------------\n",
      " 3 |   |   | 1 | 3 |   |   |   |   |   |   |\n",
      "   -----------------------------------------\n",
      " 4 |   |   | 1 |   |   |   |   |   |   |   |\n",
      "   -----------------------------------------\n",
      "\n"
     ]
    },
    {
     "name": "stdin",
     "output_type": "stream",
     "text": [
      "Enter operation (0 - Mark / 1 - Reveal), Row & Col number seperated by spaces:  1 3 4\n"
     ]
    },
    {
     "name": "stdout",
     "output_type": "stream",
     "text": [
      "\n",
      "     0   1   2   3   4   5   6   7   8   9  \n",
      " 0 |   | 1 | 1 | 1 |   |   |   |   | 2 | # |\n",
      "   -----------------------------------------\n",
      " 1 |   | 1 | # | 2 | 2 | 3 | 2 | 1 | 3 | # |\n",
      "   -----------------------------------------\n",
      " 2 |   | 1 | 1 | 2 | # |   |   |   |   |   |\n",
      "   -----------------------------------------\n",
      " 3 |   |   | 1 | 3 | 4 |   |   |   |   |   |\n",
      "   -----------------------------------------\n",
      " 4 |   |   | 1 |   |   |   |   |   |   |   |\n",
      "   -----------------------------------------\n",
      "\n"
     ]
    },
    {
     "name": "stdin",
     "output_type": "stream",
     "text": [
      "Enter operation (0 - Mark / 1 - Reveal), Row & Col number seperated by spaces:  0 4 3\n"
     ]
    },
    {
     "name": "stdout",
     "output_type": "stream",
     "text": [
      "\n",
      "     0   1   2   3   4   5   6   7   8   9  \n",
      " 0 |   | 1 | 1 | 1 |   |   |   |   | 2 | # |\n",
      "   -----------------------------------------\n",
      " 1 |   | 1 | # | 2 | 2 | 3 | 2 | 1 | 3 | # |\n",
      "   -----------------------------------------\n",
      " 2 |   | 1 | 1 | 2 | # |   |   |   |   |   |\n",
      "   -----------------------------------------\n",
      " 3 |   |   | 1 | 3 | 4 |   |   |   |   |   |\n",
      "   -----------------------------------------\n",
      " 4 |   |   | 1 | # |   |   |   |   |   |   |\n",
      "   -----------------------------------------\n",
      "\n"
     ]
    },
    {
     "name": "stdin",
     "output_type": "stream",
     "text": [
      "Enter operation (0 - Mark / 1 - Reveal), Row & Col number seperated by spaces:  0 4 4\n"
     ]
    },
    {
     "name": "stdout",
     "output_type": "stream",
     "text": [
      "\n",
      "     0   1   2   3   4   5   6   7   8   9  \n",
      " 0 |   | 1 | 1 | 1 |   |   |   |   | 2 | # |\n",
      "   -----------------------------------------\n",
      " 1 |   | 1 | # | 2 | 2 | 3 | 2 | 1 | 3 | # |\n",
      "   -----------------------------------------\n",
      " 2 |   | 1 | 1 | 2 | # |   |   |   |   |   |\n",
      "   -----------------------------------------\n",
      " 3 |   |   | 1 | 3 | 4 |   |   |   |   |   |\n",
      "   -----------------------------------------\n",
      " 4 |   |   | 1 | # | # |   |   |   |   |   |\n",
      "   -----------------------------------------\n",
      "\n"
     ]
    },
    {
     "name": "stdin",
     "output_type": "stream",
     "text": [
      "Enter operation (0 - Mark / 1 - Reveal), Row & Col number seperated by spaces:  0 2 5\n"
     ]
    },
    {
     "name": "stdout",
     "output_type": "stream",
     "text": [
      "\n",
      "     0   1   2   3   4   5   6   7   8   9  \n",
      " 0 |   | 1 | 1 | 1 |   |   |   |   | 2 | # |\n",
      "   -----------------------------------------\n",
      " 1 |   | 1 | # | 2 | 2 | 3 | 2 | 1 | 3 | # |\n",
      "   -----------------------------------------\n",
      " 2 |   | 1 | 1 | 2 | # | # |   |   |   |   |\n",
      "   -----------------------------------------\n",
      " 3 |   |   | 1 | 3 | 4 |   |   |   |   |   |\n",
      "   -----------------------------------------\n",
      " 4 |   |   | 1 | # | # |   |   |   |   |   |\n",
      "   -----------------------------------------\n",
      "\n"
     ]
    },
    {
     "name": "stdin",
     "output_type": "stream",
     "text": [
      "Enter operation (0 - Mark / 1 - Reveal), Row & Col number seperated by spaces:  0 2 6\n"
     ]
    },
    {
     "name": "stdout",
     "output_type": "stream",
     "text": [
      "\n",
      "     0   1   2   3   4   5   6   7   8   9  \n",
      " 0 |   | 1 | 1 | 1 |   |   |   |   | 2 | # |\n",
      "   -----------------------------------------\n",
      " 1 |   | 1 | # | 2 | 2 | 3 | 2 | 1 | 3 | # |\n",
      "   -----------------------------------------\n",
      " 2 |   | 1 | 1 | 2 | # | # | # |   |   |   |\n",
      "   -----------------------------------------\n",
      " 3 |   |   | 1 | 3 | 4 |   |   |   |   |   |\n",
      "   -----------------------------------------\n",
      " 4 |   |   | 1 | # | # |   |   |   |   |   |\n",
      "   -----------------------------------------\n",
      "\n"
     ]
    },
    {
     "name": "stdin",
     "output_type": "stream",
     "text": [
      "Enter operation (0 - Mark / 1 - Reveal), Row & Col number seperated by spaces:  1 2 7\n"
     ]
    },
    {
     "name": "stdout",
     "output_type": "stream",
     "text": [
      "\n",
      "     0   1   2   3   4   5   6   7   8   9  \n",
      " 0 |   | 1 | 1 | 1 |   |   |   |   | 2 | # |\n",
      "   -----------------------------------------\n",
      " 1 |   | 1 | # | 2 | 2 | 3 | 2 | 1 | 3 | # |\n",
      "   -----------------------------------------\n",
      " 2 |   | 1 | 1 | 2 | # | # | # | 1 |   |   |\n",
      "   -----------------------------------------\n",
      " 3 |   |   | 1 | 3 | 4 |   |   |   |   |   |\n",
      "   -----------------------------------------\n",
      " 4 |   |   | 1 | # | # |   |   |   |   |   |\n",
      "   -----------------------------------------\n",
      "\n"
     ]
    },
    {
     "name": "stdin",
     "output_type": "stream",
     "text": [
      "Enter operation (0 - Mark / 1 - Reveal), Row & Col number seperated by spaces:  1 2 8\n"
     ]
    },
    {
     "name": "stdout",
     "output_type": "stream",
     "text": [
      "\n",
      "     0   1   2   3   4   5   6   7   8   9  \n",
      " 0 |   | 1 | 1 | 1 |   |   |   |   | 2 | # |\n",
      "   -----------------------------------------\n",
      " 1 |   | 1 | # | 2 | 2 | 3 | 2 | 1 | 3 | # |\n",
      "   -----------------------------------------\n",
      " 2 |   | 1 | 1 | 2 | # | # | # | 1 | 2 |   |\n",
      "   -----------------------------------------\n",
      " 3 |   |   | 1 | 3 | 4 |   |   |   |   |   |\n",
      "   -----------------------------------------\n",
      " 4 |   |   | 1 | # | # |   |   |   |   |   |\n",
      "   -----------------------------------------\n",
      "\n"
     ]
    },
    {
     "name": "stdin",
     "output_type": "stream",
     "text": [
      "Enter operation (0 - Mark / 1 - Reveal), Row & Col number seperated by spaces:  1 3 8\n"
     ]
    },
    {
     "name": "stdout",
     "output_type": "stream",
     "text": [
      "\n",
      "     0   1   2   3   4   5   6   7   8   9  \n",
      " 0 |   | 1 | 1 | 1 |   |   |   |   | 2 | # |\n",
      "   -----------------------------------------\n",
      " 1 |   | 1 | # | 2 | 2 | 3 | 2 | 1 | 3 | # |\n",
      "   -----------------------------------------\n",
      " 2 |   | 1 | 1 | 2 | # | # | # | 1 | 2 |   |\n",
      "   -----------------------------------------\n",
      " 3 |   |   | 1 | 3 | 4 |   |   |   | 1 |   |\n",
      "   -----------------------------------------\n",
      " 4 |   |   | 1 | # | # |   |   |   |   |   |\n",
      "   -----------------------------------------\n",
      "\n"
     ]
    },
    {
     "name": "stdin",
     "output_type": "stream",
     "text": [
      "Enter operation (0 - Mark / 1 - Reveal), Row & Col number seperated by spaces:  1 3 7\n"
     ]
    },
    {
     "name": "stdout",
     "output_type": "stream",
     "text": [
      "\n",
      "     0   1   2   3   4   5   6   7   8   9  \n",
      " 0 |   | 1 | 1 | 1 |   |   |   |   | 2 | # |\n",
      "   -----------------------------------------\n",
      " 1 |   | 1 | # | 2 | 2 | 3 | 2 | 1 | 3 | # |\n",
      "   -----------------------------------------\n",
      " 2 |   | 1 | 1 | 2 | # | # | # | 1 | 2 |   |\n",
      "   -----------------------------------------\n",
      " 3 |   |   | 1 | 3 | 4 |   |   | 2 | 1 |   |\n",
      "   -----------------------------------------\n",
      " 4 |   |   | 1 | # | # |   |   |   |   |   |\n",
      "   -----------------------------------------\n",
      "\n"
     ]
    },
    {
     "name": "stdin",
     "output_type": "stream",
     "text": [
      "Enter operation (0 - Mark / 1 - Reveal), Row & Col number seperated by spaces:  1 3 6\n"
     ]
    },
    {
     "name": "stdout",
     "output_type": "stream",
     "text": [
      "\n",
      "     0   1   2   3   4   5   6   7   8   9  \n",
      " 0 |   | 1 | 1 | 1 |   |   |   |   | 2 | # |\n",
      "   -----------------------------------------\n",
      " 1 |   | 1 | # | 2 | 2 | 3 | 2 | 1 | 3 | # |\n",
      "   -----------------------------------------\n",
      " 2 |   | 1 | 1 | 2 | # | # | # | 1 | 2 |   |\n",
      "   -----------------------------------------\n",
      " 3 |   |   | 1 | 3 | 4 |   | 3 | 2 | 1 |   |\n",
      "   -----------------------------------------\n",
      " 4 |   |   | 1 | # | # |   |   |   |   |   |\n",
      "   -----------------------------------------\n",
      "\n"
     ]
    },
    {
     "name": "stdin",
     "output_type": "stream",
     "text": [
      "Enter operation (0 - Mark / 1 - Reveal), Row & Col number seperated by spaces:  0 2 9\n"
     ]
    },
    {
     "name": "stdout",
     "output_type": "stream",
     "text": [
      "\n",
      "     0   1   2   3   4   5   6   7   8   9  \n",
      " 0 |   | 1 | 1 | 1 |   |   |   |   | 2 | # |\n",
      "   -----------------------------------------\n",
      " 1 |   | 1 | # | 2 | 2 | 3 | 2 | 1 | 3 | # |\n",
      "   -----------------------------------------\n",
      " 2 |   | 1 | 1 | 2 | # | # | # | 1 | 2 | # |\n",
      "   -----------------------------------------\n",
      " 3 |   |   | 1 | 3 | 4 |   | 3 | 2 | 1 |   |\n",
      "   -----------------------------------------\n",
      " 4 |   |   | 1 | # | # |   |   |   |   |   |\n",
      "   -----------------------------------------\n",
      "\n"
     ]
    },
    {
     "name": "stdin",
     "output_type": "stream",
     "text": [
      "Enter operation (0 - Mark / 1 - Reveal), Row & Col number seperated by spaces:  1 3 9\n"
     ]
    },
    {
     "name": "stdout",
     "output_type": "stream",
     "text": [
      "\n",
      "     0   1   2   3   4   5   6   7   8   9  \n",
      " 0 |   | 1 | 1 | 1 |   |   |   |   | 2 | # |\n",
      "   -----------------------------------------\n",
      " 1 |   | 1 | # | 2 | 2 | 3 | 2 | 1 | 3 | # |\n",
      "   -----------------------------------------\n",
      " 2 |   | 1 | 1 | 2 | # | # | # | 1 | 2 | # |\n",
      "   -----------------------------------------\n",
      " 3 |   |   | 1 | 3 | 4 |   | 3 | 2 | 1 | 1 |\n",
      "   -----------------------------------------\n",
      " 4 |   |   | 1 | # | # |   |   |   |   |   |\n",
      "   -----------------------------------------\n",
      "\n"
     ]
    },
    {
     "name": "stdin",
     "output_type": "stream",
     "text": [
      "Enter operation (0 - Mark / 1 - Reveal), Row & Col number seperated by spaces:  1 4 9\n"
     ]
    },
    {
     "name": "stdout",
     "output_type": "stream",
     "text": [
      "\n",
      "     0   1   2   3   4   5   6   7   8   9  \n",
      " 0 |   | 1 | 1 | 1 |   |   |   |   | 2 | # |\n",
      "   -----------------------------------------\n",
      " 1 |   | 1 | # | 2 | 2 | 3 | 2 | 1 | 3 | # |\n",
      "   -----------------------------------------\n",
      " 2 |   | 1 | 1 | 2 | # | # | # | 1 | 2 | # |\n",
      "   -----------------------------------------\n",
      " 3 |   |   | 1 | 3 | 4 |   | 3 | 2 | 1 | 1 |\n",
      "   -----------------------------------------\n",
      " 4 |   |   | 1 | # | # |   |   | 1 |   |   |\n",
      "   -----------------------------------------\n",
      "\n"
     ]
    },
    {
     "name": "stdin",
     "output_type": "stream",
     "text": [
      "Enter operation (0 - Mark / 1 - Reveal), Row & Col number seperated by spaces:  1 4 8\n"
     ]
    },
    {
     "name": "stdout",
     "output_type": "stream",
     "text": [
      "\n",
      "     0   1   2   3   4   5   6   7   8   9  \n",
      " 0 |   | 1 | 1 | 1 |   |   |   |   | 2 | # |\n",
      "   -----------------------------------------\n",
      " 1 |   | 1 | # | 2 | 2 | 3 | 2 | 1 | 3 | # |\n",
      "   -----------------------------------------\n",
      " 2 |   | 1 | 1 | 2 | # | # | # | 1 | 2 | # |\n",
      "   -----------------------------------------\n",
      " 3 |   |   | 1 | 3 | 4 |   | 3 | 2 | 1 | 1 |\n",
      "   -----------------------------------------\n",
      " 4 |   |   | 1 | # | # |   |   | 1 |   |   |\n",
      "   -----------------------------------------\n",
      "\n"
     ]
    },
    {
     "name": "stdin",
     "output_type": "stream",
     "text": [
      "Enter operation (0 - Mark / 1 - Reveal), Row & Col number seperated by spaces:  0 4 6\n"
     ]
    },
    {
     "name": "stdout",
     "output_type": "stream",
     "text": [
      "\n",
      "     0   1   2   3   4   5   6   7   8   9  \n",
      " 0 |   | 1 | 1 | 1 |   |   |   |   | 2 | # |\n",
      "   -----------------------------------------\n",
      " 1 |   | 1 | # | 2 | 2 | 3 | 2 | 1 | 3 | # |\n",
      "   -----------------------------------------\n",
      " 2 |   | 1 | 1 | 2 | # | # | # | 1 | 2 | # |\n",
      "   -----------------------------------------\n",
      " 3 |   |   | 1 | 3 | 4 |   | 3 | 2 | 1 | 1 |\n",
      "   -----------------------------------------\n",
      " 4 |   |   | 1 | # | # |   | # | 1 |   |   |\n",
      "   -----------------------------------------\n",
      "\n"
     ]
    },
    {
     "name": "stdin",
     "output_type": "stream",
     "text": [
      "Enter operation (0 - Mark / 1 - Reveal), Row & Col number seperated by spaces:  1 3 5\n"
     ]
    },
    {
     "name": "stdout",
     "output_type": "stream",
     "text": [
      "\n",
      "     0   1   2   3   4   5   6   7   8   9  \n",
      " 0 |   | 1 | 1 | 1 |   |   |   |   | 2 | # |\n",
      "   -----------------------------------------\n",
      " 1 |   | 1 | # | 2 | 2 | 3 | 2 | 1 | 3 | # |\n",
      "   -----------------------------------------\n",
      " 2 |   | 1 | 1 | 2 | # | # | # | 1 | 2 | # |\n",
      "   -----------------------------------------\n",
      " 3 |   |   | 1 | 3 | 4 | 5 | 3 | 2 | 1 | 1 |\n",
      "   -----------------------------------------\n",
      " 4 |   |   | 1 | # | # |   | # | 1 |   |   |\n",
      "   -----------------------------------------\n",
      "\n"
     ]
    },
    {
     "name": "stdin",
     "output_type": "stream",
     "text": [
      "Enter operation (0 - Mark / 1 - Reveal), Row & Col number seperated by spaces:  1 4 5\n"
     ]
    },
    {
     "name": "stdout",
     "output_type": "stream",
     "text": [
      "\n",
      "Congradulations! You win the game!\n",
      "     0   1   2   3   4   5   6   7   8   9  \n",
      " 0 |   | 1 | 1 | 1 |   |   |   |   | 2 | X |\n",
      "   -----------------------------------------\n",
      " 1 |   | 1 | X | 2 | 2 | 3 | 2 | 1 | 3 | X |\n",
      "   -----------------------------------------\n",
      " 2 |   | 1 | 1 | 2 | X | X | X | 1 | 2 | X |\n",
      "   -----------------------------------------\n",
      " 3 |   |   | 1 | 3 | 4 | 5 | 3 | 2 | 1 | 1 |\n",
      "   -----------------------------------------\n",
      " 4 |   |   | 1 | X | X | 2 | X | 1 |   |   |\n",
      "   -----------------------------------------\n"
     ]
    }
   ],
   "source": [
    "# altering number of rows, cols & mines to keep it easy\n",
    "game = Minesweeper(rows=5, cols=10, mine_count=10)\n",
    "\n",
    "# a variable to keep checking if the user has won the game\n",
    "# initialy, no mines have been clicked => Conintue the game\n",
    "continueGame = True\n",
    "\n",
    "# while the game hasn't ended continue loop\n",
    "while continueGame:\n",
    "\n",
    "    # for each iteration, display the current status of minesweeper board\n",
    "    game.display()\n",
    "    \n",
    "    # Ask from the user: \"What should we do? Where do you wish to click?\"\n",
    "    print()\n",
    "    inp = list(map(int, input(\"Enter operation (0 - Mark / 1 - Reveal), Row & Col number seperated by spaces: \").split()))\n",
    "    print()\n",
    "    \n",
    "    # inp[0] == 0 if it is a mark operation, call mark()\n",
    "    if inp[0] == 0:\n",
    "        continueGame = game.mark(*inp[1:])\n",
    "        \n",
    "    # a reveal command, call reveal()\n",
    "    else:\n",
    "        continueGame = game.reveal(*inp[1:])\n",
    "        \n",
    "        # also keep checking if the user has revealed \n",
    "        # all non mine cells with his latest operation\n",
    "        continueGame = continueGame and not game.check_user_Win()\n",
    "    \n",
    "# continueGame is False, game has ended\n",
    "else:\n",
    "    \n",
    "    # game can end if user has won the game\n",
    "    if game.check_user_Win():\n",
    "        print (\"Congradulations! You win the game!\")\n",
    "        \n",
    "    # game can also end if the user clicked on mine\n",
    "    else:\n",
    "        print (\"Game Over! Better luck next time!\")\n",
    "    \n",
    "    # always display the entire board at the end of the game\n",
    "    game.display(reveal_all=True)"
   ]
  },
  {
   "cell_type": "markdown",
   "metadata": {},
   "source": [
    "The game works excellent! But playing the game seems a bit difficult. Both the empty cells without any bomb hints as well as the cells undiscovered are empty. This can cause a bit of confusion during gameplay. So let's adopt a better display terminology:\n",
    "\n",
    "    Bomb Cells          : @\n",
    "    Marked Cells        : #\n",
    "    Empty Cells         : X\n",
    "    Hint Cells          : Integer\n",
    "    Undiscovered Cells  : ' ' \n",
    "    \n",
    "Rewriting the display function again, let's also wrap up the game playing logic to the Minesweeper class:"
   ]
  },
  {
   "cell_type": "code",
   "execution_count": 116,
   "metadata": {},
   "outputs": [],
   "source": [
    "class Minesweeper():\n",
    "    def __init__(self, rows=15, cols=10, mine_count=35):\n",
    "        self.rows = rows\n",
    "        self.cols = cols\n",
    "        self.mine_count = mine_count\n",
    "        self.grid, self.cells_to_discover = self.create_grid()\n",
    "        self.create_hints()\n",
    "        self.explored = []\n",
    "        self.marked = []\n",
    "        \n",
    "    def create_grid(self):\n",
    "        size = self.rows * self.cols\n",
    "        total = [(i, j) for i in range(self.rows) for j in range(self.cols)]\n",
    "        mines = []\n",
    "\n",
    "        for i in range(self.mine_count):\n",
    "            pos = random.randint(0, size - 1)\n",
    "            mines.append(total.pop(pos))\n",
    "            size = size - 1\n",
    "            \n",
    "        return [[-1 if (i, j) in mines else 0 for j in range(self.cols)] for i in range(self.rows)], total\n",
    "    \n",
    "    def display(self, reveal_all=False):\n",
    "        \n",
    "        # display column hint\n",
    "        print (f\"    {'  '.join([f'{i:2}' for i in range(self.cols)])}  \")\n",
    "        \n",
    "        for i, row in enumerate(game.grid):\n",
    "            \n",
    "            result = []\n",
    "            for j, cell in enumerate(row):\n",
    "                \n",
    "                # display only if the cell was traversed by user\n",
    "                if (i, j) in self.explored or reveal_all:\n",
    "                          \n",
    "                    if cell == -1:\n",
    "                        result.append(\"@\")\n",
    "                    elif cell == 0:\n",
    "                        result.append(\"X\")\n",
    "                    else:\n",
    "                        result.append(str(cell))\n",
    "                        \n",
    "                else:\n",
    "                    if (i, j) in self.marked and not reveal_all:\n",
    "                        result.append(\"#\")\n",
    "                    else:\n",
    "                        result.append(\" \")\n",
    "                    \n",
    "            # obtained this purely by means of trial and error :P\n",
    "            print (f\"{i:2} | {' | '.join(result)} |\")\n",
    "            print (f\"   {'-' * (self.cols * 4 + 1)}\")\n",
    "            \n",
    "    def reveal_contour(self, i, j):\n",
    "    \n",
    "        self.explored.append((i, j))\n",
    "        self.cells_to_discover.remove((i, j))\n",
    "\n",
    "        if self.grid[i][j] != 0:\n",
    "            return\n",
    "\n",
    "        else:\n",
    "\n",
    "            neighbours = [\n",
    "                (i - 1, j - 1),\n",
    "                (i - 1, j),\n",
    "                (i - 1, j + 1),\n",
    "\n",
    "                (i, j - 1),\n",
    "                (i, j + 1),\n",
    "\n",
    "                (i + 1, j - 1),\n",
    "                (i + 1, j),\n",
    "                (i + 1, j + 1)\n",
    "            ]\n",
    "\n",
    "            for x, y in neighbours:\n",
    "                if 0 <= x < self.rows and 0 <= y < self.cols and (x, y) not in self.explored:\n",
    "                    self.reveal_contour(x, y)    \n",
    "            \n",
    "    def reveal(self, x, y):\n",
    "        '''Every time the user clicks a cell, this function is called.\n",
    "        Marked cells cant be revealed. Need to unmark them first.\n",
    "        '''\n",
    "        \n",
    "        if (x, y) not in self.explored and (x, y) not in self.marked:\n",
    "            \n",
    "            if self.grid[x][y] == -1:\n",
    "                return False\n",
    "            \n",
    "            # cell contains zero bombs nearby, so reveal contour cells\n",
    "            elif self.grid[x][y] == 0:\n",
    "                self.reveal_contour(x, y)               \n",
    "                return True\n",
    "            \n",
    "            else: # cell contains hint\n",
    "                self.explored.append((x, y))  \n",
    "                self.cells_to_discover.remove((x, y))\n",
    "                return True\n",
    "            \n",
    "        else:\n",
    "            return True\n",
    "        \n",
    "    def mark(self, x, y):\n",
    "        \"\"\"Mark the position if it is unexplored, but don't `reveal` it. If explored, do nothing.\n",
    "        If cell is already marked, unmark it.\n",
    "        \"\"\"            \n",
    "        \n",
    "        if (x, y) not in self.explored:\n",
    "            \n",
    "            if (x, y) not in self.marked:\n",
    "                self.marked.append((x, y))\n",
    "            else:\n",
    "                self.marked.remove((x, y))\n",
    "                \n",
    "        return True\n",
    "        \n",
    "    def count_mines(self, i, j):\n",
    "        'Counts the total number of mines in the vicinity of the point'    \n",
    "        \n",
    "        neighbours = [\n",
    "            (i - 1, j - 1),\n",
    "            (i - 1, j),\n",
    "            (i - 1, j + 1),\n",
    "             \n",
    "            (i, j - 1),\n",
    "            (i, j + 1),\n",
    "\n",
    "            (i + 1, j - 1),\n",
    "            (i + 1, j),\n",
    "            (i + 1, j + 1)\n",
    "        ]\n",
    "\n",
    "        mine_count = 0\n",
    "        for x, y in neighbours:\n",
    "            # if these points lie inside grid, check for mines\n",
    "            if (0 <= x < self.rows) and (0 <= y < self.cols):\n",
    "                if self.grid[x][y] == -1:\n",
    "                    mine_count += 1\n",
    "\n",
    "        return mine_count\n",
    "    \n",
    "    def check_user_Win(self):\n",
    "        return len(self.cells_to_discover) == 0\n",
    "    \n",
    "    def create_hints(self):\n",
    "        for i in range(self.rows):\n",
    "            for j in range(self.cols):\n",
    "                if self.grid[i][j] != -1:\n",
    "                    self.grid[i][j] = self.count_mines(i, j)\n",
    "                    \n",
    "    def play(self, op, x, y):\n",
    "        '''\n",
    "        One common method for both mark and reveal operation.\n",
    "        Returns two boolean values: continueGame, GameWon\n",
    "        \n",
    "        We need to return these two values since game could have ended either \n",
    "        due to the fact that user won, or due to fact that he clicked on a mine.\n",
    "        \n",
    "        continueGame: If game is to be continued, return TRUE else FALSE\n",
    "        GamwWon: If user won, return TRUE else FALSE\n",
    "        \n",
    "        Note that user cannot win during a mark operation, so we always return False as \n",
    "        second return value during a mark operation\n",
    "        '''\n",
    "        \n",
    "        # if 0, it is a mark operation\n",
    "        if op == 0:\n",
    "            return self.mark(x, y), False\n",
    "        \n",
    "        # if 1, it is a reveal operation\n",
    "        else:\n",
    "            return self.reveal(x, y), self.check_user_Win()"
   ]
  },
  {
   "cell_type": "markdown",
   "metadata": {},
   "source": [
    "Having completed everything, let's enjoy playing a couple of Minesweeper games on the console!\n",
    "\n",
    "### Step 5:\n",
    "Finally, verify that the outputs of your code matches with the expected output."
   ]
  },
  {
   "cell_type": "code",
   "execution_count": 117,
   "metadata": {},
   "outputs": [
    {
     "name": "stdin",
     "output_type": "stream",
     "text": [
      "Enter the number of Rows:  5\n",
      "Enter the number of Columns:  10\n",
      "Enter number of Mines in Grid:  10\n"
     ]
    },
    {
     "name": "stdout",
     "output_type": "stream",
     "text": [
      "     0   1   2   3   4   5   6   7   8   9  \n",
      " 0 |   |   |   |   |   |   |   |   |   |   |\n",
      "   -----------------------------------------\n",
      " 1 |   |   |   |   |   |   |   |   |   |   |\n",
      "   -----------------------------------------\n",
      " 2 |   |   |   |   |   |   |   |   |   |   |\n",
      "   -----------------------------------------\n",
      " 3 |   |   |   |   |   |   |   |   |   |   |\n",
      "   -----------------------------------------\n",
      " 4 |   |   |   |   |   |   |   |   |   |   |\n",
      "   -----------------------------------------\n",
      "\n"
     ]
    },
    {
     "name": "stdin",
     "output_type": "stream",
     "text": [
      "Enter operation (0 - Mark / 1 - Reveal), Row & Col number seperated by spaces:  1 0 0\n"
     ]
    },
    {
     "name": "stdout",
     "output_type": "stream",
     "text": [
      "\n",
      "     0   1   2   3   4   5   6   7   8   9  \n",
      " 0 | 1 |   |   |   |   |   |   |   |   |   |\n",
      "   -----------------------------------------\n",
      " 1 |   |   |   |   |   |   |   |   |   |   |\n",
      "   -----------------------------------------\n",
      " 2 |   |   |   |   |   |   |   |   |   |   |\n",
      "   -----------------------------------------\n",
      " 3 |   |   |   |   |   |   |   |   |   |   |\n",
      "   -----------------------------------------\n",
      " 4 |   |   |   |   |   |   |   |   |   |   |\n",
      "   -----------------------------------------\n",
      "\n"
     ]
    },
    {
     "name": "stdin",
     "output_type": "stream",
     "text": [
      "Enter operation (0 - Mark / 1 - Reveal), Row & Col number seperated by spaces:  0 0 9\n"
     ]
    },
    {
     "name": "stdout",
     "output_type": "stream",
     "text": [
      "\n",
      "     0   1   2   3   4   5   6   7   8   9  \n",
      " 0 | 1 |   |   |   |   |   |   |   |   | # |\n",
      "   -----------------------------------------\n",
      " 1 |   |   |   |   |   |   |   |   |   |   |\n",
      "   -----------------------------------------\n",
      " 2 |   |   |   |   |   |   |   |   |   |   |\n",
      "   -----------------------------------------\n",
      " 3 |   |   |   |   |   |   |   |   |   |   |\n",
      "   -----------------------------------------\n",
      " 4 |   |   |   |   |   |   |   |   |   |   |\n",
      "   -----------------------------------------\n",
      "\n"
     ]
    },
    {
     "name": "stdin",
     "output_type": "stream",
     "text": [
      "Enter operation (0 - Mark / 1 - Reveal), Row & Col number seperated by spaces:  0 0 9\n"
     ]
    },
    {
     "name": "stdout",
     "output_type": "stream",
     "text": [
      "\n",
      "     0   1   2   3   4   5   6   7   8   9  \n",
      " 0 | 1 |   |   |   |   |   |   |   |   |   |\n",
      "   -----------------------------------------\n",
      " 1 |   |   |   |   |   |   |   |   |   |   |\n",
      "   -----------------------------------------\n",
      " 2 |   |   |   |   |   |   |   |   |   |   |\n",
      "   -----------------------------------------\n",
      " 3 |   |   |   |   |   |   |   |   |   |   |\n",
      "   -----------------------------------------\n",
      " 4 |   |   |   |   |   |   |   |   |   |   |\n",
      "   -----------------------------------------\n",
      "\n"
     ]
    },
    {
     "name": "stdin",
     "output_type": "stream",
     "text": [
      "Enter operation (0 - Mark / 1 - Reveal), Row & Col number seperated by spaces:  1 0 9\n"
     ]
    },
    {
     "name": "stdout",
     "output_type": "stream",
     "text": [
      "\n",
      "     0   1   2   3   4   5   6   7   8   9  \n",
      " 0 | 1 |   |   |   |   |   |   |   |   | 2 |\n",
      "   -----------------------------------------\n",
      " 1 |   |   |   |   |   |   |   |   |   |   |\n",
      "   -----------------------------------------\n",
      " 2 |   |   |   |   |   |   |   |   |   |   |\n",
      "   -----------------------------------------\n",
      " 3 |   |   |   |   |   |   |   |   |   |   |\n",
      "   -----------------------------------------\n",
      " 4 |   |   |   |   |   |   |   |   |   |   |\n",
      "   -----------------------------------------\n",
      "\n"
     ]
    },
    {
     "name": "stdin",
     "output_type": "stream",
     "text": [
      "Enter operation (0 - Mark / 1 - Reveal), Row & Col number seperated by spaces:  1 4 0\n"
     ]
    },
    {
     "name": "stdout",
     "output_type": "stream",
     "text": [
      "\n",
      "Game Over! Better luck next time!\n",
      "     0   1   2   3   4   5   6   7   8   9  \n",
      " 0 | 1 | @ | 2 | @ | 1 | X | 1 | 2 | @ | 2 |\n",
      "   -----------------------------------------\n",
      " 1 | 1 | 2 | 3 | 3 | 2 | 1 | 1 | @ | 3 | @ |\n",
      "   -----------------------------------------\n",
      " 2 | X | 1 | @ | 2 | @ | 1 | 1 | 1 | 3 | 2 |\n",
      "   -----------------------------------------\n",
      " 3 | 1 | 2 | 1 | 2 | 2 | 2 | 1 | X | 1 | @ |\n",
      "   -----------------------------------------\n",
      " 4 | @ | 1 | X | X | 1 | @ | 1 | X | 1 | 1 |\n",
      "   -----------------------------------------\n"
     ]
    }
   ],
   "source": [
    "# obtain the row count, col count and count of mines from the user\n",
    "rows = int(input(\"Enter the number of Rows: \"))\n",
    "cols = int(input(\"Enter the number of Columns: \"))\n",
    "mine_count = int(input(\"Enter number of Mines in Grid: \"))\n",
    "\n",
    "# Ready the game for gameplay\n",
    "game = Minesweeper(rows=rows, cols=cols, mine_count=mine_count)\n",
    "\n",
    "continueGame = True\n",
    "while continueGame:\n",
    "\n",
    "    game.display()\n",
    "    \n",
    "    # we add in exception handling to ensure that incorrect user inputs\n",
    "    # do not end the game. We do this to make the gameplay smmoth and fun\n",
    "    \n",
    "    try:\n",
    "        print()\n",
    "        inp = input(\"Enter operation (0 - Mark / 1 - Reveal), Row & Col number seperated by spaces: \")\n",
    "        inp = list(map(int, inp.split()))\n",
    "        print()\n",
    "        \n",
    "        # play() returns two values, check function definition\n",
    "        continueGame, userWon = game.play(*inp)\n",
    "        \n",
    "    # valueError is raised, when user enters an non integer input\n",
    "    # we display warning and keep the game running again\n",
    "    except ValueError:\n",
    "        print (\"Please enter valid inputs and try again.\")\n",
    "        \n",
    "    # if user wants to quit the game, presses ctrl + c, stop the game\n",
    "    except KeyboardInterrupt:\n",
    "        print (\"Quitting game!\")\n",
    "        break\n",
    "    \n",
    "# executed only when the game has ended naturally (without ctrl + c)\n",
    "else:\n",
    "    \n",
    "    # game ended due to winning?\n",
    "    if userWon:\n",
    "        print (\"Congradulations! You win the game!\")\n",
    "        \n",
    "    # game lost :(\n",
    "    else:\n",
    "        print (\"Game Over! Better luck next time!\")\n",
    "        \n",
    "    game.display(reveal_all=True)"
   ]
  }
 ],
 "metadata": {
  "kernelspec": {
   "display_name": "Python 3",
   "language": "python",
   "name": "python3"
  },
  "language_info": {
   "codemirror_mode": {
    "name": "ipython",
    "version": 3
   },
   "file_extension": ".py",
   "mimetype": "text/x-python",
   "name": "python",
   "nbconvert_exporter": "python",
   "pygments_lexer": "ipython3",
   "version": "3.9.2"
  }
 },
 "nbformat": 4,
 "nbformat_minor": 4
}
